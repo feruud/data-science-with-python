{
 "cells": [
  {
   "cell_type": "code",
   "execution_count": 1,
   "metadata": {
    "collapsed": true,
    "pycharm": {
     "is_executing": false
    }
   },
   "outputs": [],
   "source": [
    "# import pandas and load data set\n",
    "import pandas as pd\n",
    "\n",
    "dataset = '../data/Student_Bucketing.csv'\n",
    "\n",
    "df = pd.read_csv(dataset, header = 0)"
   ]
  },
  {
   "cell_type": "code",
   "execution_count": 2,
   "outputs": [
    {
     "data": {
      "text/plain": "   Student_id  Age      Grade Employed  marks\n0           1   19  1st Class      yes     29\n1           2   20  2nd Class       no     41\n2           3   18  1st Class       no     57\n3           4   21  2nd Class       no     29\n4           5   19  1st Class       no     57",
      "text/html": "<div>\n<style scoped>\n    .dataframe tbody tr th:only-of-type {\n        vertical-align: middle;\n    }\n\n    .dataframe tbody tr th {\n        vertical-align: top;\n    }\n\n    .dataframe thead th {\n        text-align: right;\n    }\n</style>\n<table border=\"1\" class=\"dataframe\">\n  <thead>\n    <tr style=\"text-align: right;\">\n      <th></th>\n      <th>Student_id</th>\n      <th>Age</th>\n      <th>Grade</th>\n      <th>Employed</th>\n      <th>marks</th>\n    </tr>\n  </thead>\n  <tbody>\n    <tr>\n      <th>0</th>\n      <td>1</td>\n      <td>19</td>\n      <td>1st Class</td>\n      <td>yes</td>\n      <td>29</td>\n    </tr>\n    <tr>\n      <th>1</th>\n      <td>2</td>\n      <td>20</td>\n      <td>2nd Class</td>\n      <td>no</td>\n      <td>41</td>\n    </tr>\n    <tr>\n      <th>2</th>\n      <td>3</td>\n      <td>18</td>\n      <td>1st Class</td>\n      <td>no</td>\n      <td>57</td>\n    </tr>\n    <tr>\n      <th>3</th>\n      <td>4</td>\n      <td>21</td>\n      <td>2nd Class</td>\n      <td>no</td>\n      <td>29</td>\n    </tr>\n    <tr>\n      <th>4</th>\n      <td>5</td>\n      <td>19</td>\n      <td>1st Class</td>\n      <td>no</td>\n      <td>57</td>\n    </tr>\n  </tbody>\n</table>\n</div>"
     },
     "metadata": {},
     "output_type": "execute_result",
     "execution_count": 2
    }
   ],
   "source": [
    "df.head()"
   ],
   "metadata": {
    "collapsed": false,
    "pycharm": {
     "name": "#%%\n",
     "is_executing": false
    }
   }
  },
  {
   "cell_type": "code",
   "execution_count": 4,
   "outputs": [
    {
     "data": {
      "text/plain": "   Student_id  Age      Grade Employed  marks         bucket\n0           1   19  1st Class      yes     29           Poor\n1           2   20  2nd Class       no     41  Below_average\n2           3   18  1st Class       no     57        Average\n3           4   21  2nd Class       no     29           Poor\n4           5   19  1st Class       no     57        Average\n5           6   20  2nd Class      yes     53        Average\n6           7   19  3rd Class      yes     78  Above_average\n7           8   21  3rd Class      yes     70  Above_average\n8           9   22  3rd Class      yes     97      Excellent\n9          10   21  1st Class       no     58        Average",
      "text/html": "<div>\n<style scoped>\n    .dataframe tbody tr th:only-of-type {\n        vertical-align: middle;\n    }\n\n    .dataframe tbody tr th {\n        vertical-align: top;\n    }\n\n    .dataframe thead th {\n        text-align: right;\n    }\n</style>\n<table border=\"1\" class=\"dataframe\">\n  <thead>\n    <tr style=\"text-align: right;\">\n      <th></th>\n      <th>Student_id</th>\n      <th>Age</th>\n      <th>Grade</th>\n      <th>Employed</th>\n      <th>marks</th>\n      <th>bucket</th>\n    </tr>\n  </thead>\n  <tbody>\n    <tr>\n      <th>0</th>\n      <td>1</td>\n      <td>19</td>\n      <td>1st Class</td>\n      <td>yes</td>\n      <td>29</td>\n      <td>Poor</td>\n    </tr>\n    <tr>\n      <th>1</th>\n      <td>2</td>\n      <td>20</td>\n      <td>2nd Class</td>\n      <td>no</td>\n      <td>41</td>\n      <td>Below_average</td>\n    </tr>\n    <tr>\n      <th>2</th>\n      <td>3</td>\n      <td>18</td>\n      <td>1st Class</td>\n      <td>no</td>\n      <td>57</td>\n      <td>Average</td>\n    </tr>\n    <tr>\n      <th>3</th>\n      <td>4</td>\n      <td>21</td>\n      <td>2nd Class</td>\n      <td>no</td>\n      <td>29</td>\n      <td>Poor</td>\n    </tr>\n    <tr>\n      <th>4</th>\n      <td>5</td>\n      <td>19</td>\n      <td>1st Class</td>\n      <td>no</td>\n      <td>57</td>\n      <td>Average</td>\n    </tr>\n    <tr>\n      <th>5</th>\n      <td>6</td>\n      <td>20</td>\n      <td>2nd Class</td>\n      <td>yes</td>\n      <td>53</td>\n      <td>Average</td>\n    </tr>\n    <tr>\n      <th>6</th>\n      <td>7</td>\n      <td>19</td>\n      <td>3rd Class</td>\n      <td>yes</td>\n      <td>78</td>\n      <td>Above_average</td>\n    </tr>\n    <tr>\n      <th>7</th>\n      <td>8</td>\n      <td>21</td>\n      <td>3rd Class</td>\n      <td>yes</td>\n      <td>70</td>\n      <td>Above_average</td>\n    </tr>\n    <tr>\n      <th>8</th>\n      <td>9</td>\n      <td>22</td>\n      <td>3rd Class</td>\n      <td>yes</td>\n      <td>97</td>\n      <td>Excellent</td>\n    </tr>\n    <tr>\n      <th>9</th>\n      <td>10</td>\n      <td>21</td>\n      <td>1st Class</td>\n      <td>no</td>\n      <td>58</td>\n      <td>Average</td>\n    </tr>\n  </tbody>\n</table>\n</div>"
     },
     "metadata": {},
     "output_type": "execute_result",
     "execution_count": 4
    }
   ],
   "source": [
    "df['bucket'] = pd.cut(df['marks'], 5, labels = ['Poor', 'Below_average', 'Average', 'Above_average', 'Excellent'])\n",
    "df.head(10)"
   ],
   "metadata": {
    "collapsed": false,
    "pycharm": {
     "name": "#%%\n",
     "is_executing": false
    }
   }
  },
  {
   "cell_type": "code",
   "execution_count": null,
   "outputs": [],
   "source": [
    "\n"
   ],
   "metadata": {
    "collapsed": false,
    "pycharm": {
     "name": "#%%\n"
    }
   }
  }
 ],
 "metadata": {
  "language_info": {
   "codemirror_mode": {
    "name": "ipython",
    "version": 2
   },
   "file_extension": ".py",
   "mimetype": "text/x-python",
   "name": "python",
   "nbconvert_exporter": "python",
   "pygments_lexer": "ipython2",
   "version": "2.7.6"
  },
  "kernelspec": {
   "name": "python3",
   "language": "python",
   "display_name": "Python 3"
  },
  "pycharm": {
   "stem_cell": {
    "cell_type": "raw",
    "source": [],
    "metadata": {
     "collapsed": false
    }
   }
  }
 },
 "nbformat": 4,
 "nbformat_minor": 0
}
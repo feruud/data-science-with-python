{
 "cells": [
  {
   "cell_type": "code",
   "execution_count": 1,
   "metadata": {
    "collapsed": true,
    "pycharm": {
     "is_executing": false
    }
   },
   "outputs": [],
   "source": [
    "# import pandas and load the dataset\n",
    "import pandas as pd\n",
    "\n",
    "dataset = '../data/Wholesale_Customers.csv'\n",
    "\n",
    "df = pd.read_csv(dataset, header = 0)"
   ]
  },
  {
   "cell_type": "code",
   "execution_count": 2,
   "outputs": [
    {
     "name": "stdout",
     "text": [
      "                   Null   Type\nChannel           False  int64\nRegion            False  int64\nFresh             False  int64\nMilk              False  int64\nGrocery           False  int64\nFrozen            False  int64\nDetergents_Paper  False  int64\nDelicassen        False  int64\n"
     ],
     "output_type": "stream"
    }
   ],
   "source": [
    "# check if there's any column with a NA value\n",
    "null_ = df.isna().any()\n",
    "\n",
    "# get column data types\n",
    "dtypes = df.dtypes\n",
    "\n",
    "# concatenate types and null status\n",
    "info = pd.concat([null_, dtypes], axis = 1, keys = ['Null', 'Type'])\n",
    "print(info)"
   ],
   "metadata": {
    "collapsed": false,
    "pycharm": {
     "name": "#%%\n",
     "is_executing": false
    }
   }
  },
  {
   "cell_type": "code",
   "execution_count": 4,
   "outputs": [
    {
     "data": {
      "text/plain": "   Channel  Region     Fresh      Milk   Grocery    Frozen  Detergents_Paper  \\\n0      1.0     1.0  0.112940  0.130727  0.081464  0.003106          0.065427   \n1      1.0     1.0  0.062899  0.132824  0.103097  0.028548          0.080590   \n2      1.0     1.0  0.056622  0.119181  0.082790  0.039116          0.086052   \n3      0.0     1.0  0.118254  0.015536  0.045464  0.104842          0.012346   \n4      1.0     1.0  0.201626  0.072914  0.077552  0.063934          0.043455   \n\n   Delicassen  \n0    0.027847  \n1    0.036984  \n2    0.163559  \n3    0.037234  \n4    0.108093  ",
      "text/html": "<div>\n<style scoped>\n    .dataframe tbody tr th:only-of-type {\n        vertical-align: middle;\n    }\n\n    .dataframe tbody tr th {\n        vertical-align: top;\n    }\n\n    .dataframe thead th {\n        text-align: right;\n    }\n</style>\n<table border=\"1\" class=\"dataframe\">\n  <thead>\n    <tr style=\"text-align: right;\">\n      <th></th>\n      <th>Channel</th>\n      <th>Region</th>\n      <th>Fresh</th>\n      <th>Milk</th>\n      <th>Grocery</th>\n      <th>Frozen</th>\n      <th>Detergents_Paper</th>\n      <th>Delicassen</th>\n    </tr>\n  </thead>\n  <tbody>\n    <tr>\n      <th>0</th>\n      <td>1.0</td>\n      <td>1.0</td>\n      <td>0.112940</td>\n      <td>0.130727</td>\n      <td>0.081464</td>\n      <td>0.003106</td>\n      <td>0.065427</td>\n      <td>0.027847</td>\n    </tr>\n    <tr>\n      <th>1</th>\n      <td>1.0</td>\n      <td>1.0</td>\n      <td>0.062899</td>\n      <td>0.132824</td>\n      <td>0.103097</td>\n      <td>0.028548</td>\n      <td>0.080590</td>\n      <td>0.036984</td>\n    </tr>\n    <tr>\n      <th>2</th>\n      <td>1.0</td>\n      <td>1.0</td>\n      <td>0.056622</td>\n      <td>0.119181</td>\n      <td>0.082790</td>\n      <td>0.039116</td>\n      <td>0.086052</td>\n      <td>0.163559</td>\n    </tr>\n    <tr>\n      <th>3</th>\n      <td>0.0</td>\n      <td>1.0</td>\n      <td>0.118254</td>\n      <td>0.015536</td>\n      <td>0.045464</td>\n      <td>0.104842</td>\n      <td>0.012346</td>\n      <td>0.037234</td>\n    </tr>\n    <tr>\n      <th>4</th>\n      <td>1.0</td>\n      <td>1.0</td>\n      <td>0.201626</td>\n      <td>0.072914</td>\n      <td>0.077552</td>\n      <td>0.063934</td>\n      <td>0.043455</td>\n      <td>0.108093</td>\n    </tr>\n  </tbody>\n</table>\n</div>"
     },
     "metadata": {},
     "output_type": "execute_result",
     "execution_count": 4
    }
   ],
   "source": [
    "# import MinMaxScaler from sklearn\n",
    "from sklearn.preprocessing import MinMaxScaler\n",
    "minmax_scaler = MinMaxScaler()\n",
    "\n",
    "minmax_scale = minmax_scaler.fit_transform(df)\n",
    "scaled_frame = pd.DataFrame(minmax_scale, columns = df.columns)\n",
    "scaled_frame.head()"
   ],
   "metadata": {
    "collapsed": false,
    "pycharm": {
     "name": "#%%\n",
     "is_executing": false
    }
   }
  },
  {
   "cell_type": "code",
   "execution_count": null,
   "outputs": [],
   "source": [
    "\n"
   ],
   "metadata": {
    "collapsed": false,
    "pycharm": {
     "name": "#%%\n"
    }
   }
  }
 ],
 "metadata": {
  "language_info": {
   "codemirror_mode": {
    "name": "ipython",
    "version": 2
   },
   "file_extension": ".py",
   "mimetype": "text/x-python",
   "name": "python",
   "nbconvert_exporter": "python",
   "pygments_lexer": "ipython2",
   "version": "2.7.6"
  },
  "kernelspec": {
   "name": "python3",
   "language": "python",
   "display_name": "Python 3"
  },
  "pycharm": {
   "stem_cell": {
    "cell_type": "raw",
    "source": [],
    "metadata": {
     "collapsed": false
    }
   }
  }
 },
 "nbformat": 4,
 "nbformat_minor": 0
}
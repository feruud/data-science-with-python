{
 "cells": [
  {
   "cell_type": "code",
   "execution_count": 1,
   "metadata": {
    "collapsed": true,
    "pycharm": {
     "is_executing": false
    }
   },
   "outputs": [],
   "source": [
    "# import pandas and read data sets from the csv files\n",
    "import pandas as pd\n",
    "\n",
    "dataset1 = '../data/Student.csv'\n",
    "dataset2 = '../data/Mark.csv'\n",
    "\n",
    "df1 = pd.read_csv(dataset1, header = 0)\n",
    "df2 = pd.read_csv(dataset2, header = 0)"
   ]
  },
  {
   "cell_type": "code",
   "execution_count": 2,
   "outputs": [
    {
     "data": {
      "text/plain": "   Student_id  Age  Gender      Grade Employed\n0           1   19    Male  1st Class      yes\n1           2   20  Female  2nd Class       no\n2           3   18    Male  1st Class       no\n3           4   21  Female  2nd Class       no\n4           5   19    Male  1st Class       no",
      "text/html": "<div>\n<style scoped>\n    .dataframe tbody tr th:only-of-type {\n        vertical-align: middle;\n    }\n\n    .dataframe tbody tr th {\n        vertical-align: top;\n    }\n\n    .dataframe thead th {\n        text-align: right;\n    }\n</style>\n<table border=\"1\" class=\"dataframe\">\n  <thead>\n    <tr style=\"text-align: right;\">\n      <th></th>\n      <th>Student_id</th>\n      <th>Age</th>\n      <th>Gender</th>\n      <th>Grade</th>\n      <th>Employed</th>\n    </tr>\n  </thead>\n  <tbody>\n    <tr>\n      <th>0</th>\n      <td>1</td>\n      <td>19</td>\n      <td>Male</td>\n      <td>1st Class</td>\n      <td>yes</td>\n    </tr>\n    <tr>\n      <th>1</th>\n      <td>2</td>\n      <td>20</td>\n      <td>Female</td>\n      <td>2nd Class</td>\n      <td>no</td>\n    </tr>\n    <tr>\n      <th>2</th>\n      <td>3</td>\n      <td>18</td>\n      <td>Male</td>\n      <td>1st Class</td>\n      <td>no</td>\n    </tr>\n    <tr>\n      <th>3</th>\n      <td>4</td>\n      <td>21</td>\n      <td>Female</td>\n      <td>2nd Class</td>\n      <td>no</td>\n    </tr>\n    <tr>\n      <th>4</th>\n      <td>5</td>\n      <td>19</td>\n      <td>Male</td>\n      <td>1st Class</td>\n      <td>no</td>\n    </tr>\n  </tbody>\n</table>\n</div>"
     },
     "metadata": {},
     "output_type": "execute_result",
     "execution_count": 2
    }
   ],
   "source": [
    "df1.head()"
   ],
   "metadata": {
    "collapsed": false,
    "pycharm": {
     "name": "#%%\n",
     "is_executing": false
    }
   }
  },
  {
   "cell_type": "code",
   "execution_count": 3,
   "outputs": [
    {
     "data": {
      "text/plain": "   Student_id  Mark     City\n0           1    95  Chennai\n1           2    70    Delhi\n2           3    98   Mumbai\n3           4    75     Pune\n4           5    89    Kochi",
      "text/html": "<div>\n<style scoped>\n    .dataframe tbody tr th:only-of-type {\n        vertical-align: middle;\n    }\n\n    .dataframe tbody tr th {\n        vertical-align: top;\n    }\n\n    .dataframe thead th {\n        text-align: right;\n    }\n</style>\n<table border=\"1\" class=\"dataframe\">\n  <thead>\n    <tr style=\"text-align: right;\">\n      <th></th>\n      <th>Student_id</th>\n      <th>Mark</th>\n      <th>City</th>\n    </tr>\n  </thead>\n  <tbody>\n    <tr>\n      <th>0</th>\n      <td>1</td>\n      <td>95</td>\n      <td>Chennai</td>\n    </tr>\n    <tr>\n      <th>1</th>\n      <td>2</td>\n      <td>70</td>\n      <td>Delhi</td>\n    </tr>\n    <tr>\n      <th>2</th>\n      <td>3</td>\n      <td>98</td>\n      <td>Mumbai</td>\n    </tr>\n    <tr>\n      <th>3</th>\n      <td>4</td>\n      <td>75</td>\n      <td>Pune</td>\n    </tr>\n    <tr>\n      <th>4</th>\n      <td>5</td>\n      <td>89</td>\n      <td>Kochi</td>\n    </tr>\n  </tbody>\n</table>\n</div>"
     },
     "metadata": {},
     "output_type": "execute_result",
     "execution_count": 3
    }
   ],
   "source": [
    "df2.head()"
   ],
   "metadata": {
    "collapsed": false,
    "pycharm": {
     "name": "#%%\n",
     "is_executing": false
    }
   }
  },
  {
   "cell_type": "code",
   "execution_count": 5,
   "outputs": [
    {
     "data": {
      "text/plain": "   Student_id  Age  Gender      Grade Employed  Mark     City\n0           1   19    Male  1st Class      yes    95  Chennai\n1           2   20  Female  2nd Class       no    70    Delhi\n2           3   18    Male  1st Class       no    98   Mumbai\n3           4   21  Female  2nd Class       no    75     Pune\n4           5   19    Male  1st Class       no    89    Kochi\n5           6   20    Male  2nd Class      yes    69  Gwalior\n6           7   19  Female  3rd Class      yes    52   Bhopal\n7           8   21    Male  3rd Class      yes    54  Chennai\n8           9   22  Female  3rd Class      yes    55    Delhi\n9          10   21    Male  1st Class       no    94   Mumbai",
      "text/html": "<div>\n<style scoped>\n    .dataframe tbody tr th:only-of-type {\n        vertical-align: middle;\n    }\n\n    .dataframe tbody tr th {\n        vertical-align: top;\n    }\n\n    .dataframe thead th {\n        text-align: right;\n    }\n</style>\n<table border=\"1\" class=\"dataframe\">\n  <thead>\n    <tr style=\"text-align: right;\">\n      <th></th>\n      <th>Student_id</th>\n      <th>Age</th>\n      <th>Gender</th>\n      <th>Grade</th>\n      <th>Employed</th>\n      <th>Mark</th>\n      <th>City</th>\n    </tr>\n  </thead>\n  <tbody>\n    <tr>\n      <th>0</th>\n      <td>1</td>\n      <td>19</td>\n      <td>Male</td>\n      <td>1st Class</td>\n      <td>yes</td>\n      <td>95</td>\n      <td>Chennai</td>\n    </tr>\n    <tr>\n      <th>1</th>\n      <td>2</td>\n      <td>20</td>\n      <td>Female</td>\n      <td>2nd Class</td>\n      <td>no</td>\n      <td>70</td>\n      <td>Delhi</td>\n    </tr>\n    <tr>\n      <th>2</th>\n      <td>3</td>\n      <td>18</td>\n      <td>Male</td>\n      <td>1st Class</td>\n      <td>no</td>\n      <td>98</td>\n      <td>Mumbai</td>\n    </tr>\n    <tr>\n      <th>3</th>\n      <td>4</td>\n      <td>21</td>\n      <td>Female</td>\n      <td>2nd Class</td>\n      <td>no</td>\n      <td>75</td>\n      <td>Pune</td>\n    </tr>\n    <tr>\n      <th>4</th>\n      <td>5</td>\n      <td>19</td>\n      <td>Male</td>\n      <td>1st Class</td>\n      <td>no</td>\n      <td>89</td>\n      <td>Kochi</td>\n    </tr>\n    <tr>\n      <th>5</th>\n      <td>6</td>\n      <td>20</td>\n      <td>Male</td>\n      <td>2nd Class</td>\n      <td>yes</td>\n      <td>69</td>\n      <td>Gwalior</td>\n    </tr>\n    <tr>\n      <th>6</th>\n      <td>7</td>\n      <td>19</td>\n      <td>Female</td>\n      <td>3rd Class</td>\n      <td>yes</td>\n      <td>52</td>\n      <td>Bhopal</td>\n    </tr>\n    <tr>\n      <th>7</th>\n      <td>8</td>\n      <td>21</td>\n      <td>Male</td>\n      <td>3rd Class</td>\n      <td>yes</td>\n      <td>54</td>\n      <td>Chennai</td>\n    </tr>\n    <tr>\n      <th>8</th>\n      <td>9</td>\n      <td>22</td>\n      <td>Female</td>\n      <td>3rd Class</td>\n      <td>yes</td>\n      <td>55</td>\n      <td>Delhi</td>\n    </tr>\n    <tr>\n      <th>9</th>\n      <td>10</td>\n      <td>21</td>\n      <td>Male</td>\n      <td>1st Class</td>\n      <td>no</td>\n      <td>94</td>\n      <td>Mumbai</td>\n    </tr>\n  </tbody>\n</table>\n</div>"
     },
     "metadata": {},
     "output_type": "execute_result",
     "execution_count": 5
    }
   ],
   "source": [
    "df = pd.merge(df1, df2, on = 'Student_id')\n",
    "df.head(10)"
   ],
   "metadata": {
    "collapsed": false,
    "pycharm": {
     "name": "#%%\n",
     "is_executing": false
    }
   }
  },
  {
   "cell_type": "code",
   "execution_count": null,
   "outputs": [],
   "source": [
    "\n"
   ],
   "metadata": {
    "collapsed": false,
    "pycharm": {
     "name": "#%%\n"
    }
   }
  }
 ],
 "metadata": {
  "language_info": {
   "codemirror_mode": {
    "name": "ipython",
    "version": 2
   },
   "file_extension": ".py",
   "mimetype": "text/x-python",
   "name": "python",
   "nbconvert_exporter": "python",
   "pygments_lexer": "ipython2",
   "version": "2.7.6"
  },
  "kernelspec": {
   "name": "python3",
   "language": "python",
   "display_name": "Python 3"
  },
  "pycharm": {
   "stem_cell": {
    "cell_type": "raw",
    "source": [],
    "metadata": {
     "collapsed": false
    }
   }
  }
 },
 "nbformat": 4,
 "nbformat_minor": 0
}
{
 "cells": [
  {
   "cell_type": "code",
   "execution_count": 2,
   "metadata": {
    "collapsed": true,
    "pycharm": {
     "is_executing": false
    }
   },
   "outputs": [],
   "source": [
    "y = [5, 5.5, 5, 5.5, 6, 6.5, 6, 6.5, 7, 5.5, 5.25, 6, 5.25]\n",
    "x = [100, 150, 110, 140, 140, 170, 168, 165, 180, 125, 115, 155, 135]"
   ]
  },
  {
   "cell_type": "code",
   "execution_count": 6,
   "outputs": [],
   "source": [
    "from scipy.stats import pearsonr\n",
    "\n",
    "correlation_coeff, p_value = pearsonr(x = x, y = y)"
   ],
   "metadata": {
    "collapsed": false,
    "pycharm": {
     "name": "#%%\n",
     "is_executing": false
    }
   }
  },
  {
   "cell_type": "code",
   "execution_count": 11,
   "outputs": [],
   "source": [
    "if correlation_coeff == 1.0:\n",
    "    title = 'There is a perfect linear relationship (r = {0:0.2f}).'\n",
    "elif correlation_coeff >= 0.8:\n",
    "    title = 'There is a very strong, positive linear relationship (r = {0:0.2f}).'\n",
    "elif correlation_coeff >=0.6:\n",
    "    title = 'There is a very strong, positive linear relationship (r = {0:0.2f}).'\n",
    "elif correlation_coeff >= 0.4:\n",
    "    title = 'There is a moderate, positive linear relationship (r = {0:0.2f}).'\n",
    "elif correlation_coeff >= 0.2:\n",
    "    title = 'There is a weak, positive linear relationship (r = {0:0.2f}).'\n",
    "elif correlation_coeff > 0:\n",
    "    title = 'There is a very weak, positive linear relationship (r = {0:0.2f}).'\n",
    "elif correlation_coeff == 0:\n",
    "    title = 'There is no linear relationship (r = {0:0.2f}).'\n",
    "elif correlation_coeff <= -0.8:\n",
    "    title = 'There is a very strong, negative linear relationship (r = {0:0.2f}).'\n",
    "elif correlation_coeff <= -0.6:\n",
    "    title = 'There is a strong, negative linear relationship (r = {0:0.2f}).'\n",
    "elif correlation_coeff <= -0.4:\n",
    "    title = 'There is a moderate, negative linear relationship (r = {0:0.2f}).'\n",
    "elif correlation_coeff <= -0.2:\n",
    "    title = 'There is a weak, negative linear relationship (r = {0:0.2f}).'\n",
    "else:\n",
    "    title = 'There is a very weak, negative linear relationship (r = {0:0.2f}).'\n",
    "    "
   ],
   "metadata": {
    "collapsed": false,
    "pycharm": {
     "name": "#%%\n",
     "is_executing": false
    }
   }
  },
  {
   "cell_type": "code",
   "execution_count": 12,
   "outputs": [
    {
     "data": {
      "text/plain": "<Figure size 432x288 with 1 Axes>",
      "image/png": "[encoded data removed]"
     },
     "metadata": {
      "needs_background": "light"
     },
     "output_type": "display_data"
    }
   ],
   "source": [
    "import matplotlib.pyplot as plt\n",
    "\n",
    "plt.scatter(x = x, y = y)\n",
    "plt.title(title.format(correlation_coeff))\n",
    "plt.xlabel('Weight')\n",
    "plt.ylabel('Height')\n",
    "plt.show()"
   ],
   "metadata": {
    "collapsed": false,
    "pycharm": {
     "name": "#%%\n",
     "is_executing": false
    }
   }
  },
  {
   "cell_type": "code",
   "execution_count": null,
   "outputs": [],
   "source": [],
   "metadata": {
    "collapsed": false,
    "pycharm": {
     "name": "#%%\n"
    }
   }
  }
 ],
 "metadata": {
  "kernelspec": {
   "display_name": "Python 3",
   "language": "python",
   "name": "python3"
  },
  "language_info": {
   "codemirror_mode": {
    "name": "ipython",
    "version": 2
   },
   "file_extension": ".py",
   "mimetype": "text/x-python",
   "name": "python",
   "nbconvert_exporter": "python",
   "pygments_lexer": "ipython2",
   "version": "2.7.6"
  },
  "pycharm": {
   "stem_cell": {
    "cell_type": "raw",
    "source": [],
    "metadata": {
     "collapsed": false
    }
   }
  }
 },
 "nbformat": 4,
 "nbformat_minor": 0
}
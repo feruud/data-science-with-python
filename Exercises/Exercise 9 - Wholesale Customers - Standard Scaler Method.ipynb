{
 "cells": [
  {
   "cell_type": "code",
   "execution_count": 1,
   "metadata": {
    "collapsed": true,
    "pycharm": {
     "is_executing": false
    }
   },
   "outputs": [],
   "source": [
    "# import pandas and load the dataset\n",
    "import pandas as pd\n",
    "\n",
    "dataset = '../data/Wholesale_Customers.csv'\n",
    "\n",
    "df = pd.read_csv(dataset, header = 0)"
   ]
  },
  {
   "cell_type": "code",
   "execution_count": 2,
   "outputs": [
    {
     "name": "stdout",
     "text": [
      "                   Null   Type\nChannel           False  int64\nRegion            False  int64\nFresh             False  int64\nMilk              False  int64\nGrocery           False  int64\nFrozen            False  int64\nDetergents_Paper  False  int64\nDelicassen        False  int64\n"
     ],
     "output_type": "stream"
    }
   ],
   "source": [
    "# check if there's any column with a NA value\n",
    "null_ = df.isna().any()\n",
    "\n",
    "# get column data types\n",
    "dtypes = df.dtypes\n",
    "\n",
    "# concatenate types and null status\n",
    "info = pd.concat([null_, dtypes], axis = 1, keys = ['Null', 'Type'])\n",
    "print(info)"
   ],
   "metadata": {
    "collapsed": false,
    "pycharm": {
     "name": "#%%\n",
     "is_executing": false
    }
   }
  },
  {
   "cell_type": "code",
   "execution_count": 10,
   "outputs": [
    {
     "data": {
      "text/plain": "    Channel    Region     Fresh      Milk   Grocery    Frozen  \\\n0  1.448652  0.590668  0.052933  0.523568 -0.041115 -0.589367   \n1  1.448652  0.590668 -0.391302  0.544458  0.170318 -0.270136   \n2  1.448652  0.590668 -0.447029  0.408538 -0.028157 -0.137536   \n3 -0.690297  0.590668  0.100111 -0.624020 -0.392977  0.687144   \n4  1.448652  0.590668  0.840239 -0.052396 -0.079356  0.173859   \n\n   Detergents_Paper  Delicassen  \n0         -0.043569   -0.066339  \n1          0.086407    0.089151  \n2          0.133232    2.243293  \n3         -0.498588    0.093411  \n4         -0.231918    1.299347  ",
      "text/html": "<div>\n<style scoped>\n    .dataframe tbody tr th:only-of-type {\n        vertical-align: middle;\n    }\n\n    .dataframe tbody tr th {\n        vertical-align: top;\n    }\n\n    .dataframe thead th {\n        text-align: right;\n    }\n</style>\n<table border=\"1\" class=\"dataframe\">\n  <thead>\n    <tr style=\"text-align: right;\">\n      <th></th>\n      <th>Channel</th>\n      <th>Region</th>\n      <th>Fresh</th>\n      <th>Milk</th>\n      <th>Grocery</th>\n      <th>Frozen</th>\n      <th>Detergents_Paper</th>\n      <th>Delicassen</th>\n    </tr>\n  </thead>\n  <tbody>\n    <tr>\n      <th>0</th>\n      <td>1.448652</td>\n      <td>0.590668</td>\n      <td>0.052933</td>\n      <td>0.523568</td>\n      <td>-0.041115</td>\n      <td>-0.589367</td>\n      <td>-0.043569</td>\n      <td>-0.066339</td>\n    </tr>\n    <tr>\n      <th>1</th>\n      <td>1.448652</td>\n      <td>0.590668</td>\n      <td>-0.391302</td>\n      <td>0.544458</td>\n      <td>0.170318</td>\n      <td>-0.270136</td>\n      <td>0.086407</td>\n      <td>0.089151</td>\n    </tr>\n    <tr>\n      <th>2</th>\n      <td>1.448652</td>\n      <td>0.590668</td>\n      <td>-0.447029</td>\n      <td>0.408538</td>\n      <td>-0.028157</td>\n      <td>-0.137536</td>\n      <td>0.133232</td>\n      <td>2.243293</td>\n    </tr>\n    <tr>\n      <th>3</th>\n      <td>-0.690297</td>\n      <td>0.590668</td>\n      <td>0.100111</td>\n      <td>-0.624020</td>\n      <td>-0.392977</td>\n      <td>0.687144</td>\n      <td>-0.498588</td>\n      <td>0.093411</td>\n    </tr>\n    <tr>\n      <th>4</th>\n      <td>1.448652</td>\n      <td>0.590668</td>\n      <td>0.840239</td>\n      <td>-0.052396</td>\n      <td>-0.079356</td>\n      <td>0.173859</td>\n      <td>-0.231918</td>\n      <td>1.299347</td>\n    </tr>\n  </tbody>\n</table>\n</div>"
     },
     "metadata": {},
     "output_type": "execute_result",
     "execution_count": 10
    }
   ],
   "source": [
    "# import the standard scaler\n",
    "from sklearn.preprocessing import StandardScaler\n",
    "standard_scaler = StandardScaler()\n",
    "\n",
    "std_scale = standard_scaler.fit_transform(df)\n",
    "scaled_frame = pd.DataFrame(std_scale, columns = df.columns)\n",
    "scaled_frame.head()"
   ],
   "metadata": {
    "collapsed": false,
    "pycharm": {
     "name": "#%%\n",
     "is_executing": false
    }
   }
  },
  {
   "cell_type": "code",
   "execution_count": null,
   "outputs": [],
   "source": [
    "\n"
   ],
   "metadata": {
    "collapsed": false,
    "pycharm": {
     "name": "#%%\n"
    }
   }
  }
 ],
 "metadata": {
  "language_info": {
   "codemirror_mode": {
    "name": "ipython",
    "version": 2
   },
   "file_extension": ".py",
   "mimetype": "text/x-python",
   "name": "python",
   "nbconvert_exporter": "python",
   "pygments_lexer": "ipython2",
   "version": "2.7.6"
  },
  "kernelspec": {
   "name": "python3",
   "language": "python",
   "display_name": "Python 3"
  },
  "pycharm": {
   "stem_cell": {
    "cell_type": "raw",
    "source": [],
    "metadata": {
     "collapsed": false
    }
   }
  }
 },
 "nbformat": 4,
 "nbformat_minor": 0
}
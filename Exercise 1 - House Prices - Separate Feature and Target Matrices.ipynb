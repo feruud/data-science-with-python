{
 "cells": [
  {
   "cell_type": "code",
   "execution_count": 3,
   "metadata": {
    "pycharm": {
     "is_executing": false
    }
   },
   "outputs": [],
   "source": [
    "# import pandas\n",
    "import pandas as pd\n",
    "\n",
    "# set the dataset path\n",
    "dataset = \"data/USA_Housing.csv\"\n",
    "\n",
    "# read csv to a data frame\n",
    "df = pd.read_csv(dataset, header = 0)"
   ]
  },
  {
   "cell_type": "code",
   "execution_count": 4,
   "metadata": {
    "pycharm": {
     "is_executing": false
    }
   },
   "outputs": [
    {
     "data": {
      "text/plain": "   Avg. Area Income  Avg. Area House Age  Avg. Area Number of Rooms  \\\n0      79545.458574             5.682861                   7.009188   \n1      79248.642455             6.002900                   6.730821   \n2      61287.067179             5.865890                   8.512727   \n3      63345.240046             7.188236                   5.586729   \n4      59982.197226             5.040555                   7.839388   \n\n   Avg. Area Number of Bedrooms  Area Population         Price  \\\n0                          4.09     23086.800503  1.059034e+06   \n1                          3.09     40173.072174  1.505891e+06   \n2                          5.13     36882.159400  1.058988e+06   \n3                          3.26     34310.242831  1.260617e+06   \n4                          4.23     26354.109472  6.309435e+05   \n\n                                             Address  \n0  208 Michael Ferry Apt. 674\\nLaurabury, NE 3701...  \n1  188 Johnson Views Suite 079\\nLake Kathleen, CA...  \n2  9127 Elizabeth Stravenue\\nDanieltown, WI 06482...  \n3                          USS Barnett\\nFPO AP 44820  \n4                         USNS Raymond\\nFPO AE 09386  ",
      "text/html": "<div>\n<style scoped>\n    .dataframe tbody tr th:only-of-type {\n        vertical-align: middle;\n    }\n\n    .dataframe tbody tr th {\n        vertical-align: top;\n    }\n\n    .dataframe thead th {\n        text-align: right;\n    }\n</style>\n<table border=\"1\" class=\"dataframe\">\n  <thead>\n    <tr style=\"text-align: right;\">\n      <th></th>\n      <th>Avg. Area Income</th>\n      <th>Avg. Area House Age</th>\n      <th>Avg. Area Number of Rooms</th>\n      <th>Avg. Area Number of Bedrooms</th>\n      <th>Area Population</th>\n      <th>Price</th>\n      <th>Address</th>\n    </tr>\n  </thead>\n  <tbody>\n    <tr>\n      <th>0</th>\n      <td>79545.458574</td>\n      <td>5.682861</td>\n      <td>7.009188</td>\n      <td>4.09</td>\n      <td>23086.800503</td>\n      <td>1.059034e+06</td>\n      <td>208 Michael Ferry Apt. 674\\nLaurabury, NE 3701...</td>\n    </tr>\n    <tr>\n      <th>1</th>\n      <td>79248.642455</td>\n      <td>6.002900</td>\n      <td>6.730821</td>\n      <td>3.09</td>\n      <td>40173.072174</td>\n      <td>1.505891e+06</td>\n      <td>188 Johnson Views Suite 079\\nLake Kathleen, CA...</td>\n    </tr>\n    <tr>\n      <th>2</th>\n      <td>61287.067179</td>\n      <td>5.865890</td>\n      <td>8.512727</td>\n      <td>5.13</td>\n      <td>36882.159400</td>\n      <td>1.058988e+06</td>\n      <td>9127 Elizabeth Stravenue\\nDanieltown, WI 06482...</td>\n    </tr>\n    <tr>\n      <th>3</th>\n      <td>63345.240046</td>\n      <td>7.188236</td>\n      <td>5.586729</td>\n      <td>3.26</td>\n      <td>34310.242831</td>\n      <td>1.260617e+06</td>\n      <td>USS Barnett\\nFPO AP 44820</td>\n    </tr>\n    <tr>\n      <th>4</th>\n      <td>59982.197226</td>\n      <td>5.040555</td>\n      <td>7.839388</td>\n      <td>4.23</td>\n      <td>26354.109472</td>\n      <td>6.309435e+05</td>\n      <td>USNS Raymond\\nFPO AE 09386</td>\n    </tr>\n  </tbody>\n</table>\n</div>"
     },
     "metadata": {},
     "output_type": "execute_result",
     "execution_count": 4
    }
   ],
   "source": [
    "# show first 5 rows\n",
    "df.head()"
   ]
  },
  {
   "cell_type": "code",
   "execution_count": 5,
   "metadata": {
    "pycharm": {
     "is_executing": false
    }
   },
   "outputs": [
    {
     "data": {
      "text/plain": "Index(['Avg. Area Income', 'Avg. Area House Age', 'Avg. Area Number of Rooms',\n       'Avg. Area Number of Bedrooms', 'Area Population', 'Price', 'Address'],\n      dtype='object')"
     },
     "metadata": {},
     "output_type": "execute_result",
     "execution_count": 5
    }
   ],
   "source": [
    "# show all the columns in the data frame\n",
    "df.columns"
   ]
  },
  {
   "cell_type": "code",
   "execution_count": 6,
   "metadata": {
    "pycharm": {
     "is_executing": false
    }
   },
   "outputs": [
    {
     "data": {
      "text/plain": "RangeIndex(start=0, stop=5000, step=1)"
     },
     "metadata": {},
     "output_type": "execute_result",
     "execution_count": 6
    }
   ],
   "source": [
    "# get the number of rows\n",
    "df.index"
   ]
  },
  {
   "cell_type": "code",
   "execution_count": 7,
   "metadata": {
    "pycharm": {
     "is_executing": false
    }
   },
   "outputs": [
    {
     "data": {
      "text/plain": "                                                    Avg. Area Income  \\\nAddress                                                                \n208 Michael Ferry Apt. 674\\nLaurabury, NE 37010...      79545.458574   \n188 Johnson Views Suite 079\\nLake Kathleen, CA ...      79248.642455   \n9127 Elizabeth Stravenue\\nDanieltown, WI 06482-...      61287.067179   \nUSS Barnett\\nFPO AP 44820                               63345.240046   \nUSNS Raymond\\nFPO AE 09386                              59982.197226   \n...                                                              ...   \nUSNS Williams\\nFPO AP 30153-7653                        60567.944140   \nPSC 9258, Box 8489\\nAPO AA 42991-3352                   78491.275435   \n4215 Tracy Garden Suite 076\\nJoshualand, VA 017...      63390.686886   \nUSS Wallace\\nFPO AE 73316                               68001.331235   \n37778 George Ridges Apt. 509\\nEast Holly, NV 29...      65510.581804   \n\n                                                    Avg. Area House Age  \\\nAddress                                                                   \n208 Michael Ferry Apt. 674\\nLaurabury, NE 37010...             5.682861   \n188 Johnson Views Suite 079\\nLake Kathleen, CA ...             6.002900   \n9127 Elizabeth Stravenue\\nDanieltown, WI 06482-...             5.865890   \nUSS Barnett\\nFPO AP 44820                                      7.188236   \nUSNS Raymond\\nFPO AE 09386                                     5.040555   \n...                                                                 ...   \nUSNS Williams\\nFPO AP 30153-7653                               7.830362   \nPSC 9258, Box 8489\\nAPO AA 42991-3352                          6.999135   \n4215 Tracy Garden Suite 076\\nJoshualand, VA 017...             7.250591   \nUSS Wallace\\nFPO AE 73316                                      5.534388   \n37778 George Ridges Apt. 509\\nEast Holly, NV 29...             5.992305   \n\n                                                    Avg. Area Number of Rooms  \\\nAddress                                                                         \n208 Michael Ferry Apt. 674\\nLaurabury, NE 37010...                   7.009188   \n188 Johnson Views Suite 079\\nLake Kathleen, CA ...                   6.730821   \n9127 Elizabeth Stravenue\\nDanieltown, WI 06482-...                   8.512727   \nUSS Barnett\\nFPO AP 44820                                            5.586729   \nUSNS Raymond\\nFPO AE 09386                                           7.839388   \n...                                                                       ...   \nUSNS Williams\\nFPO AP 30153-7653                                     6.137356   \nPSC 9258, Box 8489\\nAPO AA 42991-3352                                6.576763   \n4215 Tracy Garden Suite 076\\nJoshualand, VA 017...                   4.805081   \nUSS Wallace\\nFPO AE 73316                                            7.130144   \n37778 George Ridges Apt. 509\\nEast Holly, NV 29...                   6.792336   \n\n                                                    Avg. Area Number of Bedrooms  \\\nAddress                                                                            \n208 Michael Ferry Apt. 674\\nLaurabury, NE 37010...                          4.09   \n188 Johnson Views Suite 079\\nLake Kathleen, CA ...                          3.09   \n9127 Elizabeth Stravenue\\nDanieltown, WI 06482-...                          5.13   \nUSS Barnett\\nFPO AP 44820                                                   3.26   \nUSNS Raymond\\nFPO AE 09386                                                  4.23   \n...                                                                          ...   \nUSNS Williams\\nFPO AP 30153-7653                                            3.46   \nPSC 9258, Box 8489\\nAPO AA 42991-3352                                       4.02   \n4215 Tracy Garden Suite 076\\nJoshualand, VA 017...                          2.13   \nUSS Wallace\\nFPO AE 73316                                                   5.44   \n37778 George Ridges Apt. 509\\nEast Holly, NV 29...                          4.07   \n\n                                                    Area Population  \\\nAddress                                                               \n208 Michael Ferry Apt. 674\\nLaurabury, NE 37010...     23086.800503   \n188 Johnson Views Suite 079\\nLake Kathleen, CA ...     40173.072174   \n9127 Elizabeth Stravenue\\nDanieltown, WI 06482-...     36882.159400   \nUSS Barnett\\nFPO AP 44820                              34310.242831   \nUSNS Raymond\\nFPO AE 09386                             26354.109472   \n...                                                             ...   \nUSNS Williams\\nFPO AP 30153-7653                       22837.361035   \nPSC 9258, Box 8489\\nAPO AA 42991-3352                  25616.115489   \n4215 Tracy Garden Suite 076\\nJoshualand, VA 017...     33266.145490   \nUSS Wallace\\nFPO AE 73316                              42625.620156   \n37778 George Ridges Apt. 509\\nEast Holly, NV 29...     46501.283803   \n\n                                                           Price  \nAddress                                                           \n208 Michael Ferry Apt. 674\\nLaurabury, NE 37010...  1.059034e+06  \n188 Johnson Views Suite 079\\nLake Kathleen, CA ...  1.505891e+06  \n9127 Elizabeth Stravenue\\nDanieltown, WI 06482-...  1.058988e+06  \nUSS Barnett\\nFPO AP 44820                           1.260617e+06  \nUSNS Raymond\\nFPO AE 09386                          6.309435e+05  \n...                                                          ...  \nUSNS Williams\\nFPO AP 30153-7653                    1.060194e+06  \nPSC 9258, Box 8489\\nAPO AA 42991-3352               1.482618e+06  \n4215 Tracy Garden Suite 076\\nJoshualand, VA 017...  1.030730e+06  \nUSS Wallace\\nFPO AE 73316                           1.198657e+06  \n37778 George Ridges Apt. 509\\nEast Holly, NV 29...  1.298950e+06  \n\n[5000 rows x 6 columns]",
      "text/html": "<div>\n<style scoped>\n    .dataframe tbody tr th:only-of-type {\n        vertical-align: middle;\n    }\n\n    .dataframe tbody tr th {\n        vertical-align: top;\n    }\n\n    .dataframe thead th {\n        text-align: right;\n    }\n</style>\n<table border=\"1\" class=\"dataframe\">\n  <thead>\n    <tr style=\"text-align: right;\">\n      <th></th>\n      <th>Avg. Area Income</th>\n      <th>Avg. Area House Age</th>\n      <th>Avg. Area Number of Rooms</th>\n      <th>Avg. Area Number of Bedrooms</th>\n      <th>Area Population</th>\n      <th>Price</th>\n    </tr>\n    <tr>\n      <th>Address</th>\n      <th></th>\n      <th></th>\n      <th></th>\n      <th></th>\n      <th></th>\n      <th></th>\n    </tr>\n  </thead>\n  <tbody>\n    <tr>\n      <th>208 Michael Ferry Apt. 674\\nLaurabury, NE 37010-5101</th>\n      <td>79545.458574</td>\n      <td>5.682861</td>\n      <td>7.009188</td>\n      <td>4.09</td>\n      <td>23086.800503</td>\n      <td>1.059034e+06</td>\n    </tr>\n    <tr>\n      <th>188 Johnson Views Suite 079\\nLake Kathleen, CA 48958</th>\n      <td>79248.642455</td>\n      <td>6.002900</td>\n      <td>6.730821</td>\n      <td>3.09</td>\n      <td>40173.072174</td>\n      <td>1.505891e+06</td>\n    </tr>\n    <tr>\n      <th>9127 Elizabeth Stravenue\\nDanieltown, WI 06482-3489</th>\n      <td>61287.067179</td>\n      <td>5.865890</td>\n      <td>8.512727</td>\n      <td>5.13</td>\n      <td>36882.159400</td>\n      <td>1.058988e+06</td>\n    </tr>\n    <tr>\n      <th>USS Barnett\\nFPO AP 44820</th>\n      <td>63345.240046</td>\n      <td>7.188236</td>\n      <td>5.586729</td>\n      <td>3.26</td>\n      <td>34310.242831</td>\n      <td>1.260617e+06</td>\n    </tr>\n    <tr>\n      <th>USNS Raymond\\nFPO AE 09386</th>\n      <td>59982.197226</td>\n      <td>5.040555</td>\n      <td>7.839388</td>\n      <td>4.23</td>\n      <td>26354.109472</td>\n      <td>6.309435e+05</td>\n    </tr>\n    <tr>\n      <th>06039 Jennifer Islands Apt. 443\\nTracyport, KS 16077</th>\n      <td>80175.754159</td>\n      <td>4.988408</td>\n      <td>6.104512</td>\n      <td>4.04</td>\n      <td>26748.428425</td>\n      <td>1.068138e+06</td>\n    </tr>\n    <tr>\n      <th>4759 Daniel Shoals Suite 442\\nNguyenburgh, CO 20247</th>\n      <td>64698.463428</td>\n      <td>6.025336</td>\n      <td>8.147760</td>\n      <td>3.41</td>\n      <td>60828.249085</td>\n      <td>1.502056e+06</td>\n    </tr>\n    <tr>\n      <th>972 Joyce Viaduct\\nLake William, TN 17778-6483</th>\n      <td>78394.339278</td>\n      <td>6.989780</td>\n      <td>6.620478</td>\n      <td>2.42</td>\n      <td>36516.358972</td>\n      <td>1.573937e+06</td>\n    </tr>\n    <tr>\n      <th>USS Gilbert\\nFPO AA 20957</th>\n      <td>59927.660813</td>\n      <td>5.362126</td>\n      <td>6.393121</td>\n      <td>2.30</td>\n      <td>29387.396003</td>\n      <td>7.988695e+05</td>\n    </tr>\n    <tr>\n      <th>Unit 9446 Box 0958\\nDPO AE 97025</th>\n      <td>81885.927184</td>\n      <td>4.423672</td>\n      <td>8.167688</td>\n      <td>6.10</td>\n      <td>40149.965749</td>\n      <td>1.545155e+06</td>\n    </tr>\n    <tr>\n      <th>6368 John Motorway Suite 700\\nJanetbury, NM 26854</th>\n      <td>80527.472083</td>\n      <td>8.093513</td>\n      <td>5.042747</td>\n      <td>4.10</td>\n      <td>47224.359840</td>\n      <td>1.707046e+06</td>\n    </tr>\n    <tr>\n      <th>911 Castillo Park Apt. 717\\nDavisborough, PW 78603</th>\n      <td>50593.695497</td>\n      <td>4.496513</td>\n      <td>7.467627</td>\n      <td>4.49</td>\n      <td>34343.991886</td>\n      <td>6.637324e+05</td>\n    </tr>\n    <tr>\n      <th>209 Natasha Stream Suite 961\\nHuffmanland, NE 52457</th>\n      <td>39033.809237</td>\n      <td>7.671755</td>\n      <td>7.250029</td>\n      <td>3.10</td>\n      <td>39220.361467</td>\n      <td>1.042814e+06</td>\n    </tr>\n    <tr>\n      <th>829 Welch Track Apt. 992\\nNorth John, AR 26532-5136</th>\n      <td>73163.663441</td>\n      <td>6.919535</td>\n      <td>5.993188</td>\n      <td>2.27</td>\n      <td>32326.123139</td>\n      <td>1.291332e+06</td>\n    </tr>\n    <tr>\n      <th>PSC 5330, Box 4420\\nAPO AP 08302</th>\n      <td>69391.380184</td>\n      <td>5.344776</td>\n      <td>8.406418</td>\n      <td>4.37</td>\n      <td>35521.294033</td>\n      <td>1.402818e+06</td>\n    </tr>\n    <tr>\n      <th>2278 Shannon View\\nNorth Carriemouth, NM 84617</th>\n      <td>73091.866746</td>\n      <td>5.443156</td>\n      <td>8.517513</td>\n      <td>4.01</td>\n      <td>23929.524053</td>\n      <td>1.306675e+06</td>\n    </tr>\n    <tr>\n      <th>064 Hayley Unions\\nNicholsborough, HI 44161-1887</th>\n      <td>79706.963058</td>\n      <td>5.067890</td>\n      <td>8.219771</td>\n      <td>3.12</td>\n      <td>39717.813576</td>\n      <td>1.556787e+06</td>\n    </tr>\n    <tr>\n      <th>5498 Rachel Locks\\nNew Gregoryshire, PW 54755</th>\n      <td>61929.077018</td>\n      <td>4.788550</td>\n      <td>5.097010</td>\n      <td>4.30</td>\n      <td>24595.901498</td>\n      <td>5.284852e+05</td>\n    </tr>\n    <tr>\n      <th>Unit 7424 Box 2786\\nDPO AE 71255</th>\n      <td>63508.194299</td>\n      <td>5.947165</td>\n      <td>7.187774</td>\n      <td>5.12</td>\n      <td>35719.653052</td>\n      <td>1.019426e+06</td>\n    </tr>\n    <tr>\n      <th>19696 Benjamin Cape\\nStephentown, ME 36952-4733</th>\n      <td>62085.276403</td>\n      <td>5.739411</td>\n      <td>7.091808</td>\n      <td>5.49</td>\n      <td>44922.106702</td>\n      <td>1.030591e+06</td>\n    </tr>\n    <tr>\n      <th>030 Larry Park Suite 665\\nThomashaven, HI 87941-5197</th>\n      <td>86294.999089</td>\n      <td>6.627457</td>\n      <td>8.011898</td>\n      <td>4.07</td>\n      <td>47560.775336</td>\n      <td>2.146925e+06</td>\n    </tr>\n    <tr>\n      <th>USNS Brown\\nFPO AP 85833</th>\n      <td>60835.089979</td>\n      <td>5.551222</td>\n      <td>6.517175</td>\n      <td>2.10</td>\n      <td>45574.741662</td>\n      <td>9.292476e+05</td>\n    </tr>\n    <tr>\n      <th>95198 Ortiz Key\\nPort Sara, TN 24541-2855</th>\n      <td>64490.650267</td>\n      <td>4.210323</td>\n      <td>5.478088</td>\n      <td>4.31</td>\n      <td>40358.960106</td>\n      <td>7.188872e+05</td>\n    </tr>\n    <tr>\n      <th>9003 Jay Plains Suite 838\\nLake Elizabeth, IN 90622-0804</th>\n      <td>60697.351539</td>\n      <td>6.170484</td>\n      <td>7.150537</td>\n      <td>6.34</td>\n      <td>28140.967088</td>\n      <td>7.439998e+05</td>\n    </tr>\n    <tr>\n      <th>24282 Paul Valley\\nWest Perry, MI 03169-5806</th>\n      <td>59748.855487</td>\n      <td>5.339340</td>\n      <td>7.748682</td>\n      <td>4.23</td>\n      <td>27809.986544</td>\n      <td>8.957371e+05</td>\n    </tr>\n    <tr>\n      <th>61938 Brady Falls\\nLewisfort, DE 61227</th>\n      <td>56974.476539</td>\n      <td>8.287562</td>\n      <td>7.312880</td>\n      <td>4.33</td>\n      <td>40694.869513</td>\n      <td>1.453975e+06</td>\n    </tr>\n    <tr>\n      <th>3599 Ramirez Springs\\nJacksonhaven, AZ 72798</th>\n      <td>82173.626076</td>\n      <td>4.018525</td>\n      <td>6.992699</td>\n      <td>2.03</td>\n      <td>38853.918066</td>\n      <td>1.125693e+06</td>\n    </tr>\n    <tr>\n      <th>073 Christopher Falls Suite 882\\nWest Cynthia, MA 89075-2814</th>\n      <td>64626.880978</td>\n      <td>5.443360</td>\n      <td>6.988754</td>\n      <td>4.00</td>\n      <td>27784.742280</td>\n      <td>9.754295e+05</td>\n    </tr>\n    <tr>\n      <th>6531 Chase Prairie Apt. 245\\nSusanshire, MN 22365</th>\n      <td>90499.057451</td>\n      <td>6.384359</td>\n      <td>4.242191</td>\n      <td>3.04</td>\n      <td>33970.164990</td>\n      <td>1.240764e+06</td>\n    </tr>\n    <tr>\n      <th>17124 Johnson Squares\\nLake Robertfurt, AL 61811-3832</th>\n      <td>59323.792100</td>\n      <td>6.977828</td>\n      <td>8.273697</td>\n      <td>4.07</td>\n      <td>37520.657732</td>\n      <td>1.577018e+06</td>\n    </tr>\n    <tr>\n      <th>...</th>\n      <td>...</td>\n      <td>...</td>\n      <td>...</td>\n      <td>...</td>\n      <td>...</td>\n      <td>...</td>\n    </tr>\n    <tr>\n      <th>2558 King Trail\\nEast Catherinebury, MP 23625-1906</th>\n      <td>55980.204807</td>\n      <td>7.014510</td>\n      <td>5.458789</td>\n      <td>2.11</td>\n      <td>43968.687046</td>\n      <td>1.120943e+06</td>\n    </tr>\n    <tr>\n      <th>6043 Stevens Stream\\nWest Kimberlymouth, ME 49723</th>\n      <td>73491.134427</td>\n      <td>5.784430</td>\n      <td>4.425959</td>\n      <td>3.37</td>\n      <td>30800.541060</td>\n      <td>1.111307e+06</td>\n    </tr>\n    <tr>\n      <th>33465 Hernandez Forest Apt. 692\\nPort Ashleyfort, KS 51871-6439</th>\n      <td>83695.272383</td>\n      <td>7.643507</td>\n      <td>7.127219</td>\n      <td>5.05</td>\n      <td>33113.759057</td>\n      <td>1.736402e+06</td>\n    </tr>\n    <tr>\n      <th>805 David Knoll Apt. 216\\nMccarthyview, GU 74316</th>\n      <td>78743.759274</td>\n      <td>6.583685</td>\n      <td>6.595683</td>\n      <td>4.07</td>\n      <td>24381.144540</td>\n      <td>1.340770e+06</td>\n    </tr>\n    <tr>\n      <th>14742 Lopez Ridge Apt. 889\\nJessicatown, CA 28254</th>\n      <td>70720.296463</td>\n      <td>6.411801</td>\n      <td>5.048128</td>\n      <td>3.01</td>\n      <td>19114.019253</td>\n      <td>8.013486e+05</td>\n    </tr>\n    <tr>\n      <th>6278 Jenkins Harbors Apt. 807\\nNew Yvettehaven, MN 34295</th>\n      <td>54037.580879</td>\n      <td>8.471765</td>\n      <td>6.966072</td>\n      <td>3.27</td>\n      <td>28696.170856</td>\n      <td>1.324382e+06</td>\n    </tr>\n    <tr>\n      <th>55823 Stuart Fields\\nNunezstad, NM 03601</th>\n      <td>75046.313791</td>\n      <td>5.351169</td>\n      <td>7.797825</td>\n      <td>5.23</td>\n      <td>34107.888619</td>\n      <td>1.340344e+06</td>\n    </tr>\n    <tr>\n      <th>1831 Escobar Plain Suite 171\\nMartinezberg, OH 76148-5909</th>\n      <td>75980.438843</td>\n      <td>6.583105</td>\n      <td>5.914892</td>\n      <td>3.23</td>\n      <td>40394.593489</td>\n      <td>1.518478e+06</td>\n    </tr>\n    <tr>\n      <th>02084 Rivera Lock\\nHallville, NJ 32367-9579</th>\n      <td>80393.339500</td>\n      <td>8.899713</td>\n      <td>5.652974</td>\n      <td>4.04</td>\n      <td>39547.932489</td>\n      <td>1.910585e+06</td>\n    </tr>\n    <tr>\n      <th>4679 Turner Tunnel\\nRosariobury, CT 68552-4766</th>\n      <td>82224.695006</td>\n      <td>5.434087</td>\n      <td>8.375708</td>\n      <td>3.12</td>\n      <td>57166.867510</td>\n      <td>1.823498e+06</td>\n    </tr>\n    <tr>\n      <th>0476 Jessica Shoals\\nMelissamouth, DE 39609-2777</th>\n      <td>75664.024482</td>\n      <td>5.789203</td>\n      <td>6.415312</td>\n      <td>2.02</td>\n      <td>54724.251275</td>\n      <td>1.406865e+06</td>\n    </tr>\n    <tr>\n      <th>1316 Tony Inlet Suite 235\\nWest Jimmy, SC 72946</th>\n      <td>71663.871293</td>\n      <td>6.150745</td>\n      <td>7.311907</td>\n      <td>6.33</td>\n      <td>24109.778060</td>\n      <td>1.203850e+06</td>\n    </tr>\n    <tr>\n      <th>109 Lee Wall Apt. 315\\nLunamouth, AZ 05121-3634</th>\n      <td>58800.908770</td>\n      <td>5.976507</td>\n      <td>7.304051</td>\n      <td>6.43</td>\n      <td>37426.709745</td>\n      <td>1.020096e+06</td>\n    </tr>\n    <tr>\n      <th>39174 Jessica Mission Apt. 539\\nWest Cindyborough, WV 82109-6583</th>\n      <td>69655.183954</td>\n      <td>7.721100</td>\n      <td>6.077795</td>\n      <td>4.29</td>\n      <td>32902.355584</td>\n      <td>1.194357e+06</td>\n    </tr>\n    <tr>\n      <th>9894 Greg Ridge\\nNorth Tiffanyhaven, ID 66602-9445</th>\n      <td>62623.359828</td>\n      <td>5.071624</td>\n      <td>6.771015</td>\n      <td>3.33</td>\n      <td>50985.971202</td>\n      <td>1.211900e+06</td>\n    </tr>\n    <tr>\n      <th>PSC 7442, Box 6234\\nAPO AP 13017</th>\n      <td>75117.042949</td>\n      <td>6.036275</td>\n      <td>6.538111</td>\n      <td>2.22</td>\n      <td>43976.031060</td>\n      <td>1.378938e+06</td>\n    </tr>\n    <tr>\n      <th>5611 Matthew Avenue\\nLake Kevin, FM 72963-8891</th>\n      <td>71060.406015</td>\n      <td>5.718839</td>\n      <td>7.222730</td>\n      <td>4.34</td>\n      <td>34814.585591</td>\n      <td>1.260241e+06</td>\n    </tr>\n    <tr>\n      <th>641 Lisa Parkways Suite 552\\nWest Amandaside, SD 71807-8061</th>\n      <td>65729.222330</td>\n      <td>6.237787</td>\n      <td>6.860475</td>\n      <td>3.12</td>\n      <td>25573.854289</td>\n      <td>1.197073e+06</td>\n    </tr>\n    <tr>\n      <th>6066 Sanders Court Apt. 914\\nSouth Alexis, FM 21016</th>\n      <td>67637.840665</td>\n      <td>7.056673</td>\n      <td>5.774409</td>\n      <td>3.05</td>\n      <td>43846.531340</td>\n      <td>1.275143e+06</td>\n    </tr>\n    <tr>\n      <th>19960 Scott Street\\nPort Brenda, MO 02292-8651</th>\n      <td>47965.406896</td>\n      <td>5.694638</td>\n      <td>7.363327</td>\n      <td>5.40</td>\n      <td>46071.947337</td>\n      <td>8.852050e+05</td>\n    </tr>\n    <tr>\n      <th>86727 Kelly Plaza\\nLake Veronica, IL 04474</th>\n      <td>52723.876555</td>\n      <td>5.452237</td>\n      <td>8.124571</td>\n      <td>6.39</td>\n      <td>14802.088438</td>\n      <td>4.795006e+05</td>\n    </tr>\n    <tr>\n      <th>2871 John Lodge\\nAmychester, GU 61734-5597</th>\n      <td>74102.191890</td>\n      <td>5.657841</td>\n      <td>7.683993</td>\n      <td>3.13</td>\n      <td>24041.270592</td>\n      <td>1.263721e+06</td>\n    </tr>\n    <tr>\n      <th>Unit 2096 Box 9559\\nDPO AE 80983-8797</th>\n      <td>87499.125743</td>\n      <td>6.403473</td>\n      <td>4.836091</td>\n      <td>4.02</td>\n      <td>40815.199679</td>\n      <td>1.568701e+06</td>\n    </tr>\n    <tr>\n      <th>5259 David Causeway Apt. 975\\nSouth Alexstad, IL 42719-2498</th>\n      <td>69639.140896</td>\n      <td>5.007510</td>\n      <td>7.778375</td>\n      <td>6.05</td>\n      <td>54056.128430</td>\n      <td>1.381831e+06</td>\n    </tr>\n    <tr>\n      <th>5224 Lamb Passage\\nNancystad, GA 16579</th>\n      <td>73060.846226</td>\n      <td>5.293682</td>\n      <td>6.312253</td>\n      <td>4.16</td>\n      <td>22695.695480</td>\n      <td>9.053549e+05</td>\n    </tr>\n    <tr>\n      <th>USNS Williams\\nFPO AP 30153-7653</th>\n      <td>60567.944140</td>\n      <td>7.830362</td>\n      <td>6.137356</td>\n      <td>3.46</td>\n      <td>22837.361035</td>\n      <td>1.060194e+06</td>\n    </tr>\n    <tr>\n      <th>PSC 9258, Box 8489\\nAPO AA 42991-3352</th>\n      <td>78491.275435</td>\n      <td>6.999135</td>\n      <td>6.576763</td>\n      <td>4.02</td>\n      <td>25616.115489</td>\n      <td>1.482618e+06</td>\n    </tr>\n    <tr>\n      <th>4215 Tracy Garden Suite 076\\nJoshualand, VA 01707-9165</th>\n      <td>63390.686886</td>\n      <td>7.250591</td>\n      <td>4.805081</td>\n      <td>2.13</td>\n      <td>33266.145490</td>\n      <td>1.030730e+06</td>\n    </tr>\n    <tr>\n      <th>USS Wallace\\nFPO AE 73316</th>\n      <td>68001.331235</td>\n      <td>5.534388</td>\n      <td>7.130144</td>\n      <td>5.44</td>\n      <td>42625.620156</td>\n      <td>1.198657e+06</td>\n    </tr>\n    <tr>\n      <th>37778 George Ridges Apt. 509\\nEast Holly, NV 29290-3595</th>\n      <td>65510.581804</td>\n      <td>5.992305</td>\n      <td>6.792336</td>\n      <td>4.07</td>\n      <td>46501.283803</td>\n      <td>1.298950e+06</td>\n    </tr>\n  </tbody>\n</table>\n<p>5000 rows × 6 columns</p>\n</div>"
     },
     "metadata": {},
     "output_type": "execute_result",
     "execution_count": 7
    }
   ],
   "source": [
    "# set the address as the data frame index\n",
    "df.set_index('Address', inplace = True)\n",
    "df"
   ]
  },
  {
   "cell_type": "code",
   "execution_count": 8,
   "metadata": {
    "pycharm": {
     "is_executing": false
    }
   },
   "outputs": [
    {
     "data": {
      "text/plain": "                                                Address  Avg. Area Income  \\\n0     208 Michael Ferry Apt. 674\\nLaurabury, NE 3701...      79545.458574   \n1     188 Johnson Views Suite 079\\nLake Kathleen, CA...      79248.642455   \n2     9127 Elizabeth Stravenue\\nDanieltown, WI 06482...      61287.067179   \n3                             USS Barnett\\nFPO AP 44820      63345.240046   \n4                            USNS Raymond\\nFPO AE 09386      59982.197226   \n...                                                 ...               ...   \n4995                   USNS Williams\\nFPO AP 30153-7653      60567.944140   \n4996              PSC 9258, Box 8489\\nAPO AA 42991-3352      78491.275435   \n4997  4215 Tracy Garden Suite 076\\nJoshualand, VA 01...      63390.686886   \n4998                          USS Wallace\\nFPO AE 73316      68001.331235   \n4999  37778 George Ridges Apt. 509\\nEast Holly, NV 2...      65510.581804   \n\n      Avg. Area House Age  Avg. Area Number of Rooms  \\\n0                5.682861                   7.009188   \n1                6.002900                   6.730821   \n2                5.865890                   8.512727   \n3                7.188236                   5.586729   \n4                5.040555                   7.839388   \n...                   ...                        ...   \n4995             7.830362                   6.137356   \n4996             6.999135                   6.576763   \n4997             7.250591                   4.805081   \n4998             5.534388                   7.130144   \n4999             5.992305                   6.792336   \n\n      Avg. Area Number of Bedrooms  Area Population         Price  \n0                             4.09     23086.800503  1.059034e+06  \n1                             3.09     40173.072174  1.505891e+06  \n2                             5.13     36882.159400  1.058988e+06  \n3                             3.26     34310.242831  1.260617e+06  \n4                             4.23     26354.109472  6.309435e+05  \n...                            ...              ...           ...  \n4995                          3.46     22837.361035  1.060194e+06  \n4996                          4.02     25616.115489  1.482618e+06  \n4997                          2.13     33266.145490  1.030730e+06  \n4998                          5.44     42625.620156  1.198657e+06  \n4999                          4.07     46501.283803  1.298950e+06  \n\n[5000 rows x 7 columns]",
      "text/html": "<div>\n<style scoped>\n    .dataframe tbody tr th:only-of-type {\n        vertical-align: middle;\n    }\n\n    .dataframe tbody tr th {\n        vertical-align: top;\n    }\n\n    .dataframe thead th {\n        text-align: right;\n    }\n</style>\n<table border=\"1\" class=\"dataframe\">\n  <thead>\n    <tr style=\"text-align: right;\">\n      <th></th>\n      <th>Address</th>\n      <th>Avg. Area Income</th>\n      <th>Avg. Area House Age</th>\n      <th>Avg. Area Number of Rooms</th>\n      <th>Avg. Area Number of Bedrooms</th>\n      <th>Area Population</th>\n      <th>Price</th>\n    </tr>\n  </thead>\n  <tbody>\n    <tr>\n      <th>0</th>\n      <td>208 Michael Ferry Apt. 674\\nLaurabury, NE 3701...</td>\n      <td>79545.458574</td>\n      <td>5.682861</td>\n      <td>7.009188</td>\n      <td>4.09</td>\n      <td>23086.800503</td>\n      <td>1.059034e+06</td>\n    </tr>\n    <tr>\n      <th>1</th>\n      <td>188 Johnson Views Suite 079\\nLake Kathleen, CA...</td>\n      <td>79248.642455</td>\n      <td>6.002900</td>\n      <td>6.730821</td>\n      <td>3.09</td>\n      <td>40173.072174</td>\n      <td>1.505891e+06</td>\n    </tr>\n    <tr>\n      <th>2</th>\n      <td>9127 Elizabeth Stravenue\\nDanieltown, WI 06482...</td>\n      <td>61287.067179</td>\n      <td>5.865890</td>\n      <td>8.512727</td>\n      <td>5.13</td>\n      <td>36882.159400</td>\n      <td>1.058988e+06</td>\n    </tr>\n    <tr>\n      <th>3</th>\n      <td>USS Barnett\\nFPO AP 44820</td>\n      <td>63345.240046</td>\n      <td>7.188236</td>\n      <td>5.586729</td>\n      <td>3.26</td>\n      <td>34310.242831</td>\n      <td>1.260617e+06</td>\n    </tr>\n    <tr>\n      <th>4</th>\n      <td>USNS Raymond\\nFPO AE 09386</td>\n      <td>59982.197226</td>\n      <td>5.040555</td>\n      <td>7.839388</td>\n      <td>4.23</td>\n      <td>26354.109472</td>\n      <td>6.309435e+05</td>\n    </tr>\n    <tr>\n      <th>5</th>\n      <td>06039 Jennifer Islands Apt. 443\\nTracyport, KS...</td>\n      <td>80175.754159</td>\n      <td>4.988408</td>\n      <td>6.104512</td>\n      <td>4.04</td>\n      <td>26748.428425</td>\n      <td>1.068138e+06</td>\n    </tr>\n    <tr>\n      <th>6</th>\n      <td>4759 Daniel Shoals Suite 442\\nNguyenburgh, CO ...</td>\n      <td>64698.463428</td>\n      <td>6.025336</td>\n      <td>8.147760</td>\n      <td>3.41</td>\n      <td>60828.249085</td>\n      <td>1.502056e+06</td>\n    </tr>\n    <tr>\n      <th>7</th>\n      <td>972 Joyce Viaduct\\nLake William, TN 17778-6483</td>\n      <td>78394.339278</td>\n      <td>6.989780</td>\n      <td>6.620478</td>\n      <td>2.42</td>\n      <td>36516.358972</td>\n      <td>1.573937e+06</td>\n    </tr>\n    <tr>\n      <th>8</th>\n      <td>USS Gilbert\\nFPO AA 20957</td>\n      <td>59927.660813</td>\n      <td>5.362126</td>\n      <td>6.393121</td>\n      <td>2.30</td>\n      <td>29387.396003</td>\n      <td>7.988695e+05</td>\n    </tr>\n    <tr>\n      <th>9</th>\n      <td>Unit 9446 Box 0958\\nDPO AE 97025</td>\n      <td>81885.927184</td>\n      <td>4.423672</td>\n      <td>8.167688</td>\n      <td>6.10</td>\n      <td>40149.965749</td>\n      <td>1.545155e+06</td>\n    </tr>\n    <tr>\n      <th>10</th>\n      <td>6368 John Motorway Suite 700\\nJanetbury, NM 26854</td>\n      <td>80527.472083</td>\n      <td>8.093513</td>\n      <td>5.042747</td>\n      <td>4.10</td>\n      <td>47224.359840</td>\n      <td>1.707046e+06</td>\n    </tr>\n    <tr>\n      <th>11</th>\n      <td>911 Castillo Park Apt. 717\\nDavisborough, PW 7...</td>\n      <td>50593.695497</td>\n      <td>4.496513</td>\n      <td>7.467627</td>\n      <td>4.49</td>\n      <td>34343.991886</td>\n      <td>6.637324e+05</td>\n    </tr>\n    <tr>\n      <th>12</th>\n      <td>209 Natasha Stream Suite 961\\nHuffmanland, NE ...</td>\n      <td>39033.809237</td>\n      <td>7.671755</td>\n      <td>7.250029</td>\n      <td>3.10</td>\n      <td>39220.361467</td>\n      <td>1.042814e+06</td>\n    </tr>\n    <tr>\n      <th>13</th>\n      <td>829 Welch Track Apt. 992\\nNorth John, AR 26532...</td>\n      <td>73163.663441</td>\n      <td>6.919535</td>\n      <td>5.993188</td>\n      <td>2.27</td>\n      <td>32326.123139</td>\n      <td>1.291332e+06</td>\n    </tr>\n    <tr>\n      <th>14</th>\n      <td>PSC 5330, Box 4420\\nAPO AP 08302</td>\n      <td>69391.380184</td>\n      <td>5.344776</td>\n      <td>8.406418</td>\n      <td>4.37</td>\n      <td>35521.294033</td>\n      <td>1.402818e+06</td>\n    </tr>\n    <tr>\n      <th>15</th>\n      <td>2278 Shannon View\\nNorth Carriemouth, NM 84617</td>\n      <td>73091.866746</td>\n      <td>5.443156</td>\n      <td>8.517513</td>\n      <td>4.01</td>\n      <td>23929.524053</td>\n      <td>1.306675e+06</td>\n    </tr>\n    <tr>\n      <th>16</th>\n      <td>064 Hayley Unions\\nNicholsborough, HI 44161-1887</td>\n      <td>79706.963058</td>\n      <td>5.067890</td>\n      <td>8.219771</td>\n      <td>3.12</td>\n      <td>39717.813576</td>\n      <td>1.556787e+06</td>\n    </tr>\n    <tr>\n      <th>17</th>\n      <td>5498 Rachel Locks\\nNew Gregoryshire, PW 54755</td>\n      <td>61929.077018</td>\n      <td>4.788550</td>\n      <td>5.097010</td>\n      <td>4.30</td>\n      <td>24595.901498</td>\n      <td>5.284852e+05</td>\n    </tr>\n    <tr>\n      <th>18</th>\n      <td>Unit 7424 Box 2786\\nDPO AE 71255</td>\n      <td>63508.194299</td>\n      <td>5.947165</td>\n      <td>7.187774</td>\n      <td>5.12</td>\n      <td>35719.653052</td>\n      <td>1.019426e+06</td>\n    </tr>\n    <tr>\n      <th>19</th>\n      <td>19696 Benjamin Cape\\nStephentown, ME 36952-4733</td>\n      <td>62085.276403</td>\n      <td>5.739411</td>\n      <td>7.091808</td>\n      <td>5.49</td>\n      <td>44922.106702</td>\n      <td>1.030591e+06</td>\n    </tr>\n    <tr>\n      <th>20</th>\n      <td>030 Larry Park Suite 665\\nThomashaven, HI 8794...</td>\n      <td>86294.999089</td>\n      <td>6.627457</td>\n      <td>8.011898</td>\n      <td>4.07</td>\n      <td>47560.775336</td>\n      <td>2.146925e+06</td>\n    </tr>\n    <tr>\n      <th>21</th>\n      <td>USNS Brown\\nFPO AP 85833</td>\n      <td>60835.089979</td>\n      <td>5.551222</td>\n      <td>6.517175</td>\n      <td>2.10</td>\n      <td>45574.741662</td>\n      <td>9.292476e+05</td>\n    </tr>\n    <tr>\n      <th>22</th>\n      <td>95198 Ortiz Key\\nPort Sara, TN 24541-2855</td>\n      <td>64490.650267</td>\n      <td>4.210323</td>\n      <td>5.478088</td>\n      <td>4.31</td>\n      <td>40358.960106</td>\n      <td>7.188872e+05</td>\n    </tr>\n    <tr>\n      <th>23</th>\n      <td>9003 Jay Plains Suite 838\\nLake Elizabeth, IN ...</td>\n      <td>60697.351539</td>\n      <td>6.170484</td>\n      <td>7.150537</td>\n      <td>6.34</td>\n      <td>28140.967088</td>\n      <td>7.439998e+05</td>\n    </tr>\n    <tr>\n      <th>24</th>\n      <td>24282 Paul Valley\\nWest Perry, MI 03169-5806</td>\n      <td>59748.855487</td>\n      <td>5.339340</td>\n      <td>7.748682</td>\n      <td>4.23</td>\n      <td>27809.986544</td>\n      <td>8.957371e+05</td>\n    </tr>\n    <tr>\n      <th>25</th>\n      <td>61938 Brady Falls\\nLewisfort, DE 61227</td>\n      <td>56974.476539</td>\n      <td>8.287562</td>\n      <td>7.312880</td>\n      <td>4.33</td>\n      <td>40694.869513</td>\n      <td>1.453975e+06</td>\n    </tr>\n    <tr>\n      <th>26</th>\n      <td>3599 Ramirez Springs\\nJacksonhaven, AZ 72798</td>\n      <td>82173.626076</td>\n      <td>4.018525</td>\n      <td>6.992699</td>\n      <td>2.03</td>\n      <td>38853.918066</td>\n      <td>1.125693e+06</td>\n    </tr>\n    <tr>\n      <th>27</th>\n      <td>073 Christopher Falls Suite 882\\nWest Cynthia,...</td>\n      <td>64626.880978</td>\n      <td>5.443360</td>\n      <td>6.988754</td>\n      <td>4.00</td>\n      <td>27784.742280</td>\n      <td>9.754295e+05</td>\n    </tr>\n    <tr>\n      <th>28</th>\n      <td>6531 Chase Prairie Apt. 245\\nSusanshire, MN 22365</td>\n      <td>90499.057451</td>\n      <td>6.384359</td>\n      <td>4.242191</td>\n      <td>3.04</td>\n      <td>33970.164990</td>\n      <td>1.240764e+06</td>\n    </tr>\n    <tr>\n      <th>29</th>\n      <td>17124 Johnson Squares\\nLake Robertfurt, AL 618...</td>\n      <td>59323.792100</td>\n      <td>6.977828</td>\n      <td>8.273697</td>\n      <td>4.07</td>\n      <td>37520.657732</td>\n      <td>1.577018e+06</td>\n    </tr>\n    <tr>\n      <th>...</th>\n      <td>...</td>\n      <td>...</td>\n      <td>...</td>\n      <td>...</td>\n      <td>...</td>\n      <td>...</td>\n      <td>...</td>\n    </tr>\n    <tr>\n      <th>4970</th>\n      <td>2558 King Trail\\nEast Catherinebury, MP 23625-...</td>\n      <td>55980.204807</td>\n      <td>7.014510</td>\n      <td>5.458789</td>\n      <td>2.11</td>\n      <td>43968.687046</td>\n      <td>1.120943e+06</td>\n    </tr>\n    <tr>\n      <th>4971</th>\n      <td>6043 Stevens Stream\\nWest Kimberlymouth, ME 49723</td>\n      <td>73491.134427</td>\n      <td>5.784430</td>\n      <td>4.425959</td>\n      <td>3.37</td>\n      <td>30800.541060</td>\n      <td>1.111307e+06</td>\n    </tr>\n    <tr>\n      <th>4972</th>\n      <td>33465 Hernandez Forest Apt. 692\\nPort Ashleyfo...</td>\n      <td>83695.272383</td>\n      <td>7.643507</td>\n      <td>7.127219</td>\n      <td>5.05</td>\n      <td>33113.759057</td>\n      <td>1.736402e+06</td>\n    </tr>\n    <tr>\n      <th>4973</th>\n      <td>805 David Knoll Apt. 216\\nMccarthyview, GU 74316</td>\n      <td>78743.759274</td>\n      <td>6.583685</td>\n      <td>6.595683</td>\n      <td>4.07</td>\n      <td>24381.144540</td>\n      <td>1.340770e+06</td>\n    </tr>\n    <tr>\n      <th>4974</th>\n      <td>14742 Lopez Ridge Apt. 889\\nJessicatown, CA 28254</td>\n      <td>70720.296463</td>\n      <td>6.411801</td>\n      <td>5.048128</td>\n      <td>3.01</td>\n      <td>19114.019253</td>\n      <td>8.013486e+05</td>\n    </tr>\n    <tr>\n      <th>4975</th>\n      <td>6278 Jenkins Harbors Apt. 807\\nNew Yvettehaven...</td>\n      <td>54037.580879</td>\n      <td>8.471765</td>\n      <td>6.966072</td>\n      <td>3.27</td>\n      <td>28696.170856</td>\n      <td>1.324382e+06</td>\n    </tr>\n    <tr>\n      <th>4976</th>\n      <td>55823 Stuart Fields\\nNunezstad, NM 03601</td>\n      <td>75046.313791</td>\n      <td>5.351169</td>\n      <td>7.797825</td>\n      <td>5.23</td>\n      <td>34107.888619</td>\n      <td>1.340344e+06</td>\n    </tr>\n    <tr>\n      <th>4977</th>\n      <td>1831 Escobar Plain Suite 171\\nMartinezberg, OH...</td>\n      <td>75980.438843</td>\n      <td>6.583105</td>\n      <td>5.914892</td>\n      <td>3.23</td>\n      <td>40394.593489</td>\n      <td>1.518478e+06</td>\n    </tr>\n    <tr>\n      <th>4978</th>\n      <td>02084 Rivera Lock\\nHallville, NJ 32367-9579</td>\n      <td>80393.339500</td>\n      <td>8.899713</td>\n      <td>5.652974</td>\n      <td>4.04</td>\n      <td>39547.932489</td>\n      <td>1.910585e+06</td>\n    </tr>\n    <tr>\n      <th>4979</th>\n      <td>4679 Turner Tunnel\\nRosariobury, CT 68552-4766</td>\n      <td>82224.695006</td>\n      <td>5.434087</td>\n      <td>8.375708</td>\n      <td>3.12</td>\n      <td>57166.867510</td>\n      <td>1.823498e+06</td>\n    </tr>\n    <tr>\n      <th>4980</th>\n      <td>0476 Jessica Shoals\\nMelissamouth, DE 39609-2777</td>\n      <td>75664.024482</td>\n      <td>5.789203</td>\n      <td>6.415312</td>\n      <td>2.02</td>\n      <td>54724.251275</td>\n      <td>1.406865e+06</td>\n    </tr>\n    <tr>\n      <th>4981</th>\n      <td>1316 Tony Inlet Suite 235\\nWest Jimmy, SC 72946</td>\n      <td>71663.871293</td>\n      <td>6.150745</td>\n      <td>7.311907</td>\n      <td>6.33</td>\n      <td>24109.778060</td>\n      <td>1.203850e+06</td>\n    </tr>\n    <tr>\n      <th>4982</th>\n      <td>109 Lee Wall Apt. 315\\nLunamouth, AZ 05121-3634</td>\n      <td>58800.908770</td>\n      <td>5.976507</td>\n      <td>7.304051</td>\n      <td>6.43</td>\n      <td>37426.709745</td>\n      <td>1.020096e+06</td>\n    </tr>\n    <tr>\n      <th>4983</th>\n      <td>39174 Jessica Mission Apt. 539\\nWest Cindyboro...</td>\n      <td>69655.183954</td>\n      <td>7.721100</td>\n      <td>6.077795</td>\n      <td>4.29</td>\n      <td>32902.355584</td>\n      <td>1.194357e+06</td>\n    </tr>\n    <tr>\n      <th>4984</th>\n      <td>9894 Greg Ridge\\nNorth Tiffanyhaven, ID 66602-...</td>\n      <td>62623.359828</td>\n      <td>5.071624</td>\n      <td>6.771015</td>\n      <td>3.33</td>\n      <td>50985.971202</td>\n      <td>1.211900e+06</td>\n    </tr>\n    <tr>\n      <th>4985</th>\n      <td>PSC 7442, Box 6234\\nAPO AP 13017</td>\n      <td>75117.042949</td>\n      <td>6.036275</td>\n      <td>6.538111</td>\n      <td>2.22</td>\n      <td>43976.031060</td>\n      <td>1.378938e+06</td>\n    </tr>\n    <tr>\n      <th>4986</th>\n      <td>5611 Matthew Avenue\\nLake Kevin, FM 72963-8891</td>\n      <td>71060.406015</td>\n      <td>5.718839</td>\n      <td>7.222730</td>\n      <td>4.34</td>\n      <td>34814.585591</td>\n      <td>1.260241e+06</td>\n    </tr>\n    <tr>\n      <th>4987</th>\n      <td>641 Lisa Parkways Suite 552\\nWest Amandaside, ...</td>\n      <td>65729.222330</td>\n      <td>6.237787</td>\n      <td>6.860475</td>\n      <td>3.12</td>\n      <td>25573.854289</td>\n      <td>1.197073e+06</td>\n    </tr>\n    <tr>\n      <th>4988</th>\n      <td>6066 Sanders Court Apt. 914\\nSouth Alexis, FM ...</td>\n      <td>67637.840665</td>\n      <td>7.056673</td>\n      <td>5.774409</td>\n      <td>3.05</td>\n      <td>43846.531340</td>\n      <td>1.275143e+06</td>\n    </tr>\n    <tr>\n      <th>4989</th>\n      <td>19960 Scott Street\\nPort Brenda, MO 02292-8651</td>\n      <td>47965.406896</td>\n      <td>5.694638</td>\n      <td>7.363327</td>\n      <td>5.40</td>\n      <td>46071.947337</td>\n      <td>8.852050e+05</td>\n    </tr>\n    <tr>\n      <th>4990</th>\n      <td>86727 Kelly Plaza\\nLake Veronica, IL 04474</td>\n      <td>52723.876555</td>\n      <td>5.452237</td>\n      <td>8.124571</td>\n      <td>6.39</td>\n      <td>14802.088438</td>\n      <td>4.795006e+05</td>\n    </tr>\n    <tr>\n      <th>4991</th>\n      <td>2871 John Lodge\\nAmychester, GU 61734-5597</td>\n      <td>74102.191890</td>\n      <td>5.657841</td>\n      <td>7.683993</td>\n      <td>3.13</td>\n      <td>24041.270592</td>\n      <td>1.263721e+06</td>\n    </tr>\n    <tr>\n      <th>4992</th>\n      <td>Unit 2096 Box 9559\\nDPO AE 80983-8797</td>\n      <td>87499.125743</td>\n      <td>6.403473</td>\n      <td>4.836091</td>\n      <td>4.02</td>\n      <td>40815.199679</td>\n      <td>1.568701e+06</td>\n    </tr>\n    <tr>\n      <th>4993</th>\n      <td>5259 David Causeway Apt. 975\\nSouth Alexstad, ...</td>\n      <td>69639.140896</td>\n      <td>5.007510</td>\n      <td>7.778375</td>\n      <td>6.05</td>\n      <td>54056.128430</td>\n      <td>1.381831e+06</td>\n    </tr>\n    <tr>\n      <th>4994</th>\n      <td>5224 Lamb Passage\\nNancystad, GA 16579</td>\n      <td>73060.846226</td>\n      <td>5.293682</td>\n      <td>6.312253</td>\n      <td>4.16</td>\n      <td>22695.695480</td>\n      <td>9.053549e+05</td>\n    </tr>\n    <tr>\n      <th>4995</th>\n      <td>USNS Williams\\nFPO AP 30153-7653</td>\n      <td>60567.944140</td>\n      <td>7.830362</td>\n      <td>6.137356</td>\n      <td>3.46</td>\n      <td>22837.361035</td>\n      <td>1.060194e+06</td>\n    </tr>\n    <tr>\n      <th>4996</th>\n      <td>PSC 9258, Box 8489\\nAPO AA 42991-3352</td>\n      <td>78491.275435</td>\n      <td>6.999135</td>\n      <td>6.576763</td>\n      <td>4.02</td>\n      <td>25616.115489</td>\n      <td>1.482618e+06</td>\n    </tr>\n    <tr>\n      <th>4997</th>\n      <td>4215 Tracy Garden Suite 076\\nJoshualand, VA 01...</td>\n      <td>63390.686886</td>\n      <td>7.250591</td>\n      <td>4.805081</td>\n      <td>2.13</td>\n      <td>33266.145490</td>\n      <td>1.030730e+06</td>\n    </tr>\n    <tr>\n      <th>4998</th>\n      <td>USS Wallace\\nFPO AE 73316</td>\n      <td>68001.331235</td>\n      <td>5.534388</td>\n      <td>7.130144</td>\n      <td>5.44</td>\n      <td>42625.620156</td>\n      <td>1.198657e+06</td>\n    </tr>\n    <tr>\n      <th>4999</th>\n      <td>37778 George Ridges Apt. 509\\nEast Holly, NV 2...</td>\n      <td>65510.581804</td>\n      <td>5.992305</td>\n      <td>6.792336</td>\n      <td>4.07</td>\n      <td>46501.283803</td>\n      <td>1.298950e+06</td>\n    </tr>\n  </tbody>\n</table>\n<p>5000 rows × 7 columns</p>\n</div>"
     },
     "metadata": {},
     "output_type": "execute_result",
     "execution_count": 8
    }
   ],
   "source": [
    "# reset the data frame index\n",
    "df.reset_index(inplace = True)\n",
    "df"
   ]
  },
  {
   "cell_type": "code",
   "execution_count": 9,
   "metadata": {
    "pycharm": {
     "is_executing": false
    }
   },
   "outputs": [
    {
     "data": {
      "text/plain": "                                             Address  Avg. Area Income  \\\n0  208 Michael Ferry Apt. 674\\nLaurabury, NE 3701...      79545.458574   \n1  188 Johnson Views Suite 079\\nLake Kathleen, CA...      79248.642455   \n2  9127 Elizabeth Stravenue\\nDanieltown, WI 06482...      61287.067179   \n3                          USS Barnett\\nFPO AP 44820      63345.240046   \n\n   Avg. Area House Age  \n0             5.682861  \n1             6.002900  \n2             5.865890  \n3             7.188236  ",
      "text/html": "<div>\n<style scoped>\n    .dataframe tbody tr th:only-of-type {\n        vertical-align: middle;\n    }\n\n    .dataframe tbody tr th {\n        vertical-align: top;\n    }\n\n    .dataframe thead th {\n        text-align: right;\n    }\n</style>\n<table border=\"1\" class=\"dataframe\">\n  <thead>\n    <tr style=\"text-align: right;\">\n      <th></th>\n      <th>Address</th>\n      <th>Avg. Area Income</th>\n      <th>Avg. Area House Age</th>\n    </tr>\n  </thead>\n  <tbody>\n    <tr>\n      <th>0</th>\n      <td>208 Michael Ferry Apt. 674\\nLaurabury, NE 3701...</td>\n      <td>79545.458574</td>\n      <td>5.682861</td>\n    </tr>\n    <tr>\n      <th>1</th>\n      <td>188 Johnson Views Suite 079\\nLake Kathleen, CA...</td>\n      <td>79248.642455</td>\n      <td>6.002900</td>\n    </tr>\n    <tr>\n      <th>2</th>\n      <td>9127 Elizabeth Stravenue\\nDanieltown, WI 06482...</td>\n      <td>61287.067179</td>\n      <td>5.865890</td>\n    </tr>\n    <tr>\n      <th>3</th>\n      <td>USS Barnett\\nFPO AP 44820</td>\n      <td>63345.240046</td>\n      <td>7.188236</td>\n    </tr>\n  </tbody>\n</table>\n</div>"
     },
     "metadata": {},
     "output_type": "execute_result",
     "execution_count": 9
    }
   ],
   "source": [
    "# get the first four rows for the first three columns\n",
    "df.iloc[0:4,0:3]"
   ]
  },
  {
   "cell_type": "code",
   "execution_count": 10,
   "metadata": {
    "pycharm": {
     "is_executing": false
    }
   },
   "outputs": [
    {
     "data": {
      "text/plain": "   Avg. Area Income  Avg. Area House Age\n0      79545.458574             5.682861\n1      79248.642455             6.002900\n2      61287.067179             5.865890\n3      63345.240046             7.188236\n4      59982.197226             5.040555",
      "text/html": "<div>\n<style scoped>\n    .dataframe tbody tr th:only-of-type {\n        vertical-align: middle;\n    }\n\n    .dataframe tbody tr th {\n        vertical-align: top;\n    }\n\n    .dataframe thead th {\n        text-align: right;\n    }\n</style>\n<table border=\"1\" class=\"dataframe\">\n  <thead>\n    <tr style=\"text-align: right;\">\n      <th></th>\n      <th>Avg. Area Income</th>\n      <th>Avg. Area House Age</th>\n    </tr>\n  </thead>\n  <tbody>\n    <tr>\n      <th>0</th>\n      <td>79545.458574</td>\n      <td>5.682861</td>\n    </tr>\n    <tr>\n      <th>1</th>\n      <td>79248.642455</td>\n      <td>6.002900</td>\n    </tr>\n    <tr>\n      <th>2</th>\n      <td>61287.067179</td>\n      <td>5.865890</td>\n    </tr>\n    <tr>\n      <th>3</th>\n      <td>63345.240046</td>\n      <td>7.188236</td>\n    </tr>\n    <tr>\n      <th>4</th>\n      <td>59982.197226</td>\n      <td>5.040555</td>\n    </tr>\n  </tbody>\n</table>\n</div>"
     },
     "metadata": {},
     "output_type": "execute_result",
     "execution_count": 10
    }
   ],
   "source": [
    "# get the first four rows for the Avg. Area Income and Avg. Area House Age columns\n",
    "df.loc[0:4,[\"Avg. Area Income\", \"Avg. Area House Age\"]]"
   ]
  },
  {
   "cell_type": "code",
   "execution_count": 11,
   "metadata": {
    "pycharm": {
     "is_executing": false
    }
   },
   "outputs": [
    {
     "data": {
      "text/plain": "                                             Address  Avg. Area Income  \\\n0  208 Michael Ferry Apt. 674\\nLaurabury, NE 3701...      79545.458574   \n1  188 Johnson Views Suite 079\\nLake Kathleen, CA...      79248.642455   \n2  9127 Elizabeth Stravenue\\nDanieltown, WI 06482...      61287.067179   \n3                          USS Barnett\\nFPO AP 44820      63345.240046   \n4                         USNS Raymond\\nFPO AE 09386      59982.197226   \n\n   Avg. Area House Age  Avg. Area Number of Rooms  \\\n0             5.682861                   7.009188   \n1             6.002900                   6.730821   \n2             5.865890                   8.512727   \n3             7.188236                   5.586729   \n4             5.040555                   7.839388   \n\n   Avg. Area Number of Bedrooms  Area Population  \n0                          4.09     23086.800503  \n1                          3.09     40173.072174  \n2                          5.13     36882.159400  \n3                          3.26     34310.242831  \n4                          4.23     26354.109472  ",
      "text/html": "<div>\n<style scoped>\n    .dataframe tbody tr th:only-of-type {\n        vertical-align: middle;\n    }\n\n    .dataframe tbody tr th {\n        vertical-align: top;\n    }\n\n    .dataframe thead th {\n        text-align: right;\n    }\n</style>\n<table border=\"1\" class=\"dataframe\">\n  <thead>\n    <tr style=\"text-align: right;\">\n      <th></th>\n      <th>Address</th>\n      <th>Avg. Area Income</th>\n      <th>Avg. Area House Age</th>\n      <th>Avg. Area Number of Rooms</th>\n      <th>Avg. Area Number of Bedrooms</th>\n      <th>Area Population</th>\n    </tr>\n  </thead>\n  <tbody>\n    <tr>\n      <th>0</th>\n      <td>208 Michael Ferry Apt. 674\\nLaurabury, NE 3701...</td>\n      <td>79545.458574</td>\n      <td>5.682861</td>\n      <td>7.009188</td>\n      <td>4.09</td>\n      <td>23086.800503</td>\n    </tr>\n    <tr>\n      <th>1</th>\n      <td>188 Johnson Views Suite 079\\nLake Kathleen, CA...</td>\n      <td>79248.642455</td>\n      <td>6.002900</td>\n      <td>6.730821</td>\n      <td>3.09</td>\n      <td>40173.072174</td>\n    </tr>\n    <tr>\n      <th>2</th>\n      <td>9127 Elizabeth Stravenue\\nDanieltown, WI 06482...</td>\n      <td>61287.067179</td>\n      <td>5.865890</td>\n      <td>8.512727</td>\n      <td>5.13</td>\n      <td>36882.159400</td>\n    </tr>\n    <tr>\n      <th>3</th>\n      <td>USS Barnett\\nFPO AP 44820</td>\n      <td>63345.240046</td>\n      <td>7.188236</td>\n      <td>5.586729</td>\n      <td>3.26</td>\n      <td>34310.242831</td>\n    </tr>\n    <tr>\n      <th>4</th>\n      <td>USNS Raymond\\nFPO AE 09386</td>\n      <td>59982.197226</td>\n      <td>5.040555</td>\n      <td>7.839388</td>\n      <td>4.23</td>\n      <td>26354.109472</td>\n    </tr>\n  </tbody>\n</table>\n</div>"
     },
     "metadata": {},
     "output_type": "execute_result",
     "execution_count": 11
    }
   ],
   "source": [
    "# create the Feature matrix by taking all independen variables less the target variable (price)\n",
    "x = df.drop('Price', axis = 1)\n",
    "# get the firts five rows\n",
    "x.head()"
   ]
  },
  {
   "cell_type": "code",
   "execution_count": 12,
   "metadata": {
    "pycharm": {
     "is_executing": false
    }
   },
   "outputs": [
    {
     "data": {
      "text/plain": "(5000, 6)"
     },
     "metadata": {},
     "output_type": "execute_result",
     "execution_count": 12
    }
   ],
   "source": [
    "# get the shape of the feature matrix\n",
    "x.shape"
   ]
  },
  {
   "cell_type": "code",
   "execution_count": 13,
   "metadata": {
    "pycharm": {
     "is_executing": false
    }
   },
   "outputs": [
    {
     "data": {
      "text/plain": "0    1.059034e+06\n1    1.505891e+06\n2    1.058988e+06\n3    1.260617e+06\n4    6.309435e+05\n5    1.068138e+06\n6    1.502056e+06\n7    1.573937e+06\n8    7.988695e+05\n9    1.545155e+06\nName: Price, dtype: float64"
     },
     "metadata": {},
     "output_type": "execute_result",
     "execution_count": 13
    }
   ],
   "source": [
    "# get the target matrix and the first 10 rows\n",
    "y = df[\"Price\"]\n",
    "y.head(10)"
   ]
  },
  {
   "cell_type": "code",
   "execution_count": 14,
   "metadata": {
    "pycharm": {
     "is_executing": false
    }
   },
   "outputs": [
    {
     "data": {
      "text/plain": "(5000,)"
     },
     "metadata": {},
     "output_type": "execute_result",
     "execution_count": 14
    }
   ],
   "source": [
    "# get the shape of the target matrix\n",
    "y.shape"
   ]
  },
  {
   "cell_type": "code",
   "execution_count": null,
   "metadata": {},
   "outputs": [],
   "source": []
  }
 ],
 "metadata": {
  "kernelspec": {
   "display_name": "Python 3",
   "language": "python",
   "name": "python3"
  },
  "language_info": {
   "codemirror_mode": {
    "name": "ipython",
    "version": 3
   },
   "file_extension": ".py",
   "mimetype": "text/x-python",
   "name": "python",
   "nbconvert_exporter": "python",
   "pygments_lexer": "ipython3",
   "version": "3.6.7"
  },
  "pycharm": {
   "stem_cell": {
    "cell_type": "raw",
    "source": [],
    "metadata": {
     "collapsed": false
    }
   }
  }
 },
 "nbformat": 4,
 "nbformat_minor": 2
}
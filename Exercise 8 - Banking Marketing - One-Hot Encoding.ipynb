{
 "cells": [
  {
   "cell_type": "code",
   "execution_count": 36,
   "metadata": {
    "collapsed": true,
    "pycharm": {
     "is_executing": false
    }
   },
   "outputs": [],
   "source": [
    "# import pandas, numpy, OneHotEncoder and load the data set\n",
    "import pandas as pd\n",
    "import numpy as np\n",
    "from sklearn.preprocessing import OneHotEncoder\n",
    "\n",
    "dataset = 'data/Banking_Marketing.csv'\n",
    "\n",
    "df = pd.read_csv(dataset, header = 0)"
   ]
  },
  {
   "cell_type": "code",
   "execution_count": 37,
   "outputs": [],
   "source": [
    "# remove the NA rows from the data frame\n",
    "df.dropna(inplace = True)"
   ],
   "metadata": {
    "collapsed": false,
    "pycharm": {
     "name": "#%%\n",
     "is_executing": false
    }
   }
  },
  {
   "cell_type": "code",
   "execution_count": 38,
   "outputs": [
    {
     "data": {
      "text/plain": "Index(['job', 'marital', 'education', 'default', 'housing', 'loan', 'contact',\n       'month', 'day_of_week', 'poutcome'],\n      dtype='object')"
     },
     "metadata": {},
     "output_type": "execute_result",
     "execution_count": 38
    }
   ],
   "source": [
    "# select the data frame's categorical columns\n",
    "data_column_category = df.select_dtypes(exclude = [np.number]).columns\n",
    "data_column_category"
   ],
   "metadata": {
    "collapsed": false,
    "pycharm": {
     "name": "#%%\n",
     "is_executing": false
    }
   }
  },
  {
   "cell_type": "code",
   "execution_count": 39,
   "outputs": [
    {
     "data": {
      "text/plain": "           job  marital          education  default housing loan   contact  \\\n0  blue-collar  married           basic.4y  unknown     yes   no  cellular   \n1   technician  married            unknown       no      no   no  cellular   \n2   management   single  university.degree       no     yes   no  cellular   \n3     services  married        high.school       no      no   no  cellular   \n4      retired  married           basic.4y       no     yes   no  cellular   \n\n  month day_of_week     poutcome  \n0   aug         thu  nonexistent  \n1   nov         fri  nonexistent  \n2   jun         thu      success  \n3   apr         fri  nonexistent  \n4   aug         fri      success  ",
      "text/html": "<div>\n<style scoped>\n    .dataframe tbody tr th:only-of-type {\n        vertical-align: middle;\n    }\n\n    .dataframe tbody tr th {\n        vertical-align: top;\n    }\n\n    .dataframe thead th {\n        text-align: right;\n    }\n</style>\n<table border=\"1\" class=\"dataframe\">\n  <thead>\n    <tr style=\"text-align: right;\">\n      <th></th>\n      <th>job</th>\n      <th>marital</th>\n      <th>education</th>\n      <th>default</th>\n      <th>housing</th>\n      <th>loan</th>\n      <th>contact</th>\n      <th>month</th>\n      <th>day_of_week</th>\n      <th>poutcome</th>\n    </tr>\n  </thead>\n  <tbody>\n    <tr>\n      <th>0</th>\n      <td>blue-collar</td>\n      <td>married</td>\n      <td>basic.4y</td>\n      <td>unknown</td>\n      <td>yes</td>\n      <td>no</td>\n      <td>cellular</td>\n      <td>aug</td>\n      <td>thu</td>\n      <td>nonexistent</td>\n    </tr>\n    <tr>\n      <th>1</th>\n      <td>technician</td>\n      <td>married</td>\n      <td>unknown</td>\n      <td>no</td>\n      <td>no</td>\n      <td>no</td>\n      <td>cellular</td>\n      <td>nov</td>\n      <td>fri</td>\n      <td>nonexistent</td>\n    </tr>\n    <tr>\n      <th>2</th>\n      <td>management</td>\n      <td>single</td>\n      <td>university.degree</td>\n      <td>no</td>\n      <td>yes</td>\n      <td>no</td>\n      <td>cellular</td>\n      <td>jun</td>\n      <td>thu</td>\n      <td>success</td>\n    </tr>\n    <tr>\n      <th>3</th>\n      <td>services</td>\n      <td>married</td>\n      <td>high.school</td>\n      <td>no</td>\n      <td>no</td>\n      <td>no</td>\n      <td>cellular</td>\n      <td>apr</td>\n      <td>fri</td>\n      <td>nonexistent</td>\n    </tr>\n    <tr>\n      <th>4</th>\n      <td>retired</td>\n      <td>married</td>\n      <td>basic.4y</td>\n      <td>no</td>\n      <td>yes</td>\n      <td>no</td>\n      <td>cellular</td>\n      <td>aug</td>\n      <td>fri</td>\n      <td>success</td>\n    </tr>\n  </tbody>\n</table>\n</div>"
     },
     "metadata": {},
     "output_type": "execute_result",
     "execution_count": 39
    }
   ],
   "source": [
    "# print the first five rows of the data frame\n",
    "df[data_column_category].head()"
   ],
   "metadata": {
    "collapsed": false,
    "pycharm": {
     "name": "#%%\n",
     "is_executing": false
    }
   }
  },
  {
   "cell_type": "code",
   "execution_count": 32,
   "outputs": [
    {
     "name": "stdout",
     "text": [
      "Label Encoded Data:\n"
     ],
     "output_type": "stream"
    },
    {
     "data": {
      "text/plain": "   job  marital  education  default  housing  loan  contact  month  \\\n0    1        1          0        1        2     0        0      1   \n1    9        1          7        0        0     0        0      7   \n2    4        2          6        0        2     0        0      4   \n3    7        1          3        0        0     0        0      0   \n4    5        1          0        0        2     0        0      1   \n\n   day_of_week  poutcome  \n0            2         1  \n1            0         1  \n2            2         2  \n3            0         1  \n4            0         2  ",
      "text/html": "<div>\n<style scoped>\n    .dataframe tbody tr th:only-of-type {\n        vertical-align: middle;\n    }\n\n    .dataframe tbody tr th {\n        vertical-align: top;\n    }\n\n    .dataframe thead th {\n        text-align: right;\n    }\n</style>\n<table border=\"1\" class=\"dataframe\">\n  <thead>\n    <tr style=\"text-align: right;\">\n      <th></th>\n      <th>job</th>\n      <th>marital</th>\n      <th>education</th>\n      <th>default</th>\n      <th>housing</th>\n      <th>loan</th>\n      <th>contact</th>\n      <th>month</th>\n      <th>day_of_week</th>\n      <th>poutcome</th>\n    </tr>\n  </thead>\n  <tbody>\n    <tr>\n      <th>0</th>\n      <td>1</td>\n      <td>1</td>\n      <td>0</td>\n      <td>1</td>\n      <td>2</td>\n      <td>0</td>\n      <td>0</td>\n      <td>1</td>\n      <td>2</td>\n      <td>1</td>\n    </tr>\n    <tr>\n      <th>1</th>\n      <td>9</td>\n      <td>1</td>\n      <td>7</td>\n      <td>0</td>\n      <td>0</td>\n      <td>0</td>\n      <td>0</td>\n      <td>7</td>\n      <td>0</td>\n      <td>1</td>\n    </tr>\n    <tr>\n      <th>2</th>\n      <td>4</td>\n      <td>2</td>\n      <td>6</td>\n      <td>0</td>\n      <td>2</td>\n      <td>0</td>\n      <td>0</td>\n      <td>4</td>\n      <td>2</td>\n      <td>2</td>\n    </tr>\n    <tr>\n      <th>3</th>\n      <td>7</td>\n      <td>1</td>\n      <td>3</td>\n      <td>0</td>\n      <td>0</td>\n      <td>0</td>\n      <td>0</td>\n      <td>0</td>\n      <td>0</td>\n      <td>1</td>\n    </tr>\n    <tr>\n      <th>4</th>\n      <td>5</td>\n      <td>1</td>\n      <td>0</td>\n      <td>0</td>\n      <td>2</td>\n      <td>0</td>\n      <td>0</td>\n      <td>1</td>\n      <td>0</td>\n      <td>2</td>\n    </tr>\n  </tbody>\n</table>\n</div>"
     },
     "metadata": {},
     "output_type": "execute_result",
     "execution_count": 32
    }
   ],
   "source": [
    "# perform label encoding\n",
    "from sklearn.preprocessing import LabelEncoder\n",
    "\n",
    "label_encoder = LabelEncoder()\n",
    "\n",
    "for i in data_column_category:\n",
    "    df[i] = label_encoder.fit_transform(df[i])\n",
    "\n",
    "print('Label Encoded Data:')\n",
    "\n",
    "df[data_column_category].head()"
   ],
   "metadata": {
    "collapsed": false,
    "pycharm": {
     "name": "#%%\n",
     "is_executing": false
    }
   }
  },
  {
   "cell_type": "code",
   "execution_count": 26,
   "outputs": [
    {
     "name": "stderr",
     "text": [
      "/Users/fernandoavendano/PycharmProjects/untitled/venv/lib/python3.7/site-packages/sklearn/preprocessing/_encoders.py:415: FutureWarning: The handling of integer data will change in version 0.22. Currently, the categories are determined based on the range [0, max(values)], while in the future they will be determined based on the unique values.\nIf you want the future behaviour and silence this warning, you can specify \"categories='auto'\".\nIn case you used a LabelEncoder before this OneHotEncoder to convert the categories to integers, then you can now use the OneHotEncoder directly.\n  warnings.warn(msg, FutureWarning)\n"
     ],
     "output_type": "stream"
    }
   ],
   "source": [
    "# perform One-Hot Encoding\n",
    "onehot_encoder = OneHotEncoder(sparse = False)\n",
    "\n",
    "onehot_encoded = onehot_encoder.fit_transform(df[data_column_category])\n"
   ],
   "metadata": {
    "collapsed": false,
    "pycharm": {
     "name": "#%%\n",
     "is_executing": false
    }
   }
  },
  {
   "cell_type": "code",
   "execution_count": 18,
   "outputs": [
    {
     "data": {
      "text/plain": "   job_0.0  job_1.0  job_2.0  job_3.0  job_4.0  job_5.0  job_6.0  job_7.0  \\\n0      0.0      1.0      0.0      0.0      0.0      0.0      0.0      0.0   \n1      0.0      0.0      0.0      0.0      0.0      0.0      0.0      0.0   \n2      0.0      0.0      0.0      0.0      1.0      0.0      0.0      0.0   \n3      0.0      0.0      0.0      0.0      0.0      0.0      0.0      1.0   \n4      0.0      0.0      0.0      0.0      0.0      1.0      0.0      0.0   \n\n   job_8.0  job_9.0  ...  month_8.0  month_9.0  day_of_week_0.0  \\\n0      0.0      0.0  ...        0.0        0.0              0.0   \n1      0.0      1.0  ...        0.0        0.0              1.0   \n2      0.0      0.0  ...        0.0        0.0              0.0   \n3      0.0      0.0  ...        0.0        0.0              1.0   \n4      0.0      0.0  ...        0.0        0.0              1.0   \n\n   day_of_week_1.0  day_of_week_2.0  day_of_week_3.0  day_of_week_4.0  \\\n0              0.0              1.0              0.0              0.0   \n1              0.0              0.0              0.0              0.0   \n2              0.0              1.0              0.0              0.0   \n3              0.0              0.0              0.0              0.0   \n4              0.0              0.0              0.0              0.0   \n\n   poutcome_0.0  poutcome_1.0  poutcome_2.0  \n0           0.0           1.0           0.0  \n1           0.0           1.0           0.0  \n2           0.0           0.0           1.0  \n3           0.0           1.0           0.0  \n4           0.0           0.0           1.0  \n\n[5 rows x 53 columns]",
      "text/html": "<div>\n<style scoped>\n    .dataframe tbody tr th:only-of-type {\n        vertical-align: middle;\n    }\n\n    .dataframe tbody tr th {\n        vertical-align: top;\n    }\n\n    .dataframe thead th {\n        text-align: right;\n    }\n</style>\n<table border=\"1\" class=\"dataframe\">\n  <thead>\n    <tr style=\"text-align: right;\">\n      <th></th>\n      <th>job_0.0</th>\n      <th>job_1.0</th>\n      <th>job_2.0</th>\n      <th>job_3.0</th>\n      <th>job_4.0</th>\n      <th>job_5.0</th>\n      <th>job_6.0</th>\n      <th>job_7.0</th>\n      <th>job_8.0</th>\n      <th>job_9.0</th>\n      <th>...</th>\n      <th>month_8.0</th>\n      <th>month_9.0</th>\n      <th>day_of_week_0.0</th>\n      <th>day_of_week_1.0</th>\n      <th>day_of_week_2.0</th>\n      <th>day_of_week_3.0</th>\n      <th>day_of_week_4.0</th>\n      <th>poutcome_0.0</th>\n      <th>poutcome_1.0</th>\n      <th>poutcome_2.0</th>\n    </tr>\n  </thead>\n  <tbody>\n    <tr>\n      <th>0</th>\n      <td>0.0</td>\n      <td>1.0</td>\n      <td>0.0</td>\n      <td>0.0</td>\n      <td>0.0</td>\n      <td>0.0</td>\n      <td>0.0</td>\n      <td>0.0</td>\n      <td>0.0</td>\n      <td>0.0</td>\n      <td>...</td>\n      <td>0.0</td>\n      <td>0.0</td>\n      <td>0.0</td>\n      <td>0.0</td>\n      <td>1.0</td>\n      <td>0.0</td>\n      <td>0.0</td>\n      <td>0.0</td>\n      <td>1.0</td>\n      <td>0.0</td>\n    </tr>\n    <tr>\n      <th>1</th>\n      <td>0.0</td>\n      <td>0.0</td>\n      <td>0.0</td>\n      <td>0.0</td>\n      <td>0.0</td>\n      <td>0.0</td>\n      <td>0.0</td>\n      <td>0.0</td>\n      <td>0.0</td>\n      <td>1.0</td>\n      <td>...</td>\n      <td>0.0</td>\n      <td>0.0</td>\n      <td>1.0</td>\n      <td>0.0</td>\n      <td>0.0</td>\n      <td>0.0</td>\n      <td>0.0</td>\n      <td>0.0</td>\n      <td>1.0</td>\n      <td>0.0</td>\n    </tr>\n    <tr>\n      <th>2</th>\n      <td>0.0</td>\n      <td>0.0</td>\n      <td>0.0</td>\n      <td>0.0</td>\n      <td>1.0</td>\n      <td>0.0</td>\n      <td>0.0</td>\n      <td>0.0</td>\n      <td>0.0</td>\n      <td>0.0</td>\n      <td>...</td>\n      <td>0.0</td>\n      <td>0.0</td>\n      <td>0.0</td>\n      <td>0.0</td>\n      <td>1.0</td>\n      <td>0.0</td>\n      <td>0.0</td>\n      <td>0.0</td>\n      <td>0.0</td>\n      <td>1.0</td>\n    </tr>\n    <tr>\n      <th>3</th>\n      <td>0.0</td>\n      <td>0.0</td>\n      <td>0.0</td>\n      <td>0.0</td>\n      <td>0.0</td>\n      <td>0.0</td>\n      <td>0.0</td>\n      <td>1.0</td>\n      <td>0.0</td>\n      <td>0.0</td>\n      <td>...</td>\n      <td>0.0</td>\n      <td>0.0</td>\n      <td>1.0</td>\n      <td>0.0</td>\n      <td>0.0</td>\n      <td>0.0</td>\n      <td>0.0</td>\n      <td>0.0</td>\n      <td>1.0</td>\n      <td>0.0</td>\n    </tr>\n    <tr>\n      <th>4</th>\n      <td>0.0</td>\n      <td>0.0</td>\n      <td>0.0</td>\n      <td>0.0</td>\n      <td>0.0</td>\n      <td>1.0</td>\n      <td>0.0</td>\n      <td>0.0</td>\n      <td>0.0</td>\n      <td>0.0</td>\n      <td>...</td>\n      <td>0.0</td>\n      <td>0.0</td>\n      <td>1.0</td>\n      <td>0.0</td>\n      <td>0.0</td>\n      <td>0.0</td>\n      <td>0.0</td>\n      <td>0.0</td>\n      <td>0.0</td>\n      <td>1.0</td>\n    </tr>\n  </tbody>\n</table>\n<p>5 rows × 53 columns</p>\n</div>"
     },
     "metadata": {},
     "output_type": "execute_result",
     "execution_count": 18
    }
   ],
   "source": [
    "# create a new data frame with the new encoded column names\n",
    "onehot_encoded_frame = pd.DataFrame(onehot_encoded, columns = onehot_encoder.get_feature_names(data_column_category))\n",
    "onehot_encoded_frame.head()"
   ],
   "metadata": {
    "collapsed": false,
    "pycharm": {
     "name": "#%%\n",
     "is_executing": false
    }
   }
  },
  {
   "cell_type": "code",
   "execution_count": 19,
   "outputs": [
    {
     "data": {
      "text/plain": "Index(['job_0.0', 'job_1.0', 'job_2.0', 'job_3.0', 'job_4.0', 'job_5.0',\n       'job_6.0', 'job_7.0', 'job_8.0', 'job_9.0', 'job_10.0', 'job_11.0',\n       'marital_0.0', 'marital_1.0', 'marital_2.0', 'marital_3.0',\n       'education_0.0', 'education_1.0', 'education_2.0', 'education_3.0',\n       'education_4.0', 'education_5.0', 'education_6.0', 'education_7.0',\n       'default_0.0', 'default_1.0', 'default_2.0', 'housing_0.0',\n       'housing_1.0', 'housing_2.0', 'loan_0.0', 'loan_1.0', 'loan_2.0',\n       'contact_0.0', 'contact_1.0', 'month_0.0', 'month_1.0', 'month_2.0',\n       'month_3.0', 'month_4.0', 'month_5.0', 'month_6.0', 'month_7.0',\n       'month_8.0', 'month_9.0', 'day_of_week_0.0', 'day_of_week_1.0',\n       'day_of_week_2.0', 'day_of_week_3.0', 'day_of_week_4.0', 'poutcome_0.0',\n       'poutcome_1.0', 'poutcome_2.0'],\n      dtype='object')"
     },
     "metadata": {},
     "output_type": "execute_result",
     "execution_count": 19
    }
   ],
   "source": [
    "# print all the columns of the encoded data frame\n",
    "onehot_encoded_frame.columns\n"
   ],
   "metadata": {
    "collapsed": false,
    "pycharm": {
     "name": "#%%\n",
     "is_executing": false
    }
   }
  },
  {
   "cell_type": "code",
   "execution_count": 58,
   "outputs": [
    {
     "data": {
      "text/plain": "Index(['job_admin.', 'job_blue-collar', 'job_entrepreneur', 'job_housemaid',\n       'job_management', 'job_retired', 'job_self-employed', 'job_services',\n       'job_student', 'job_technician', 'job_unemployed', 'job_unknown',\n       'marital_divorced', 'marital_married', 'marital_single',\n       'marital_unknown', 'education_basic.4y', 'education_basic.6y',\n       'education_basic.9y', 'education_high.school', 'education_illiterate',\n       'education_professional.course', 'education_university.degree',\n       'education_unknown', 'default_no', 'default_unknown', 'default_yes',\n       'housing_no', 'housing_unknown', 'housing_yes', 'loan_no',\n       'loan_unknown', 'loan_yes', 'contact_cellular', 'contact_telephone',\n       'month_apr', 'month_aug', 'month_dec', 'month_jul', 'month_jun',\n       'month_mar', 'month_may', 'month_nov', 'month_oct', 'month_sep',\n       'day_of_week_fri', 'day_of_week_mon', 'day_of_week_thu',\n       'day_of_week_tue', 'day_of_week_wed', 'poutcome_failure',\n       'poutcome_nonexistent', 'poutcome_success', 'age', 'duration',\n       'campaign', 'pdays', 'previous', 'emp_var_rate', 'cons_price_idx',\n       'cons_conf_idx', 'euribor3m', 'nr_employed', 'y'],\n      dtype='object')"
     },
     "metadata": {},
     "output_type": "execute_result",
     "execution_count": 58
    }
   ],
   "source": [
    "# alternatively prefix the category name with the column name\n",
    "\n",
    "# reset the data frame\n",
    "df = pd.read_csv(dataset, header = 0)\n",
    "df.dropna(inplace = True)\n",
    "\n",
    "# get the numerical columns\n",
    "data_column_number = df.select_dtypes(include = [np.number]).columns\n",
    "\n",
    "# get the categorical column names prefixing the category name\n",
    "df_onehot_getdummies = pd.get_dummies(df[data_column_category], prefix = data_column_category)\n",
    "# concatenate the categorical columns with the rest of the non-categorical columns\n",
    "data_onehot_encoded_data = pd.concat([df_onehot_getdummies, df[data_column_number]], axis = 1)\n",
    "# print columns\n",
    "data_onehot_encoded_data.columns\n"
   ],
   "metadata": {
    "collapsed": false,
    "pycharm": {
     "name": "#%%\n",
     "is_executing": false
    }
   }
  },
  {
   "cell_type": "code",
   "execution_count": null,
   "outputs": [],
   "source": [
    "\n"
   ],
   "metadata": {
    "collapsed": false,
    "pycharm": {
     "name": "#%%\n"
    }
   }
  }
 ],
 "metadata": {
  "language_info": {
   "codemirror_mode": {
    "name": "ipython",
    "version": 2
   },
   "file_extension": ".py",
   "mimetype": "text/x-python",
   "name": "python",
   "nbconvert_exporter": "python",
   "pygments_lexer": "ipython2",
   "version": "2.7.6"
  },
  "kernelspec": {
   "name": "python3",
   "language": "python",
   "display_name": "Python 3"
  },
  "pycharm": {
   "stem_cell": {
    "cell_type": "raw",
    "source": [],
    "metadata": {
     "collapsed": false
    }
   }
  }
 },
 "nbformat": 4,
 "nbformat_minor": 0
}
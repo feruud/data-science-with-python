{
 "cells": [
  {
   "cell_type": "code",
   "execution_count": 22,
   "metadata": {
    "collapsed": true,
    "pycharm": {
     "is_executing": false
    }
   },
   "outputs": [],
   "source": [
    "# import pandas and load the data set\n",
    "import pandas as pd\n",
    "\n",
    "dataset = '../data/Banking_Marketing.csv'\n",
    "\n",
    "df = pd.read_csv(dataset, header = 0)\n"
   ]
  },
  {
   "cell_type": "code",
   "execution_count": 23,
   "outputs": [
    {
     "name": "stdout",
     "text": [
      "Numbers of rows and columns: (41199, 21)\n"
     ],
     "output_type": "stream"
    }
   ],
   "source": [
    "# print the number of rows and columns\n",
    "print('Numbers of rows and columns:', df.shape)"
   ],
   "metadata": {
    "collapsed": false,
    "pycharm": {
     "name": "#%%\n",
     "is_executing": false
    }
   }
  },
  {
   "cell_type": "code",
   "execution_count": 24,
   "outputs": [
    {
     "name": "stdout",
     "text": [
      "['age', 'job', 'marital', 'education', 'default', 'housing', 'loan', 'contact', 'month', 'day_of_week', 'duration', 'campaign', 'pdays', 'previous', 'poutcome', 'emp_var_rate', 'cons_price_idx', 'cons_conf_idx', 'euribor3m', 'nr_employed', 'y']\n"
     ],
     "output_type": "stream"
    }
   ],
   "source": [
    "# print the list of the column names\n",
    "print(list(df.columns))"
   ],
   "metadata": {
    "collapsed": false,
    "pycharm": {
     "name": "#%%\n",
     "is_executing": false
    }
   }
  },
  {
   "cell_type": "code",
   "execution_count": 25,
   "outputs": [
    {
     "name": "stdout",
     "text": [
      "<class 'pandas.core.frame.DataFrame'>\nRangeIndex: 41199 entries, 0 to 41198\nData columns (total 21 columns):\nage               41197 non-null float64\njob               41199 non-null object\nmarital           41199 non-null object\neducation         41199 non-null object\ndefault           41199 non-null object\nhousing           41199 non-null object\nloan              41199 non-null object\ncontact           41193 non-null object\nmonth             41199 non-null object\nday_of_week       41199 non-null object\nduration          41192 non-null float64\ncampaign          41199 non-null int64\npdays             41199 non-null int64\nprevious          41199 non-null int64\npoutcome          41199 non-null object\nemp_var_rate      41199 non-null float64\ncons_price_idx    41199 non-null float64\ncons_conf_idx     41199 non-null float64\neuribor3m         41199 non-null float64\nnr_employed       41199 non-null float64\ny                 41199 non-null int64\ndtypes: float64(7), int64(4), object(10)\nmemory usage: 6.6+ MB\n"
     ],
     "output_type": "stream"
    }
   ],
   "source": [
    "# get the basic information for the data frame\n",
    "df.info()"
   ],
   "metadata": {
    "collapsed": false,
    "pycharm": {
     "name": "#%%\n",
     "is_executing": false
    }
   }
  },
  {
   "cell_type": "code",
   "execution_count": 3,
   "outputs": [
    {
     "data": {
      "text/plain": "                  count         mean         std       min       25%  \\\nage             41197.0    40.023812   10.434966     1.000    32.000   \nduration        41192.0   258.274762  259.270089     0.000   102.000   \ncampaign        41199.0     2.567514    2.769719     1.000     1.000   \npdays           41199.0   962.485206  186.886905     0.000   999.000   \nprevious        41199.0     0.172941    0.494859     0.000     0.000   \nemp_var_rate    41199.0     0.081900    1.570971    -3.400    -1.800   \ncons_price_idx  41199.0    93.575650    0.578845    92.201    93.075   \ncons_conf_idx   41199.0   -40.502002    4.628524   -50.800   -42.700   \neuribor3m       41199.0     3.621336    1.734431     0.634     1.344   \nnr_employed     41199.0  5167.036455   72.249592  4963.600  5099.100   \ny               41199.0     0.112648    0.316166     0.000     0.000   \n\n                     50%       75%       max  \nage               38.000    47.000   104.000  \nduration         180.000   319.000  4918.000  \ncampaign           2.000     3.000    56.000  \npdays            999.000   999.000   999.000  \nprevious           0.000     0.000     7.000  \nemp_var_rate       1.100     1.400     1.400  \ncons_price_idx    93.749    93.994    94.767  \ncons_conf_idx    -41.800   -36.400   -26.900  \neuribor3m          4.857     4.961     5.045  \nnr_employed     5191.000  5228.100  5228.100  \ny                  0.000     0.000     1.000  ",
      "text/html": "<div>\n<style scoped>\n    .dataframe tbody tr th:only-of-type {\n        vertical-align: middle;\n    }\n\n    .dataframe tbody tr th {\n        vertical-align: top;\n    }\n\n    .dataframe thead th {\n        text-align: right;\n    }\n</style>\n<table border=\"1\" class=\"dataframe\">\n  <thead>\n    <tr style=\"text-align: right;\">\n      <th></th>\n      <th>count</th>\n      <th>mean</th>\n      <th>std</th>\n      <th>min</th>\n      <th>25%</th>\n      <th>50%</th>\n      <th>75%</th>\n      <th>max</th>\n    </tr>\n  </thead>\n  <tbody>\n    <tr>\n      <th>age</th>\n      <td>41197.0</td>\n      <td>40.023812</td>\n      <td>10.434966</td>\n      <td>1.000</td>\n      <td>32.000</td>\n      <td>38.000</td>\n      <td>47.000</td>\n      <td>104.000</td>\n    </tr>\n    <tr>\n      <th>duration</th>\n      <td>41192.0</td>\n      <td>258.274762</td>\n      <td>259.270089</td>\n      <td>0.000</td>\n      <td>102.000</td>\n      <td>180.000</td>\n      <td>319.000</td>\n      <td>4918.000</td>\n    </tr>\n    <tr>\n      <th>campaign</th>\n      <td>41199.0</td>\n      <td>2.567514</td>\n      <td>2.769719</td>\n      <td>1.000</td>\n      <td>1.000</td>\n      <td>2.000</td>\n      <td>3.000</td>\n      <td>56.000</td>\n    </tr>\n    <tr>\n      <th>pdays</th>\n      <td>41199.0</td>\n      <td>962.485206</td>\n      <td>186.886905</td>\n      <td>0.000</td>\n      <td>999.000</td>\n      <td>999.000</td>\n      <td>999.000</td>\n      <td>999.000</td>\n    </tr>\n    <tr>\n      <th>previous</th>\n      <td>41199.0</td>\n      <td>0.172941</td>\n      <td>0.494859</td>\n      <td>0.000</td>\n      <td>0.000</td>\n      <td>0.000</td>\n      <td>0.000</td>\n      <td>7.000</td>\n    </tr>\n    <tr>\n      <th>emp_var_rate</th>\n      <td>41199.0</td>\n      <td>0.081900</td>\n      <td>1.570971</td>\n      <td>-3.400</td>\n      <td>-1.800</td>\n      <td>1.100</td>\n      <td>1.400</td>\n      <td>1.400</td>\n    </tr>\n    <tr>\n      <th>cons_price_idx</th>\n      <td>41199.0</td>\n      <td>93.575650</td>\n      <td>0.578845</td>\n      <td>92.201</td>\n      <td>93.075</td>\n      <td>93.749</td>\n      <td>93.994</td>\n      <td>94.767</td>\n    </tr>\n    <tr>\n      <th>cons_conf_idx</th>\n      <td>41199.0</td>\n      <td>-40.502002</td>\n      <td>4.628524</td>\n      <td>-50.800</td>\n      <td>-42.700</td>\n      <td>-41.800</td>\n      <td>-36.400</td>\n      <td>-26.900</td>\n    </tr>\n    <tr>\n      <th>euribor3m</th>\n      <td>41199.0</td>\n      <td>3.621336</td>\n      <td>1.734431</td>\n      <td>0.634</td>\n      <td>1.344</td>\n      <td>4.857</td>\n      <td>4.961</td>\n      <td>5.045</td>\n    </tr>\n    <tr>\n      <th>nr_employed</th>\n      <td>41199.0</td>\n      <td>5167.036455</td>\n      <td>72.249592</td>\n      <td>4963.600</td>\n      <td>5099.100</td>\n      <td>5191.000</td>\n      <td>5228.100</td>\n      <td>5228.100</td>\n    </tr>\n    <tr>\n      <th>y</th>\n      <td>41199.0</td>\n      <td>0.112648</td>\n      <td>0.316166</td>\n      <td>0.000</td>\n      <td>0.000</td>\n      <td>0.000</td>\n      <td>0.000</td>\n      <td>1.000</td>\n    </tr>\n  </tbody>\n</table>\n</div>"
     },
     "metadata": {},
     "output_type": "execute_result",
     "execution_count": 3
    }
   ],
   "source": [
    "# get more information for the data frame in a vertical form\n",
    "df.describe().transpose()"
   ],
   "metadata": {
    "collapsed": false,
    "pycharm": {
     "name": "#%%\n",
     "is_executing": false
    }
   }
  },
  {
   "cell_type": "code",
   "execution_count": 4,
   "outputs": [
    {
     "data": {
      "text/plain": "age                True\njob               False\nmarital           False\neducation         False\ndefault           False\nhousing           False\nloan              False\ncontact            True\nmonth             False\nday_of_week       False\nduration           True\ncampaign          False\npdays             False\nprevious          False\npoutcome          False\nemp_var_rate      False\ncons_price_idx    False\ncons_conf_idx     False\neuribor3m         False\nnr_employed       False\ny                 False\ndtype: bool"
     },
     "metadata": {},
     "output_type": "execute_result",
     "execution_count": 4
    }
   ],
   "source": [
    "# check if there's any NA values\n",
    "df.isna().any()"
   ],
   "metadata": {
    "collapsed": false,
    "pycharm": {
     "name": "#%%\n",
     "is_executing": false
    }
   }
  },
  {
   "cell_type": "code",
   "execution_count": 5,
   "outputs": [
    {
     "data": {
      "text/plain": "age               2\njob               0\nmarital           0\neducation         0\ndefault           0\nhousing           0\nloan              0\ncontact           6\nmonth             0\nday_of_week       0\nduration          7\ncampaign          0\npdays             0\nprevious          0\npoutcome          0\nemp_var_rate      0\ncons_price_idx    0\ncons_conf_idx     0\neuribor3m         0\nnr_employed       0\ny                 0\ndtype: int64"
     },
     "metadata": {},
     "output_type": "execute_result",
     "execution_count": 5
    }
   ],
   "source": [
    "# count how many NA values are for each column\n",
    "df.isna().sum()"
   ],
   "metadata": {
    "collapsed": false,
    "pycharm": {
     "name": "#%%\n",
     "is_executing": false
    }
   }
  },
  {
   "cell_type": "code",
   "execution_count": 6,
   "outputs": [],
   "source": [
    "# delete rows with NA values\n",
    "df.dropna(inplace = True)"
   ],
   "metadata": {
    "collapsed": false,
    "pycharm": {
     "name": "#%%\n",
     "is_executing": false
    }
   }
  },
  {
   "cell_type": "code",
   "execution_count": 7,
   "outputs": [
    {
     "data": {
      "text/plain": "university.degree      12167\nhigh.school             9516\nbasic.9y                6045\nprofessional.course     5242\nbasic.4y                4176\nbasic.6y                2292\nunknown                 1731\nilliterate                18\nName: education, dtype: int64"
     },
     "metadata": {},
     "output_type": "execute_result",
     "execution_count": 7
    }
   ],
   "source": [
    "# show the frequency distribution for the 'education' column\n",
    "df['education'].value_counts()"
   ],
   "metadata": {
    "collapsed": false,
    "pycharm": {
     "name": "#%%\n",
     "is_executing": false
    }
   }
  },
  {
   "cell_type": "code",
   "execution_count": 8,
   "outputs": [],
   "source": [
    "# reduce the number of categories in the education column\n",
    "df['education'].replace({'university.degree':'university', 'basic.9y':'basic', 'professional.course':'professional', 'basic.4y':'basic', 'basic.6y':'basic', 'illiterate':'unknown'}, inplace = True)"
   ],
   "metadata": {
    "collapsed": false,
    "pycharm": {
     "name": "#%%\n",
     "is_executing": false
    }
   }
  },
  {
   "cell_type": "code",
   "execution_count": 9,
   "outputs": [
    {
     "data": {
      "text/plain": "basic           12513\nuniversity      12167\nhigh.school      9516\nprofessional     5242\nunknown          1749\nName: education, dtype: int64"
     },
     "metadata": {},
     "output_type": "execute_result",
     "execution_count": 9
    }
   ],
   "source": [
    "# show the new frequency distribution for the 'education' column\n",
    "df['education'].value_counts()\n"
   ],
   "metadata": {
    "collapsed": false,
    "pycharm": {
     "name": "#%%\n",
     "is_executing": false
    }
   }
  },
  {
   "cell_type": "code",
   "execution_count": 10,
   "outputs": [],
   "source": [
    "# import numpy and split the categorical and numeric columns\n",
    "import numpy as np\n",
    "\n",
    "categorical_columns = df.select_dtypes(exclude = [np.number]).columns\n",
    "numeric_columns = df.select_dtypes(include = [np.number]).columns"
   ],
   "metadata": {
    "collapsed": false,
    "pycharm": {
     "name": "#%%\n",
     "is_executing": false
    }
   }
  },
  {
   "cell_type": "code",
   "execution_count": 11,
   "outputs": [],
   "source": [
    "from sklearn.preprocessing import OneHotEncoder\n",
    "\n",
    "onehot_dummies = pd.get_dummies(df[categorical_columns], prefix = categorical_columns)\n",
    "df = pd.concat([onehot_dummies, df[numeric_columns]], axis = 1)"
   ],
   "metadata": {
    "collapsed": false,
    "pycharm": {
     "name": "#%%\n",
     "is_executing": false
    }
   }
  },
  {
   "cell_type": "code",
   "execution_count": 12,
   "outputs": [
    {
     "data": {
      "text/plain": "   job_admin.  job_blue-collar  job_entrepreneur  job_housemaid  \\\n0           0                1                 0              0   \n1           0                0                 0              0   \n2           0                0                 0              0   \n3           0                0                 0              0   \n4           0                0                 0              0   \n\n   job_management  job_retired  job_self-employed  job_services  job_student  \\\n0               0            0                  0             0            0   \n1               0            0                  0             0            0   \n2               1            0                  0             0            0   \n3               0            0                  0             1            0   \n4               0            1                  0             0            0   \n\n   job_technician  ...  duration  campaign  pdays  previous  emp_var_rate  \\\n0               0  ...     210.0         1    999         0           1.4   \n1               1  ...     138.0         1    999         0          -0.1   \n2               0  ...     339.0         3      6         2          -1.7   \n3               0  ...     185.0         2    999         0          -1.8   \n4               0  ...     137.0         1      3         1          -2.9   \n\n   cons_price_idx  cons_conf_idx  euribor3m  nr_employed  y  \n0          93.444          -36.1      4.963       5228.1  0  \n1          93.200          -42.0      4.021       5195.8  0  \n2          94.055          -39.8      0.729       4991.6  1  \n3          93.075          -47.1      1.405       5099.1  0  \n4          92.201          -31.4      0.869       5076.2  1  \n\n[5 rows x 61 columns]",
      "text/html": "<div>\n<style scoped>\n    .dataframe tbody tr th:only-of-type {\n        vertical-align: middle;\n    }\n\n    .dataframe tbody tr th {\n        vertical-align: top;\n    }\n\n    .dataframe thead th {\n        text-align: right;\n    }\n</style>\n<table border=\"1\" class=\"dataframe\">\n  <thead>\n    <tr style=\"text-align: right;\">\n      <th></th>\n      <th>job_admin.</th>\n      <th>job_blue-collar</th>\n      <th>job_entrepreneur</th>\n      <th>job_housemaid</th>\n      <th>job_management</th>\n      <th>job_retired</th>\n      <th>job_self-employed</th>\n      <th>job_services</th>\n      <th>job_student</th>\n      <th>job_technician</th>\n      <th>...</th>\n      <th>duration</th>\n      <th>campaign</th>\n      <th>pdays</th>\n      <th>previous</th>\n      <th>emp_var_rate</th>\n      <th>cons_price_idx</th>\n      <th>cons_conf_idx</th>\n      <th>euribor3m</th>\n      <th>nr_employed</th>\n      <th>y</th>\n    </tr>\n  </thead>\n  <tbody>\n    <tr>\n      <th>0</th>\n      <td>0</td>\n      <td>1</td>\n      <td>0</td>\n      <td>0</td>\n      <td>0</td>\n      <td>0</td>\n      <td>0</td>\n      <td>0</td>\n      <td>0</td>\n      <td>0</td>\n      <td>...</td>\n      <td>210.0</td>\n      <td>1</td>\n      <td>999</td>\n      <td>0</td>\n      <td>1.4</td>\n      <td>93.444</td>\n      <td>-36.1</td>\n      <td>4.963</td>\n      <td>5228.1</td>\n      <td>0</td>\n    </tr>\n    <tr>\n      <th>1</th>\n      <td>0</td>\n      <td>0</td>\n      <td>0</td>\n      <td>0</td>\n      <td>0</td>\n      <td>0</td>\n      <td>0</td>\n      <td>0</td>\n      <td>0</td>\n      <td>1</td>\n      <td>...</td>\n      <td>138.0</td>\n      <td>1</td>\n      <td>999</td>\n      <td>0</td>\n      <td>-0.1</td>\n      <td>93.200</td>\n      <td>-42.0</td>\n      <td>4.021</td>\n      <td>5195.8</td>\n      <td>0</td>\n    </tr>\n    <tr>\n      <th>2</th>\n      <td>0</td>\n      <td>0</td>\n      <td>0</td>\n      <td>0</td>\n      <td>1</td>\n      <td>0</td>\n      <td>0</td>\n      <td>0</td>\n      <td>0</td>\n      <td>0</td>\n      <td>...</td>\n      <td>339.0</td>\n      <td>3</td>\n      <td>6</td>\n      <td>2</td>\n      <td>-1.7</td>\n      <td>94.055</td>\n      <td>-39.8</td>\n      <td>0.729</td>\n      <td>4991.6</td>\n      <td>1</td>\n    </tr>\n    <tr>\n      <th>3</th>\n      <td>0</td>\n      <td>0</td>\n      <td>0</td>\n      <td>0</td>\n      <td>0</td>\n      <td>0</td>\n      <td>0</td>\n      <td>1</td>\n      <td>0</td>\n      <td>0</td>\n      <td>...</td>\n      <td>185.0</td>\n      <td>2</td>\n      <td>999</td>\n      <td>0</td>\n      <td>-1.8</td>\n      <td>93.075</td>\n      <td>-47.1</td>\n      <td>1.405</td>\n      <td>5099.1</td>\n      <td>0</td>\n    </tr>\n    <tr>\n      <th>4</th>\n      <td>0</td>\n      <td>0</td>\n      <td>0</td>\n      <td>0</td>\n      <td>0</td>\n      <td>1</td>\n      <td>0</td>\n      <td>0</td>\n      <td>0</td>\n      <td>0</td>\n      <td>...</td>\n      <td>137.0</td>\n      <td>1</td>\n      <td>3</td>\n      <td>1</td>\n      <td>-2.9</td>\n      <td>92.201</td>\n      <td>-31.4</td>\n      <td>0.869</td>\n      <td>5076.2</td>\n      <td>1</td>\n    </tr>\n  </tbody>\n</table>\n<p>5 rows × 61 columns</p>\n</div>"
     },
     "metadata": {},
     "output_type": "execute_result",
     "execution_count": 12
    }
   ],
   "source": [
    "# print the first five elements of the dataframe\n",
    "df.head()"
   ],
   "metadata": {
    "collapsed": false,
    "pycharm": {
     "name": "#%%\n",
     "is_executing": false
    }
   }
  },
  {
   "cell_type": "code",
   "execution_count": 13,
   "outputs": [
    {
     "name": "stdout",
     "text": [
      "<class 'pandas.core.frame.DataFrame'>\nInt64Index: 41187 entries, 0 to 41194\nData columns (total 61 columns):\njob_admin.                41187 non-null uint8\njob_blue-collar           41187 non-null uint8\njob_entrepreneur          41187 non-null uint8\njob_housemaid             41187 non-null uint8\njob_management            41187 non-null uint8\njob_retired               41187 non-null uint8\njob_self-employed         41187 non-null uint8\njob_services              41187 non-null uint8\njob_student               41187 non-null uint8\njob_technician            41187 non-null uint8\njob_unemployed            41187 non-null uint8\njob_unknown               41187 non-null uint8\nmarital_divorced          41187 non-null uint8\nmarital_married           41187 non-null uint8\nmarital_single            41187 non-null uint8\nmarital_unknown           41187 non-null uint8\neducation_basic           41187 non-null uint8\neducation_high.school     41187 non-null uint8\neducation_professional    41187 non-null uint8\neducation_university      41187 non-null uint8\neducation_unknown         41187 non-null uint8\ndefault_no                41187 non-null uint8\ndefault_unknown           41187 non-null uint8\ndefault_yes               41187 non-null uint8\nhousing_no                41187 non-null uint8\nhousing_unknown           41187 non-null uint8\nhousing_yes               41187 non-null uint8\nloan_no                   41187 non-null uint8\nloan_unknown              41187 non-null uint8\nloan_yes                  41187 non-null uint8\ncontact_cellular          41187 non-null uint8\ncontact_telephone         41187 non-null uint8\nmonth_apr                 41187 non-null uint8\nmonth_aug                 41187 non-null uint8\nmonth_dec                 41187 non-null uint8\nmonth_jul                 41187 non-null uint8\nmonth_jun                 41187 non-null uint8\nmonth_mar                 41187 non-null uint8\nmonth_may                 41187 non-null uint8\nmonth_nov                 41187 non-null uint8\nmonth_oct                 41187 non-null uint8\nmonth_sep                 41187 non-null uint8\nday_of_week_fri           41187 non-null uint8\nday_of_week_mon           41187 non-null uint8\nday_of_week_thu           41187 non-null uint8\nday_of_week_tue           41187 non-null uint8\nday_of_week_wed           41187 non-null uint8\npoutcome_failure          41187 non-null uint8\npoutcome_nonexistent      41187 non-null uint8\npoutcome_success          41187 non-null uint8\nage                       41187 non-null float64\nduration                  41187 non-null float64\ncampaign                  41187 non-null int64\npdays                     41187 non-null int64\nprevious                  41187 non-null int64\nemp_var_rate              41187 non-null float64\ncons_price_idx            41187 non-null float64\ncons_conf_idx             41187 non-null float64\neuribor3m                 41187 non-null float64\nnr_employed               41187 non-null float64\ny                         41187 non-null int64\ndtypes: float64(7), int64(4), uint8(50)\nmemory usage: 5.7 MB\n"
     ],
     "output_type": "stream"
    }
   ],
   "source": [
    "# get the basic information for the data frame\n",
    "df.info()"
   ],
   "metadata": {
    "collapsed": false,
    "pycharm": {
     "name": "#%%\n",
     "is_executing": false
    }
   }
  },
  {
   "cell_type": "code",
   "execution_count": 14,
   "outputs": [
    {
     "data": {
      "text/plain": "       job_admin.  job_blue-collar  job_entrepreneur  job_housemaid  \\\n0               0                1                 0              0   \n1               0                0                 0              0   \n2               0                0                 0              0   \n3               0                0                 0              0   \n4               0                0                 0              0   \n...           ...              ...               ...            ...   \n41182           1                0                 0              0   \n41183           0                0                 0              0   \n41184           0                0                 0              1   \n41187           0                0                 0              0   \n41194           0                0                 0              0   \n\n       job_management  job_retired  job_self-employed  job_services  \\\n0                   0            0                  0             0   \n1                   0            0                  0             0   \n2                   1            0                  0             0   \n3                   0            0                  0             1   \n4                   0            1                  0             0   \n...               ...          ...                ...           ...   \n41182               0            0                  0             0   \n41183               0            1                  0             0   \n41184               0            0                  0             0   \n41187               0            0                  0             0   \n41194               0            1                  0             0   \n\n       job_student  job_technician  ...    age  duration  campaign  pdays  \\\n0                0               0  ...   44.0     210.0         1    999   \n1                0               1  ...   53.0     138.0         1    999   \n2                0               0  ...   28.0     339.0         3      6   \n3                0               0  ...   39.0     185.0         2    999   \n4                0               0  ...   55.0     137.0         1      3   \n...            ...             ...  ...    ...       ...       ...    ...   \n41182            0               0  ...   24.0     118.0         4    999   \n41183            0               0  ...   59.0     222.0         1    999   \n41184            0               0  ...   31.0     196.0         2    999   \n41187            1               0  ...   25.0     112.0         4    999   \n41194            0               0  ...  104.0     222.0         1    999   \n\n       previous  emp_var_rate  cons_price_idx  cons_conf_idx  euribor3m  \\\n0             0           1.4          93.444          -36.1      4.963   \n1             0          -0.1          93.200          -42.0      4.021   \n2             2          -1.7          94.055          -39.8      0.729   \n3             0          -1.8          93.075          -47.1      1.405   \n4             1          -2.9          92.201          -31.4      0.869   \n...         ...           ...             ...            ...        ...   \n41182         1          -1.8          92.893          -46.2      1.266   \n41183         0           1.4          94.465          -41.8      4.866   \n41184         0           1.1          93.994          -36.4      4.860   \n41187         0           1.1          93.994          -36.4      4.859   \n41194         0           1.4          94.465          -41.8      4.866   \n\n       nr_employed  \n0           5228.1  \n1           5195.8  \n2           4991.6  \n3           5099.1  \n4           5076.2  \n...            ...  \n41182       5099.1  \n41183       5228.1  \n41184       5191.0  \n41187       5191.0  \n41194       5228.1  \n\n[41187 rows x 60 columns]",
      "text/html": "<div>\n<style scoped>\n    .dataframe tbody tr th:only-of-type {\n        vertical-align: middle;\n    }\n\n    .dataframe tbody tr th {\n        vertical-align: top;\n    }\n\n    .dataframe thead th {\n        text-align: right;\n    }\n</style>\n<table border=\"1\" class=\"dataframe\">\n  <thead>\n    <tr style=\"text-align: right;\">\n      <th></th>\n      <th>job_admin.</th>\n      <th>job_blue-collar</th>\n      <th>job_entrepreneur</th>\n      <th>job_housemaid</th>\n      <th>job_management</th>\n      <th>job_retired</th>\n      <th>job_self-employed</th>\n      <th>job_services</th>\n      <th>job_student</th>\n      <th>job_technician</th>\n      <th>...</th>\n      <th>age</th>\n      <th>duration</th>\n      <th>campaign</th>\n      <th>pdays</th>\n      <th>previous</th>\n      <th>emp_var_rate</th>\n      <th>cons_price_idx</th>\n      <th>cons_conf_idx</th>\n      <th>euribor3m</th>\n      <th>nr_employed</th>\n    </tr>\n  </thead>\n  <tbody>\n    <tr>\n      <th>0</th>\n      <td>0</td>\n      <td>1</td>\n      <td>0</td>\n      <td>0</td>\n      <td>0</td>\n      <td>0</td>\n      <td>0</td>\n      <td>0</td>\n      <td>0</td>\n      <td>0</td>\n      <td>...</td>\n      <td>44.0</td>\n      <td>210.0</td>\n      <td>1</td>\n      <td>999</td>\n      <td>0</td>\n      <td>1.4</td>\n      <td>93.444</td>\n      <td>-36.1</td>\n      <td>4.963</td>\n      <td>5228.1</td>\n    </tr>\n    <tr>\n      <th>1</th>\n      <td>0</td>\n      <td>0</td>\n      <td>0</td>\n      <td>0</td>\n      <td>0</td>\n      <td>0</td>\n      <td>0</td>\n      <td>0</td>\n      <td>0</td>\n      <td>1</td>\n      <td>...</td>\n      <td>53.0</td>\n      <td>138.0</td>\n      <td>1</td>\n      <td>999</td>\n      <td>0</td>\n      <td>-0.1</td>\n      <td>93.200</td>\n      <td>-42.0</td>\n      <td>4.021</td>\n      <td>5195.8</td>\n    </tr>\n    <tr>\n      <th>2</th>\n      <td>0</td>\n      <td>0</td>\n      <td>0</td>\n      <td>0</td>\n      <td>1</td>\n      <td>0</td>\n      <td>0</td>\n      <td>0</td>\n      <td>0</td>\n      <td>0</td>\n      <td>...</td>\n      <td>28.0</td>\n      <td>339.0</td>\n      <td>3</td>\n      <td>6</td>\n      <td>2</td>\n      <td>-1.7</td>\n      <td>94.055</td>\n      <td>-39.8</td>\n      <td>0.729</td>\n      <td>4991.6</td>\n    </tr>\n    <tr>\n      <th>3</th>\n      <td>0</td>\n      <td>0</td>\n      <td>0</td>\n      <td>0</td>\n      <td>0</td>\n      <td>0</td>\n      <td>0</td>\n      <td>1</td>\n      <td>0</td>\n      <td>0</td>\n      <td>...</td>\n      <td>39.0</td>\n      <td>185.0</td>\n      <td>2</td>\n      <td>999</td>\n      <td>0</td>\n      <td>-1.8</td>\n      <td>93.075</td>\n      <td>-47.1</td>\n      <td>1.405</td>\n      <td>5099.1</td>\n    </tr>\n    <tr>\n      <th>4</th>\n      <td>0</td>\n      <td>0</td>\n      <td>0</td>\n      <td>0</td>\n      <td>0</td>\n      <td>1</td>\n      <td>0</td>\n      <td>0</td>\n      <td>0</td>\n      <td>0</td>\n      <td>...</td>\n      <td>55.0</td>\n      <td>137.0</td>\n      <td>1</td>\n      <td>3</td>\n      <td>1</td>\n      <td>-2.9</td>\n      <td>92.201</td>\n      <td>-31.4</td>\n      <td>0.869</td>\n      <td>5076.2</td>\n    </tr>\n    <tr>\n      <th>5</th>\n      <td>0</td>\n      <td>0</td>\n      <td>0</td>\n      <td>0</td>\n      <td>1</td>\n      <td>0</td>\n      <td>0</td>\n      <td>0</td>\n      <td>0</td>\n      <td>0</td>\n      <td>...</td>\n      <td>30.0</td>\n      <td>68.0</td>\n      <td>8</td>\n      <td>999</td>\n      <td>0</td>\n      <td>1.4</td>\n      <td>93.918</td>\n      <td>-42.7</td>\n      <td>4.961</td>\n      <td>5228.1</td>\n    </tr>\n    <tr>\n      <th>6</th>\n      <td>0</td>\n      <td>1</td>\n      <td>0</td>\n      <td>0</td>\n      <td>0</td>\n      <td>0</td>\n      <td>0</td>\n      <td>0</td>\n      <td>0</td>\n      <td>0</td>\n      <td>...</td>\n      <td>37.0</td>\n      <td>204.0</td>\n      <td>1</td>\n      <td>999</td>\n      <td>0</td>\n      <td>-1.8</td>\n      <td>92.893</td>\n      <td>-46.2</td>\n      <td>1.327</td>\n      <td>5099.1</td>\n    </tr>\n    <tr>\n      <th>7</th>\n      <td>0</td>\n      <td>1</td>\n      <td>0</td>\n      <td>0</td>\n      <td>0</td>\n      <td>0</td>\n      <td>0</td>\n      <td>0</td>\n      <td>0</td>\n      <td>0</td>\n      <td>...</td>\n      <td>39.0</td>\n      <td>191.0</td>\n      <td>1</td>\n      <td>999</td>\n      <td>0</td>\n      <td>-1.8</td>\n      <td>92.893</td>\n      <td>-46.2</td>\n      <td>1.313</td>\n      <td>5099.1</td>\n    </tr>\n    <tr>\n      <th>8</th>\n      <td>1</td>\n      <td>0</td>\n      <td>0</td>\n      <td>0</td>\n      <td>0</td>\n      <td>0</td>\n      <td>0</td>\n      <td>0</td>\n      <td>0</td>\n      <td>0</td>\n      <td>...</td>\n      <td>36.0</td>\n      <td>174.0</td>\n      <td>1</td>\n      <td>3</td>\n      <td>1</td>\n      <td>-2.9</td>\n      <td>92.963</td>\n      <td>-40.8</td>\n      <td>1.266</td>\n      <td>5076.2</td>\n    </tr>\n    <tr>\n      <th>9</th>\n      <td>0</td>\n      <td>1</td>\n      <td>0</td>\n      <td>0</td>\n      <td>0</td>\n      <td>0</td>\n      <td>0</td>\n      <td>0</td>\n      <td>0</td>\n      <td>0</td>\n      <td>...</td>\n      <td>27.0</td>\n      <td>191.0</td>\n      <td>2</td>\n      <td>999</td>\n      <td>1</td>\n      <td>-1.8</td>\n      <td>93.075</td>\n      <td>-47.1</td>\n      <td>1.410</td>\n      <td>5099.1</td>\n    </tr>\n    <tr>\n      <th>10</th>\n      <td>0</td>\n      <td>0</td>\n      <td>0</td>\n      <td>1</td>\n      <td>0</td>\n      <td>0</td>\n      <td>0</td>\n      <td>0</td>\n      <td>0</td>\n      <td>0</td>\n      <td>...</td>\n      <td>34.0</td>\n      <td>62.0</td>\n      <td>2</td>\n      <td>999</td>\n      <td>0</td>\n      <td>1.1</td>\n      <td>93.994</td>\n      <td>-36.4</td>\n      <td>4.864</td>\n      <td>5191.0</td>\n    </tr>\n    <tr>\n      <th>11</th>\n      <td>0</td>\n      <td>0</td>\n      <td>0</td>\n      <td>0</td>\n      <td>1</td>\n      <td>0</td>\n      <td>0</td>\n      <td>0</td>\n      <td>0</td>\n      <td>0</td>\n      <td>...</td>\n      <td>41.0</td>\n      <td>789.0</td>\n      <td>1</td>\n      <td>999</td>\n      <td>0</td>\n      <td>1.4</td>\n      <td>93.444</td>\n      <td>-36.1</td>\n      <td>4.964</td>\n      <td>5228.1</td>\n    </tr>\n    <tr>\n      <th>12</th>\n      <td>0</td>\n      <td>0</td>\n      <td>0</td>\n      <td>0</td>\n      <td>1</td>\n      <td>0</td>\n      <td>0</td>\n      <td>0</td>\n      <td>0</td>\n      <td>0</td>\n      <td>...</td>\n      <td>55.0</td>\n      <td>372.0</td>\n      <td>3</td>\n      <td>999</td>\n      <td>0</td>\n      <td>1.4</td>\n      <td>93.444</td>\n      <td>-36.1</td>\n      <td>4.965</td>\n      <td>5228.1</td>\n    </tr>\n    <tr>\n      <th>13</th>\n      <td>0</td>\n      <td>0</td>\n      <td>0</td>\n      <td>0</td>\n      <td>0</td>\n      <td>0</td>\n      <td>0</td>\n      <td>1</td>\n      <td>0</td>\n      <td>0</td>\n      <td>...</td>\n      <td>33.0</td>\n      <td>75.0</td>\n      <td>5</td>\n      <td>999</td>\n      <td>0</td>\n      <td>-1.8</td>\n      <td>92.893</td>\n      <td>-46.2</td>\n      <td>1.291</td>\n      <td>5099.1</td>\n    </tr>\n    <tr>\n      <th>14</th>\n      <td>1</td>\n      <td>0</td>\n      <td>0</td>\n      <td>0</td>\n      <td>0</td>\n      <td>0</td>\n      <td>0</td>\n      <td>0</td>\n      <td>0</td>\n      <td>0</td>\n      <td>...</td>\n      <td>26.0</td>\n      <td>1021.0</td>\n      <td>1</td>\n      <td>999</td>\n      <td>0</td>\n      <td>1.4</td>\n      <td>94.465</td>\n      <td>-41.8</td>\n      <td>4.960</td>\n      <td>5228.1</td>\n    </tr>\n    <tr>\n      <th>15</th>\n      <td>0</td>\n      <td>0</td>\n      <td>0</td>\n      <td>0</td>\n      <td>0</td>\n      <td>0</td>\n      <td>0</td>\n      <td>1</td>\n      <td>0</td>\n      <td>0</td>\n      <td>...</td>\n      <td>52.0</td>\n      <td>117.0</td>\n      <td>2</td>\n      <td>999</td>\n      <td>0</td>\n      <td>1.4</td>\n      <td>93.918</td>\n      <td>-42.7</td>\n      <td>4.962</td>\n      <td>5228.1</td>\n    </tr>\n    <tr>\n      <th>16</th>\n      <td>0</td>\n      <td>0</td>\n      <td>0</td>\n      <td>0</td>\n      <td>0</td>\n      <td>0</td>\n      <td>0</td>\n      <td>1</td>\n      <td>0</td>\n      <td>0</td>\n      <td>...</td>\n      <td>35.0</td>\n      <td>1034.0</td>\n      <td>2</td>\n      <td>999</td>\n      <td>0</td>\n      <td>-1.8</td>\n      <td>93.075</td>\n      <td>-47.1</td>\n      <td>1.365</td>\n      <td>5099.1</td>\n    </tr>\n    <tr>\n      <th>17</th>\n      <td>1</td>\n      <td>0</td>\n      <td>0</td>\n      <td>0</td>\n      <td>0</td>\n      <td>0</td>\n      <td>0</td>\n      <td>0</td>\n      <td>0</td>\n      <td>0</td>\n      <td>...</td>\n      <td>27.0</td>\n      <td>540.0</td>\n      <td>1</td>\n      <td>999</td>\n      <td>0</td>\n      <td>-0.1</td>\n      <td>93.798</td>\n      <td>-40.4</td>\n      <td>4.860</td>\n      <td>5195.8</td>\n    </tr>\n    <tr>\n      <th>18</th>\n      <td>0</td>\n      <td>1</td>\n      <td>0</td>\n      <td>0</td>\n      <td>0</td>\n      <td>0</td>\n      <td>0</td>\n      <td>0</td>\n      <td>0</td>\n      <td>0</td>\n      <td>...</td>\n      <td>28.0</td>\n      <td>140.0</td>\n      <td>1</td>\n      <td>999</td>\n      <td>0</td>\n      <td>1.1</td>\n      <td>93.994</td>\n      <td>-36.4</td>\n      <td>4.860</td>\n      <td>5191.0</td>\n    </tr>\n    <tr>\n      <th>19</th>\n      <td>0</td>\n      <td>0</td>\n      <td>0</td>\n      <td>0</td>\n      <td>0</td>\n      <td>0</td>\n      <td>0</td>\n      <td>0</td>\n      <td>0</td>\n      <td>0</td>\n      <td>...</td>\n      <td>26.0</td>\n      <td>104.0</td>\n      <td>4</td>\n      <td>999</td>\n      <td>0</td>\n      <td>1.4</td>\n      <td>93.918</td>\n      <td>-42.7</td>\n      <td>4.960</td>\n      <td>5228.1</td>\n    </tr>\n    <tr>\n      <th>20</th>\n      <td>0</td>\n      <td>0</td>\n      <td>0</td>\n      <td>0</td>\n      <td>0</td>\n      <td>0</td>\n      <td>0</td>\n      <td>0</td>\n      <td>0</td>\n      <td>0</td>\n      <td>...</td>\n      <td>41.0</td>\n      <td>246.0</td>\n      <td>1</td>\n      <td>999</td>\n      <td>1</td>\n      <td>-1.8</td>\n      <td>93.075</td>\n      <td>-47.1</td>\n      <td>1.405</td>\n      <td>5099.1</td>\n    </tr>\n    <tr>\n      <th>21</th>\n      <td>0</td>\n      <td>1</td>\n      <td>0</td>\n      <td>0</td>\n      <td>0</td>\n      <td>0</td>\n      <td>0</td>\n      <td>0</td>\n      <td>0</td>\n      <td>0</td>\n      <td>...</td>\n      <td>35.0</td>\n      <td>1114.0</td>\n      <td>1</td>\n      <td>999</td>\n      <td>0</td>\n      <td>1.4</td>\n      <td>94.465</td>\n      <td>-41.8</td>\n      <td>4.967</td>\n      <td>5228.1</td>\n    </tr>\n    <tr>\n      <th>22</th>\n      <td>1</td>\n      <td>0</td>\n      <td>0</td>\n      <td>0</td>\n      <td>0</td>\n      <td>0</td>\n      <td>0</td>\n      <td>0</td>\n      <td>0</td>\n      <td>0</td>\n      <td>...</td>\n      <td>40.0</td>\n      <td>340.0</td>\n      <td>1</td>\n      <td>999</td>\n      <td>0</td>\n      <td>1.4</td>\n      <td>93.918</td>\n      <td>-42.7</td>\n      <td>4.963</td>\n      <td>5228.1</td>\n    </tr>\n    <tr>\n      <th>23</th>\n      <td>0</td>\n      <td>0</td>\n      <td>0</td>\n      <td>0</td>\n      <td>0</td>\n      <td>0</td>\n      <td>0</td>\n      <td>0</td>\n      <td>0</td>\n      <td>1</td>\n      <td>...</td>\n      <td>32.0</td>\n      <td>35.0</td>\n      <td>1</td>\n      <td>999</td>\n      <td>0</td>\n      <td>1.4</td>\n      <td>93.918</td>\n      <td>-42.7</td>\n      <td>4.968</td>\n      <td>5228.1</td>\n    </tr>\n    <tr>\n      <th>24</th>\n      <td>0</td>\n      <td>1</td>\n      <td>0</td>\n      <td>0</td>\n      <td>0</td>\n      <td>0</td>\n      <td>0</td>\n      <td>0</td>\n      <td>0</td>\n      <td>0</td>\n      <td>...</td>\n      <td>41.0</td>\n      <td>241.0</td>\n      <td>3</td>\n      <td>999</td>\n      <td>0</td>\n      <td>1.4</td>\n      <td>93.918</td>\n      <td>-42.7</td>\n      <td>4.962</td>\n      <td>5228.1</td>\n    </tr>\n    <tr>\n      <th>25</th>\n      <td>0</td>\n      <td>0</td>\n      <td>1</td>\n      <td>0</td>\n      <td>0</td>\n      <td>0</td>\n      <td>0</td>\n      <td>0</td>\n      <td>0</td>\n      <td>0</td>\n      <td>...</td>\n      <td>34.0</td>\n      <td>168.0</td>\n      <td>2</td>\n      <td>999</td>\n      <td>0</td>\n      <td>-1.8</td>\n      <td>92.893</td>\n      <td>-46.2</td>\n      <td>1.344</td>\n      <td>5099.1</td>\n    </tr>\n    <tr>\n      <th>26</th>\n      <td>0</td>\n      <td>0</td>\n      <td>0</td>\n      <td>0</td>\n      <td>0</td>\n      <td>0</td>\n      <td>0</td>\n      <td>0</td>\n      <td>0</td>\n      <td>1</td>\n      <td>...</td>\n      <td>49.0</td>\n      <td>81.0</td>\n      <td>1</td>\n      <td>999</td>\n      <td>0</td>\n      <td>-3.4</td>\n      <td>92.431</td>\n      <td>-26.9</td>\n      <td>0.754</td>\n      <td>5017.5</td>\n    </tr>\n    <tr>\n      <th>27</th>\n      <td>1</td>\n      <td>0</td>\n      <td>0</td>\n      <td>0</td>\n      <td>0</td>\n      <td>0</td>\n      <td>0</td>\n      <td>0</td>\n      <td>0</td>\n      <td>0</td>\n      <td>...</td>\n      <td>37.0</td>\n      <td>226.0</td>\n      <td>1</td>\n      <td>2</td>\n      <td>1</td>\n      <td>-1.8</td>\n      <td>93.075</td>\n      <td>-47.1</td>\n      <td>1.365</td>\n      <td>5099.1</td>\n    </tr>\n    <tr>\n      <th>28</th>\n      <td>0</td>\n      <td>1</td>\n      <td>0</td>\n      <td>0</td>\n      <td>0</td>\n      <td>0</td>\n      <td>0</td>\n      <td>0</td>\n      <td>0</td>\n      <td>0</td>\n      <td>...</td>\n      <td>35.0</td>\n      <td>746.0</td>\n      <td>2</td>\n      <td>999</td>\n      <td>0</td>\n      <td>-1.8</td>\n      <td>92.893</td>\n      <td>-46.2</td>\n      <td>1.313</td>\n      <td>5099.1</td>\n    </tr>\n    <tr>\n      <th>29</th>\n      <td>0</td>\n      <td>1</td>\n      <td>0</td>\n      <td>0</td>\n      <td>0</td>\n      <td>0</td>\n      <td>0</td>\n      <td>0</td>\n      <td>0</td>\n      <td>0</td>\n      <td>...</td>\n      <td>38.0</td>\n      <td>41.0</td>\n      <td>5</td>\n      <td>999</td>\n      <td>0</td>\n      <td>1.4</td>\n      <td>93.918</td>\n      <td>-42.7</td>\n      <td>4.961</td>\n      <td>5228.1</td>\n    </tr>\n    <tr>\n      <th>...</th>\n      <td>...</td>\n      <td>...</td>\n      <td>...</td>\n      <td>...</td>\n      <td>...</td>\n      <td>...</td>\n      <td>...</td>\n      <td>...</td>\n      <td>...</td>\n      <td>...</td>\n      <td>...</td>\n      <td>...</td>\n      <td>...</td>\n      <td>...</td>\n      <td>...</td>\n      <td>...</td>\n      <td>...</td>\n      <td>...</td>\n      <td>...</td>\n      <td>...</td>\n      <td>...</td>\n    </tr>\n    <tr>\n      <th>41157</th>\n      <td>0</td>\n      <td>0</td>\n      <td>0</td>\n      <td>0</td>\n      <td>0</td>\n      <td>0</td>\n      <td>0</td>\n      <td>1</td>\n      <td>0</td>\n      <td>0</td>\n      <td>...</td>\n      <td>34.0</td>\n      <td>80.0</td>\n      <td>1</td>\n      <td>999</td>\n      <td>0</td>\n      <td>1.4</td>\n      <td>93.918</td>\n      <td>-42.7</td>\n      <td>4.960</td>\n      <td>5228.1</td>\n    </tr>\n    <tr>\n      <th>41158</th>\n      <td>0</td>\n      <td>0</td>\n      <td>0</td>\n      <td>0</td>\n      <td>0</td>\n      <td>0</td>\n      <td>0</td>\n      <td>1</td>\n      <td>0</td>\n      <td>0</td>\n      <td>...</td>\n      <td>30.0</td>\n      <td>127.0</td>\n      <td>1</td>\n      <td>999</td>\n      <td>0</td>\n      <td>1.4</td>\n      <td>94.465</td>\n      <td>-41.8</td>\n      <td>4.967</td>\n      <td>5228.1</td>\n    </tr>\n    <tr>\n      <th>41159</th>\n      <td>1</td>\n      <td>0</td>\n      <td>0</td>\n      <td>0</td>\n      <td>0</td>\n      <td>0</td>\n      <td>0</td>\n      <td>0</td>\n      <td>0</td>\n      <td>0</td>\n      <td>...</td>\n      <td>47.0</td>\n      <td>129.0</td>\n      <td>4</td>\n      <td>999</td>\n      <td>0</td>\n      <td>1.4</td>\n      <td>93.918</td>\n      <td>-42.7</td>\n      <td>4.960</td>\n      <td>5228.1</td>\n    </tr>\n    <tr>\n      <th>41160</th>\n      <td>0</td>\n      <td>0</td>\n      <td>0</td>\n      <td>0</td>\n      <td>1</td>\n      <td>0</td>\n      <td>0</td>\n      <td>0</td>\n      <td>0</td>\n      <td>0</td>\n      <td>...</td>\n      <td>57.0</td>\n      <td>114.0</td>\n      <td>2</td>\n      <td>999</td>\n      <td>0</td>\n      <td>-0.1</td>\n      <td>93.200</td>\n      <td>-42.0</td>\n      <td>4.076</td>\n      <td>5195.8</td>\n    </tr>\n    <tr>\n      <th>41161</th>\n      <td>0</td>\n      <td>1</td>\n      <td>0</td>\n      <td>0</td>\n      <td>0</td>\n      <td>0</td>\n      <td>0</td>\n      <td>0</td>\n      <td>0</td>\n      <td>0</td>\n      <td>...</td>\n      <td>43.0</td>\n      <td>339.0</td>\n      <td>1</td>\n      <td>999</td>\n      <td>0</td>\n      <td>1.4</td>\n      <td>93.918</td>\n      <td>-42.7</td>\n      <td>4.960</td>\n      <td>5228.1</td>\n    </tr>\n    <tr>\n      <th>41162</th>\n      <td>0</td>\n      <td>0</td>\n      <td>0</td>\n      <td>0</td>\n      <td>0</td>\n      <td>0</td>\n      <td>1</td>\n      <td>0</td>\n      <td>0</td>\n      <td>0</td>\n      <td>...</td>\n      <td>43.0</td>\n      <td>902.0</td>\n      <td>2</td>\n      <td>999</td>\n      <td>0</td>\n      <td>-1.8</td>\n      <td>93.075</td>\n      <td>-47.1</td>\n      <td>1.445</td>\n      <td>5099.1</td>\n    </tr>\n    <tr>\n      <th>41163</th>\n      <td>0</td>\n      <td>1</td>\n      <td>0</td>\n      <td>0</td>\n      <td>0</td>\n      <td>0</td>\n      <td>0</td>\n      <td>0</td>\n      <td>0</td>\n      <td>0</td>\n      <td>...</td>\n      <td>22.0</td>\n      <td>396.0</td>\n      <td>1</td>\n      <td>999</td>\n      <td>0</td>\n      <td>1.1</td>\n      <td>93.994</td>\n      <td>-36.4</td>\n      <td>4.856</td>\n      <td>5191.0</td>\n    </tr>\n    <tr>\n      <th>41164</th>\n      <td>0</td>\n      <td>0</td>\n      <td>0</td>\n      <td>0</td>\n      <td>0</td>\n      <td>0</td>\n      <td>0</td>\n      <td>0</td>\n      <td>0</td>\n      <td>1</td>\n      <td>...</td>\n      <td>33.0</td>\n      <td>436.0</td>\n      <td>2</td>\n      <td>999</td>\n      <td>0</td>\n      <td>1.4</td>\n      <td>93.444</td>\n      <td>-36.1</td>\n      <td>4.963</td>\n      <td>5228.1</td>\n    </tr>\n    <tr>\n      <th>41165</th>\n      <td>1</td>\n      <td>0</td>\n      <td>0</td>\n      <td>0</td>\n      <td>0</td>\n      <td>0</td>\n      <td>0</td>\n      <td>0</td>\n      <td>0</td>\n      <td>0</td>\n      <td>...</td>\n      <td>56.0</td>\n      <td>476.0</td>\n      <td>2</td>\n      <td>999</td>\n      <td>0</td>\n      <td>1.4</td>\n      <td>93.444</td>\n      <td>-36.1</td>\n      <td>4.965</td>\n      <td>5228.1</td>\n    </tr>\n    <tr>\n      <th>41166</th>\n      <td>1</td>\n      <td>0</td>\n      <td>0</td>\n      <td>0</td>\n      <td>0</td>\n      <td>0</td>\n      <td>0</td>\n      <td>0</td>\n      <td>0</td>\n      <td>0</td>\n      <td>...</td>\n      <td>31.0</td>\n      <td>208.0</td>\n      <td>1</td>\n      <td>999</td>\n      <td>0</td>\n      <td>-1.8</td>\n      <td>92.893</td>\n      <td>-46.2</td>\n      <td>1.334</td>\n      <td>5099.1</td>\n    </tr>\n    <tr>\n      <th>41167</th>\n      <td>1</td>\n      <td>0</td>\n      <td>0</td>\n      <td>0</td>\n      <td>0</td>\n      <td>0</td>\n      <td>0</td>\n      <td>0</td>\n      <td>0</td>\n      <td>0</td>\n      <td>...</td>\n      <td>30.0</td>\n      <td>251.0</td>\n      <td>3</td>\n      <td>999</td>\n      <td>0</td>\n      <td>1.4</td>\n      <td>93.918</td>\n      <td>-42.7</td>\n      <td>4.963</td>\n      <td>5228.1</td>\n    </tr>\n    <tr>\n      <th>41168</th>\n      <td>0</td>\n      <td>1</td>\n      <td>0</td>\n      <td>0</td>\n      <td>0</td>\n      <td>0</td>\n      <td>0</td>\n      <td>0</td>\n      <td>0</td>\n      <td>0</td>\n      <td>...</td>\n      <td>29.0</td>\n      <td>254.0</td>\n      <td>1</td>\n      <td>999</td>\n      <td>0</td>\n      <td>1.4</td>\n      <td>93.918</td>\n      <td>-42.7</td>\n      <td>4.961</td>\n      <td>5228.1</td>\n    </tr>\n    <tr>\n      <th>41169</th>\n      <td>0</td>\n      <td>0</td>\n      <td>0</td>\n      <td>0</td>\n      <td>0</td>\n      <td>0</td>\n      <td>0</td>\n      <td>0</td>\n      <td>0</td>\n      <td>1</td>\n      <td>...</td>\n      <td>46.0</td>\n      <td>530.0</td>\n      <td>1</td>\n      <td>999</td>\n      <td>0</td>\n      <td>-0.1</td>\n      <td>93.200</td>\n      <td>-42.0</td>\n      <td>4.153</td>\n      <td>5195.8</td>\n    </tr>\n    <tr>\n      <th>41170</th>\n      <td>0</td>\n      <td>0</td>\n      <td>0</td>\n      <td>0</td>\n      <td>0</td>\n      <td>0</td>\n      <td>0</td>\n      <td>0</td>\n      <td>0</td>\n      <td>1</td>\n      <td>...</td>\n      <td>32.0</td>\n      <td>195.0</td>\n      <td>3</td>\n      <td>999</td>\n      <td>0</td>\n      <td>1.4</td>\n      <td>93.444</td>\n      <td>-36.1</td>\n      <td>4.962</td>\n      <td>5228.1</td>\n    </tr>\n    <tr>\n      <th>41171</th>\n      <td>1</td>\n      <td>0</td>\n      <td>0</td>\n      <td>0</td>\n      <td>0</td>\n      <td>0</td>\n      <td>0</td>\n      <td>0</td>\n      <td>0</td>\n      <td>0</td>\n      <td>...</td>\n      <td>42.0</td>\n      <td>956.0</td>\n      <td>2</td>\n      <td>999</td>\n      <td>0</td>\n      <td>1.4</td>\n      <td>94.465</td>\n      <td>-41.8</td>\n      <td>4.961</td>\n      <td>5228.1</td>\n    </tr>\n    <tr>\n      <th>41172</th>\n      <td>0</td>\n      <td>1</td>\n      <td>0</td>\n      <td>0</td>\n      <td>0</td>\n      <td>0</td>\n      <td>0</td>\n      <td>0</td>\n      <td>0</td>\n      <td>0</td>\n      <td>...</td>\n      <td>27.0</td>\n      <td>1309.0</td>\n      <td>4</td>\n      <td>999</td>\n      <td>0</td>\n      <td>1.4</td>\n      <td>93.918</td>\n      <td>-42.7</td>\n      <td>4.963</td>\n      <td>5228.1</td>\n    </tr>\n    <tr>\n      <th>41173</th>\n      <td>0</td>\n      <td>0</td>\n      <td>0</td>\n      <td>0</td>\n      <td>0</td>\n      <td>0</td>\n      <td>1</td>\n      <td>0</td>\n      <td>0</td>\n      <td>0</td>\n      <td>...</td>\n      <td>39.0</td>\n      <td>291.0</td>\n      <td>1</td>\n      <td>999</td>\n      <td>0</td>\n      <td>1.1</td>\n      <td>93.994</td>\n      <td>-36.4</td>\n      <td>4.859</td>\n      <td>5191.0</td>\n    </tr>\n    <tr>\n      <th>41174</th>\n      <td>0</td>\n      <td>0</td>\n      <td>1</td>\n      <td>0</td>\n      <td>0</td>\n      <td>0</td>\n      <td>0</td>\n      <td>0</td>\n      <td>0</td>\n      <td>0</td>\n      <td>...</td>\n      <td>49.0</td>\n      <td>140.0</td>\n      <td>2</td>\n      <td>999</td>\n      <td>0</td>\n      <td>-1.8</td>\n      <td>92.893</td>\n      <td>-46.2</td>\n      <td>1.281</td>\n      <td>5099.1</td>\n    </tr>\n    <tr>\n      <th>41175</th>\n      <td>0</td>\n      <td>1</td>\n      <td>0</td>\n      <td>0</td>\n      <td>0</td>\n      <td>0</td>\n      <td>0</td>\n      <td>0</td>\n      <td>0</td>\n      <td>0</td>\n      <td>...</td>\n      <td>46.0</td>\n      <td>58.0</td>\n      <td>3</td>\n      <td>999</td>\n      <td>0</td>\n      <td>1.4</td>\n      <td>93.444</td>\n      <td>-36.1</td>\n      <td>4.966</td>\n      <td>5228.1</td>\n    </tr>\n    <tr>\n      <th>41176</th>\n      <td>0</td>\n      <td>1</td>\n      <td>0</td>\n      <td>0</td>\n      <td>0</td>\n      <td>0</td>\n      <td>0</td>\n      <td>0</td>\n      <td>0</td>\n      <td>0</td>\n      <td>...</td>\n      <td>30.0</td>\n      <td>74.0</td>\n      <td>2</td>\n      <td>999</td>\n      <td>0</td>\n      <td>-1.8</td>\n      <td>92.893</td>\n      <td>-46.2</td>\n      <td>1.250</td>\n      <td>5099.1</td>\n    </tr>\n    <tr>\n      <th>41177</th>\n      <td>0</td>\n      <td>0</td>\n      <td>0</td>\n      <td>0</td>\n      <td>0</td>\n      <td>0</td>\n      <td>1</td>\n      <td>0</td>\n      <td>0</td>\n      <td>0</td>\n      <td>...</td>\n      <td>52.0</td>\n      <td>73.0</td>\n      <td>1</td>\n      <td>999</td>\n      <td>0</td>\n      <td>1.4</td>\n      <td>94.465</td>\n      <td>-41.8</td>\n      <td>4.967</td>\n      <td>5228.1</td>\n    </tr>\n    <tr>\n      <th>41178</th>\n      <td>0</td>\n      <td>0</td>\n      <td>0</td>\n      <td>0</td>\n      <td>0</td>\n      <td>0</td>\n      <td>0</td>\n      <td>0</td>\n      <td>0</td>\n      <td>1</td>\n      <td>...</td>\n      <td>35.0</td>\n      <td>243.0</td>\n      <td>1</td>\n      <td>999</td>\n      <td>0</td>\n      <td>1.4</td>\n      <td>93.444</td>\n      <td>-36.1</td>\n      <td>4.966</td>\n      <td>5228.1</td>\n    </tr>\n    <tr>\n      <th>41179</th>\n      <td>0</td>\n      <td>0</td>\n      <td>0</td>\n      <td>0</td>\n      <td>0</td>\n      <td>0</td>\n      <td>0</td>\n      <td>0</td>\n      <td>0</td>\n      <td>1</td>\n      <td>...</td>\n      <td>29.0</td>\n      <td>214.0</td>\n      <td>1</td>\n      <td>999</td>\n      <td>0</td>\n      <td>-1.8</td>\n      <td>92.893</td>\n      <td>-46.2</td>\n      <td>1.299</td>\n      <td>5099.1</td>\n    </tr>\n    <tr>\n      <th>41180</th>\n      <td>0</td>\n      <td>0</td>\n      <td>0</td>\n      <td>0</td>\n      <td>0</td>\n      <td>0</td>\n      <td>0</td>\n      <td>1</td>\n      <td>0</td>\n      <td>0</td>\n      <td>...</td>\n      <td>44.0</td>\n      <td>34.0</td>\n      <td>1</td>\n      <td>999</td>\n      <td>0</td>\n      <td>1.4</td>\n      <td>93.444</td>\n      <td>-36.1</td>\n      <td>4.966</td>\n      <td>5228.1</td>\n    </tr>\n    <tr>\n      <th>41181</th>\n      <td>1</td>\n      <td>0</td>\n      <td>0</td>\n      <td>0</td>\n      <td>0</td>\n      <td>0</td>\n      <td>0</td>\n      <td>0</td>\n      <td>0</td>\n      <td>0</td>\n      <td>...</td>\n      <td>39.0</td>\n      <td>123.0</td>\n      <td>2</td>\n      <td>999</td>\n      <td>0</td>\n      <td>-0.1</td>\n      <td>93.200</td>\n      <td>-42.0</td>\n      <td>4.153</td>\n      <td>5195.8</td>\n    </tr>\n    <tr>\n      <th>41182</th>\n      <td>1</td>\n      <td>0</td>\n      <td>0</td>\n      <td>0</td>\n      <td>0</td>\n      <td>0</td>\n      <td>0</td>\n      <td>0</td>\n      <td>0</td>\n      <td>0</td>\n      <td>...</td>\n      <td>24.0</td>\n      <td>118.0</td>\n      <td>4</td>\n      <td>999</td>\n      <td>1</td>\n      <td>-1.8</td>\n      <td>92.893</td>\n      <td>-46.2</td>\n      <td>1.266</td>\n      <td>5099.1</td>\n    </tr>\n    <tr>\n      <th>41183</th>\n      <td>0</td>\n      <td>0</td>\n      <td>0</td>\n      <td>0</td>\n      <td>0</td>\n      <td>1</td>\n      <td>0</td>\n      <td>0</td>\n      <td>0</td>\n      <td>0</td>\n      <td>...</td>\n      <td>59.0</td>\n      <td>222.0</td>\n      <td>1</td>\n      <td>999</td>\n      <td>0</td>\n      <td>1.4</td>\n      <td>94.465</td>\n      <td>-41.8</td>\n      <td>4.866</td>\n      <td>5228.1</td>\n    </tr>\n    <tr>\n      <th>41184</th>\n      <td>0</td>\n      <td>0</td>\n      <td>0</td>\n      <td>1</td>\n      <td>0</td>\n      <td>0</td>\n      <td>0</td>\n      <td>0</td>\n      <td>0</td>\n      <td>0</td>\n      <td>...</td>\n      <td>31.0</td>\n      <td>196.0</td>\n      <td>2</td>\n      <td>999</td>\n      <td>0</td>\n      <td>1.1</td>\n      <td>93.994</td>\n      <td>-36.4</td>\n      <td>4.860</td>\n      <td>5191.0</td>\n    </tr>\n    <tr>\n      <th>41187</th>\n      <td>0</td>\n      <td>0</td>\n      <td>0</td>\n      <td>0</td>\n      <td>0</td>\n      <td>0</td>\n      <td>0</td>\n      <td>0</td>\n      <td>1</td>\n      <td>0</td>\n      <td>...</td>\n      <td>25.0</td>\n      <td>112.0</td>\n      <td>4</td>\n      <td>999</td>\n      <td>0</td>\n      <td>1.1</td>\n      <td>93.994</td>\n      <td>-36.4</td>\n      <td>4.859</td>\n      <td>5191.0</td>\n    </tr>\n    <tr>\n      <th>41194</th>\n      <td>0</td>\n      <td>0</td>\n      <td>0</td>\n      <td>0</td>\n      <td>0</td>\n      <td>1</td>\n      <td>0</td>\n      <td>0</td>\n      <td>0</td>\n      <td>0</td>\n      <td>...</td>\n      <td>104.0</td>\n      <td>222.0</td>\n      <td>1</td>\n      <td>999</td>\n      <td>0</td>\n      <td>1.4</td>\n      <td>94.465</td>\n      <td>-41.8</td>\n      <td>4.866</td>\n      <td>5228.1</td>\n    </tr>\n  </tbody>\n</table>\n<p>41187 rows × 60 columns</p>\n</div>"
     },
     "metadata": {},
     "output_type": "execute_result",
     "execution_count": 14
    }
   ],
   "source": [
    "# split the independent columns\n",
    "X = df.drop(['y'], axis = 1)\n",
    "X"
   ],
   "metadata": {
    "collapsed": false,
    "pycharm": {
     "name": "#%%\n",
     "is_executing": false
    }
   }
  },
  {
   "cell_type": "code",
   "execution_count": 15,
   "outputs": [
    {
     "data": {
      "text/plain": "0        0\n1        0\n2        1\n3        0\n4        1\n        ..\n41182    0\n41183    0\n41184    0\n41187    0\n41194    0\nName: y, Length: 41187, dtype: int64"
     },
     "metadata": {},
     "output_type": "execute_result",
     "execution_count": 15
    }
   ],
   "source": [
    "# split the dependent column\n",
    "y = df['y']\n",
    "y"
   ],
   "metadata": {
    "collapsed": false,
    "pycharm": {
     "name": "#%%\n",
     "is_executing": false
    }
   }
  },
  {
   "cell_type": "code",
   "execution_count": 16,
   "outputs": [],
   "source": [
    "# import train_test_split from sklearn and split the data in train and test data with 80:20 ratio\n",
    "from sklearn.model_selection import train_test_split\n",
    "\n",
    "X_train, X_test, y_train, y_test = train_test_split(X, y, test_size = 0.2, random_state = 0)"
   ],
   "metadata": {
    "collapsed": false,
    "pycharm": {
     "name": "#%%\n",
     "is_executing": false
    }
   }
  },
  {
   "cell_type": "code",
   "execution_count": 17,
   "outputs": [
    {
     "name": "stdout",
     "text": [
      "X_train: (32949, 60)\nX_test: (8238, 60)\ny_train: (32949,)\ny_test: (8238,)\n"
     ],
     "output_type": "stream"
    }
   ],
   "source": [
    "# print the shape of all the train and test data\n",
    "print('X_train:', X_train.shape)\n",
    "print('X_test:', X_test.shape)\n",
    "print('y_train:', y_train.shape)\n",
    "print('y_test:', y_test.shape)\n"
   ],
   "metadata": {
    "collapsed": false,
    "pycharm": {
     "name": "#%%\n",
     "is_executing": false
    }
   }
  }
 ],
 "metadata": {
  "language_info": {
   "codemirror_mode": {
    "name": "ipython",
    "version": 2
   },
   "file_extension": ".py",
   "mimetype": "text/x-python",
   "name": "python",
   "nbconvert_exporter": "python",
   "pygments_lexer": "ipython2",
   "version": "2.7.6"
  },
  "kernelspec": {
   "name": "python3",
   "language": "python",
   "display_name": "Python 3"
  },
  "pycharm": {
   "stem_cell": {
    "cell_type": "raw",
    "source": [],
    "metadata": {
     "collapsed": false
    }
   }
  }
 },
 "nbformat": 4,
 "nbformat_minor": 0
}
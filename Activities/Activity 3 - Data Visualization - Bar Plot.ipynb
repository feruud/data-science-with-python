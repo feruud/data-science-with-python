{
 "cells": [
  {
   "cell_type": "code",
   "execution_count": 25,
   "metadata": {
    "collapsed": true,
    "pycharm": {
     "is_executing": false
    }
   },
   "outputs": [],
   "source": [
    "#import and set data\n",
    "import matplotlib.pyplot as plt\n",
    "\n",
    "nba_franchises = ['Boston Celtics', 'LA Lakers', 'Golden State Warriors', 'Chicago Bulls' , 'San Antonio Spurs']\n",
    "number_of_titles = [17, 16, 6, 6, 5]"
   ]
  },
  {
   "cell_type": "code",
   "execution_count": 26,
   "outputs": [
    {
     "data": {
      "text/plain": "                   Teams  Titles\n0         Boston Celtics      17\n1              LA Lakers      16\n2  Golden State Warriors       6\n3          Chicago Bulls       6\n4      San Antonio Spurs       5",
      "text/html": "<div>\n<style scoped>\n    .dataframe tbody tr th:only-of-type {\n        vertical-align: middle;\n    }\n\n    .dataframe tbody tr th {\n        vertical-align: top;\n    }\n\n    .dataframe thead th {\n        text-align: right;\n    }\n</style>\n<table border=\"1\" class=\"dataframe\">\n  <thead>\n    <tr style=\"text-align: right;\">\n      <th></th>\n      <th>Teams</th>\n      <th>Titles</th>\n    </tr>\n  </thead>\n  <tbody>\n    <tr>\n      <th>0</th>\n      <td>Boston Celtics</td>\n      <td>17</td>\n    </tr>\n    <tr>\n      <th>1</th>\n      <td>LA Lakers</td>\n      <td>16</td>\n    </tr>\n    <tr>\n      <th>2</th>\n      <td>Golden State Warriors</td>\n      <td>6</td>\n    </tr>\n    <tr>\n      <th>3</th>\n      <td>Chicago Bulls</td>\n      <td>6</td>\n    </tr>\n    <tr>\n      <th>4</th>\n      <td>San Antonio Spurs</td>\n      <td>5</td>\n    </tr>\n  </tbody>\n</table>\n</div>"
     },
     "metadata": {},
     "output_type": "execute_result",
     "execution_count": 26
    }
   ],
   "source": [
    "# Create a Data Frame with the data\n",
    "import pandas as pd\n",
    "df = pd.DataFrame({'Teams': nba_franchises, 'Titles': number_of_titles})\n",
    "df.sort_values(by = 'Titles', ascending = False, inplace = True, )\n",
    "df"
   ],
   "metadata": {
    "collapsed": false,
    "pycharm": {
     "name": "#%%\n",
     "is_executing": false
    }
   }
  },
  {
   "cell_type": "code",
   "execution_count": 27,
   "outputs": [],
   "source": [
    "# Make a programmatic title\n",
    "max_titles = df.Titles[0]\n",
    "max_name = df.Teams[0]\n",
    "title = 'The NBA {} Franchise has {} Championships'.format(max_name, max_titles)"
   ],
   "metadata": {
    "collapsed": false,
    "pycharm": {
     "name": "#%%\n",
     "is_executing": false
    }
   }
  },
  {
   "cell_type": "code",
   "execution_count": 29,
   "outputs": [
    {
     "data": {
      "text/plain": "<Figure size 432x288 with 1 Axes>",
      "image/png": "[encoded data removed]"
     },
     "metadata": {
      "needs_background": "light"
     },
     "output_type": "display_data"
    }
   ],
   "source": [
    "plt.bar(df.Teams, df.Titles, color = 'Red')\n",
    "plt.title(title)\n",
    "plt.xlabel('Team')\n",
    "plt.ylabel('Number of Championships')\n",
    "plt.xticks(rotation = 45)\n",
    "plt.savefig('Titles_by_team')\n",
    "plt.show()"
   ],
   "metadata": {
    "collapsed": false,
    "pycharm": {
     "name": "#%%\n",
     "is_executing": false
    }
   }
  },
  {
   "cell_type": "code",
   "execution_count": null,
   "outputs": [],
   "source": [
    "\n"
   ],
   "metadata": {
    "collapsed": false,
    "pycharm": {
     "name": "#%%\n"
    }
   }
  }
 ],
 "metadata": {
  "kernelspec": {
   "display_name": "Python 3",
   "language": "python",
   "name": "python3"
  },
  "language_info": {
   "codemirror_mode": {
    "name": "ipython",
    "version": 2
   },
   "file_extension": ".py",
   "mimetype": "text/x-python",
   "name": "python",
   "nbconvert_exporter": "python",
   "pygments_lexer": "ipython2",
   "version": "2.7.6"
  },
  "pycharm": {
   "stem_cell": {
    "cell_type": "raw",
    "source": [],
    "metadata": {
     "collapsed": false
    }
   }
  }
 },
 "nbformat": 4,
 "nbformat_minor": 0
}
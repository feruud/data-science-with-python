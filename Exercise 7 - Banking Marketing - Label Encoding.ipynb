{
 "cells": [
  {
   "cell_type": "code",
   "execution_count": 1,
   "metadata": {
    "collapsed": true,
    "pycharm": {
     "is_executing": false
    }
   },
   "outputs": [],
   "source": [
    "#import pandas, numpy and load data set\n",
    "import pandas as pd\n",
    "import numpy as np\n",
    "\n",
    "dataset = 'data/Banking_Marketing.csv'\n",
    "\n",
    "df = pd.read_csv(dataset, header = 0)"
   ]
  },
  {
   "cell_type": "code",
   "execution_count": 3,
   "outputs": [],
   "source": [
    "# remove the NA values from the data frame\n",
    "df.dropna(inplace = True)\n"
   ],
   "metadata": {
    "collapsed": false,
    "pycharm": {
     "name": "#%%\n",
     "is_executing": false
    }
   }
  },
  {
   "cell_type": "code",
   "execution_count": 5,
   "outputs": [
    {
     "data": {
      "text/plain": "Index(['job', 'marital', 'education', 'default', 'housing', 'loan', 'contact',\n       'month', 'day_of_week', 'poutcome'],\n      dtype='object')"
     },
     "metadata": {},
     "output_type": "execute_result",
     "execution_count": 5
    }
   ],
   "source": [
    "# get all the categorical columns of the data frame \n",
    "data_column_category = df.select_dtypes(exclude = [np.number]).columns\n",
    "data_column_category"
   ],
   "metadata": {
    "collapsed": false,
    "pycharm": {
     "name": "#%%\n",
     "is_executing": false
    }
   }
  },
  {
   "cell_type": "code",
   "execution_count": 7,
   "outputs": [
    {
     "data": {
      "text/plain": "           job  marital          education  default housing loan   contact  \\\n0  blue-collar  married           basic.4y  unknown     yes   no  cellular   \n1   technician  married            unknown       no      no   no  cellular   \n2   management   single  university.degree       no     yes   no  cellular   \n3     services  married        high.school       no      no   no  cellular   \n4      retired  married           basic.4y       no     yes   no  cellular   \n\n  month day_of_week     poutcome  \n0   aug         thu  nonexistent  \n1   nov         fri  nonexistent  \n2   jun         thu      success  \n3   apr         fri  nonexistent  \n4   aug         fri      success  ",
      "text/html": "<div>\n<style scoped>\n    .dataframe tbody tr th:only-of-type {\n        vertical-align: middle;\n    }\n\n    .dataframe tbody tr th {\n        vertical-align: top;\n    }\n\n    .dataframe thead th {\n        text-align: right;\n    }\n</style>\n<table border=\"1\" class=\"dataframe\">\n  <thead>\n    <tr style=\"text-align: right;\">\n      <th></th>\n      <th>job</th>\n      <th>marital</th>\n      <th>education</th>\n      <th>default</th>\n      <th>housing</th>\n      <th>loan</th>\n      <th>contact</th>\n      <th>month</th>\n      <th>day_of_week</th>\n      <th>poutcome</th>\n    </tr>\n  </thead>\n  <tbody>\n    <tr>\n      <th>0</th>\n      <td>blue-collar</td>\n      <td>married</td>\n      <td>basic.4y</td>\n      <td>unknown</td>\n      <td>yes</td>\n      <td>no</td>\n      <td>cellular</td>\n      <td>aug</td>\n      <td>thu</td>\n      <td>nonexistent</td>\n    </tr>\n    <tr>\n      <th>1</th>\n      <td>technician</td>\n      <td>married</td>\n      <td>unknown</td>\n      <td>no</td>\n      <td>no</td>\n      <td>no</td>\n      <td>cellular</td>\n      <td>nov</td>\n      <td>fri</td>\n      <td>nonexistent</td>\n    </tr>\n    <tr>\n      <th>2</th>\n      <td>management</td>\n      <td>single</td>\n      <td>university.degree</td>\n      <td>no</td>\n      <td>yes</td>\n      <td>no</td>\n      <td>cellular</td>\n      <td>jun</td>\n      <td>thu</td>\n      <td>success</td>\n    </tr>\n    <tr>\n      <th>3</th>\n      <td>services</td>\n      <td>married</td>\n      <td>high.school</td>\n      <td>no</td>\n      <td>no</td>\n      <td>no</td>\n      <td>cellular</td>\n      <td>apr</td>\n      <td>fri</td>\n      <td>nonexistent</td>\n    </tr>\n    <tr>\n      <th>4</th>\n      <td>retired</td>\n      <td>married</td>\n      <td>basic.4y</td>\n      <td>no</td>\n      <td>yes</td>\n      <td>no</td>\n      <td>cellular</td>\n      <td>aug</td>\n      <td>fri</td>\n      <td>success</td>\n    </tr>\n  </tbody>\n</table>\n</div>"
     },
     "metadata": {},
     "output_type": "execute_result",
     "execution_count": 7
    }
   ],
   "source": [
    "# print the first five rows of the data frame's categorical columns\n",
    "df[data_column_category].head()"
   ],
   "metadata": {
    "collapsed": false,
    "pycharm": {
     "name": "#%%\n",
     "is_executing": false
    }
   }
  },
  {
   "cell_type": "code",
   "execution_count": 9,
   "outputs": [
    {
     "name": "stdout",
     "text": [
      "Label Encoded Data:\n"
     ],
     "output_type": "stream"
    },
    {
     "data": {
      "text/plain": "   job  marital  education  default  housing  loan  contact  month  \\\n0    1        1          0        1        2     0        0      1   \n1    9        1          7        0        0     0        0      7   \n2    4        2          6        0        2     0        0      4   \n3    7        1          3        0        0     0        0      0   \n4    5        1          0        0        2     0        0      1   \n\n   day_of_week  poutcome  \n0            2         1  \n1            0         1  \n2            2         2  \n3            0         1  \n4            0         2  ",
      "text/html": "<div>\n<style scoped>\n    .dataframe tbody tr th:only-of-type {\n        vertical-align: middle;\n    }\n\n    .dataframe tbody tr th {\n        vertical-align: top;\n    }\n\n    .dataframe thead th {\n        text-align: right;\n    }\n</style>\n<table border=\"1\" class=\"dataframe\">\n  <thead>\n    <tr style=\"text-align: right;\">\n      <th></th>\n      <th>job</th>\n      <th>marital</th>\n      <th>education</th>\n      <th>default</th>\n      <th>housing</th>\n      <th>loan</th>\n      <th>contact</th>\n      <th>month</th>\n      <th>day_of_week</th>\n      <th>poutcome</th>\n    </tr>\n  </thead>\n  <tbody>\n    <tr>\n      <th>0</th>\n      <td>1</td>\n      <td>1</td>\n      <td>0</td>\n      <td>1</td>\n      <td>2</td>\n      <td>0</td>\n      <td>0</td>\n      <td>1</td>\n      <td>2</td>\n      <td>1</td>\n    </tr>\n    <tr>\n      <th>1</th>\n      <td>9</td>\n      <td>1</td>\n      <td>7</td>\n      <td>0</td>\n      <td>0</td>\n      <td>0</td>\n      <td>0</td>\n      <td>7</td>\n      <td>0</td>\n      <td>1</td>\n    </tr>\n    <tr>\n      <th>2</th>\n      <td>4</td>\n      <td>2</td>\n      <td>6</td>\n      <td>0</td>\n      <td>2</td>\n      <td>0</td>\n      <td>0</td>\n      <td>4</td>\n      <td>2</td>\n      <td>2</td>\n    </tr>\n    <tr>\n      <th>3</th>\n      <td>7</td>\n      <td>1</td>\n      <td>3</td>\n      <td>0</td>\n      <td>0</td>\n      <td>0</td>\n      <td>0</td>\n      <td>0</td>\n      <td>0</td>\n      <td>1</td>\n    </tr>\n    <tr>\n      <th>4</th>\n      <td>5</td>\n      <td>1</td>\n      <td>0</td>\n      <td>0</td>\n      <td>2</td>\n      <td>0</td>\n      <td>0</td>\n      <td>1</td>\n      <td>0</td>\n      <td>2</td>\n    </tr>\n  </tbody>\n</table>\n</div>"
     },
     "metadata": {},
     "output_type": "execute_result",
     "execution_count": 9
    }
   ],
   "source": [
    "# import the label encoder class\n",
    "from sklearn.preprocessing import LabelEncoder\n",
    "\n",
    "# create the object instance\n",
    "label_encoder = LabelEncoder()\n",
    "\n",
    "for i in data_column_category:\n",
    "    df[i] = label_encoder.fit_transform(df[i])\n",
    "\n",
    "print('Label Encoded Data:')\n",
    "\n",
    "df[data_column_category].head()"
   ],
   "metadata": {
    "collapsed": false,
    "pycharm": {
     "name": "#%%\n",
     "is_executing": false
    }
   }
  },
  {
   "cell_type": "code",
   "execution_count": null,
   "outputs": [],
   "source": [
    "\n"
   ],
   "metadata": {
    "collapsed": false,
    "pycharm": {
     "name": "#%%\n"
    }
   }
  }
 ],
 "metadata": {
  "language_info": {
   "codemirror_mode": {
    "name": "ipython",
    "version": 2
   },
   "file_extension": ".py",
   "mimetype": "text/x-python",
   "name": "python",
   "nbconvert_exporter": "python",
   "pygments_lexer": "ipython2",
   "version": "2.7.6"
  },
  "kernelspec": {
   "name": "python3",
   "language": "python",
   "display_name": "Python 3"
  },
  "pycharm": {
   "stem_cell": {
    "cell_type": "raw",
    "source": [],
    "metadata": {
     "collapsed": false
    }
   }
  }
 },
 "nbformat": 4,
 "nbformat_minor": 0
}